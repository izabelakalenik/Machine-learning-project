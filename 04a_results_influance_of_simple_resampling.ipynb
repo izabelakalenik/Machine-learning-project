{
 "cells": [
  {
   "cell_type": "code",
   "outputs": [],
   "source": [
    "import pandas as pd\n",
    "from scipy.stats import wilcoxon"
   ],
   "metadata": {
    "collapsed": false,
    "ExecuteTime": {
     "end_time": "2025-06-01T20:24:54.172459Z",
     "start_time": "2025-06-01T20:24:54.166888Z"
    }
   },
   "id": "d62d8c59621daa46",
   "execution_count": 12
  },
  {
   "cell_type": "code",
   "outputs": [],
   "source": [
    "def run_wilcoxon_test(csv_before, csv_after, model_name):\n",
    "    df_before = pd.read_csv(csv_before)\n",
    "    df_after = pd.read_csv(csv_after)\n",
    "\n",
    "    print(f\"=== Wilcoxon Signed-Rank Test for {model_name} ===\\n\")\n",
    "\n",
    "    for metric in df_before.columns:\n",
    "        before = df_before[metric]\n",
    "        after = df_after[metric]\n",
    "\n",
    "        stat, p = wilcoxon(before, after, alternative='two-sided')\n",
    "\n",
    "        print(f\"Metric: {metric}\")\n",
    "        print(f\"  Test statistic: {stat:.4f}\")\n",
    "        print(f\"  p-value: {p:.4f}\")\n",
    "\n",
    "        if p < 0.05:\n",
    "            print(\"Statistically significant difference.\")\n",
    "        else:\n",
    "            print(\"No statistically significant difference.\")\n",
    "        print()"
   ],
   "metadata": {
    "collapsed": false,
    "ExecuteTime": {
     "end_time": "2025-06-01T20:24:54.182080Z",
     "start_time": "2025-06-01T20:24:54.175449Z"
    }
   },
   "id": "4321e7438ff89821",
   "execution_count": 13
  },
  {
   "cell_type": "code",
   "outputs": [],
   "source": [
    "import pandas as pd\n",
    "from scipy.stats import wilcoxon\n",
    "\n",
    "def run_wilcoxon_test2(csv_before, csv_after, model_name):\n",
    "    df_before = pd.read_csv(csv_before)\n",
    "    df_after = pd.read_csv(csv_after)\n",
    "\n",
    "    print(f\"=== Wilcoxon Signed-Rank Test for {model_name} ===\\n\")\n",
    "\n",
    "    for metric in df_before.columns:\n",
    "        before = df_before[metric]\n",
    "        after = df_after[metric]\n",
    "\n",
    "        if len(before) != len(after):\n",
    "            print(f\"Skipping {metric} – unequal lengths.\")\n",
    "            continue\n",
    "\n",
    "        print(f\"Metric: {metric}\")\n",
    "        print(f\"  Values BEFORE: {before.values}\")\n",
    "        print(f\"  Values AFTER : {after.values}\")\n",
    "\n",
    "        try:\n",
    "            stat, p = wilcoxon(before, after, alternative='two-sided')\n",
    "            print(f\"  Test statistic: {stat:.4f}\")\n",
    "            print(f\"  p-value: {p:.4f}\")\n",
    "\n",
    "            if p < 0.05:\n",
    "                print(\"  ✅ Statistically significant difference.\")\n",
    "            else:\n",
    "                print(\"  ❌ No statistically significant difference.\")\n",
    "        except ValueError as e:\n",
    "            print(f\"  Could not compute Wilcoxon for {metric}: {e}\")\n",
    "        print()\n"
   ],
   "metadata": {
    "collapsed": false,
    "ExecuteTime": {
     "end_time": "2025-06-01T20:24:54.191805Z",
     "start_time": "2025-06-01T20:24:54.184070Z"
    }
   },
   "id": "ced13365bd812d6b",
   "execution_count": 14
  },
  {
   "cell_type": "markdown",
   "source": [
    "# Regression"
   ],
   "metadata": {
    "collapsed": false
   },
   "id": "cd6db1a44c67c74a"
  },
  {
   "cell_type": "code",
   "outputs": [
    {
     "name": "stdout",
     "output_type": "stream",
     "text": [
      "=== Wilcoxon Signed-Rank Test for SVM ===\n",
      "\n",
      "Metric: MAE\n",
      "  Values BEFORE: [7.41312995 8.70832577 5.71051775 8.58182842 8.65899444 6.40285989\n",
      " 6.01273858 7.26175136 6.88138969 7.85707292]\n",
      "  Values AFTER : [5.85834047 6.46285381 7.63145296 7.94318166 6.08787581 6.32799783\n",
      " 7.50406013 6.29945558 8.69552085 6.26401142]\n",
      "  Test statistic: 19.0000\n",
      "  p-value: 0.4316\n",
      "  ❌ No statistically significant difference.\n",
      "\n",
      "Metric: RMSE\n",
      "  Values BEFORE: [19.5837638  35.7955423  12.30392317 21.97960549 41.43124672 24.7061999\n",
      " 11.28490252 21.867351   24.24518249 24.7758711 ]\n",
      "  Values AFTER : [38.30315837 34.18525579 41.27581248 45.84840985 35.0479071  32.07369797\n",
      " 44.21192563 37.28575722 48.88236178 33.94745064]\n",
      "  Test statistic: 3.0000\n",
      "  p-value: 0.0098\n",
      "  ✅ Statistically significant difference.\n",
      "\n",
      "Metric: R2\n",
      "  Values BEFORE: [0.49314609 0.22453251 0.70160318 0.45632369 0.17190444 0.36771562\n",
      " 0.74090977 0.43473524 0.37126939 0.38430044]\n",
      "  Values AFTER : [0.47238594 0.54605998 0.47690094 0.42433058 0.52795897 0.56643478\n",
      " 0.43854224 0.49156979 0.41341386 0.54588696]\n",
      "  Test statistic: 18.0000\n",
      "  p-value: 0.3750\n",
      "  ❌ No statistically significant difference.\n"
     ]
    }
   ],
   "source": [
    "# svm\n",
    "\n",
    "run_wilcoxon_test2(\n",
    "    \"3a_regression_no_resample_SVR.csv\",\n",
    "    \"3b_regression_simple_resample_SVR.csv\",\n",
    "    \"SVM\"\n",
    ")\n"
   ],
   "metadata": {
    "collapsed": false,
    "ExecuteTime": {
     "end_time": "2025-06-01T20:24:54.231744Z",
     "start_time": "2025-06-01T20:24:54.216510Z"
    }
   },
   "id": "ddbf983046350e50",
   "execution_count": 15
  },
  {
   "cell_type": "code",
   "outputs": [
    {
     "name": "stdout",
     "output_type": "stream",
     "text": [
      "=== Wilcoxon Signed-Rank Test for KNN ===\n",
      "\n",
      "Metric: MAE\n",
      "  Values BEFORE: [7.48062352 8.03448849 5.45212392 6.99238976 8.00698131 6.37144817\n",
      " 5.82380937 6.38296506 6.09445574 6.86932174]\n",
      "  Values AFTER : [0.7968201  0.83558545 0.79409441 0.87454329 0.8090399  0.78364206\n",
      " 0.87093544 0.82990842 0.81754102 0.83999174]\n",
      "  Test statistic: 0.0000\n",
      "  p-value: 0.0020\n",
      "  ✅ Statistically significant difference.\n",
      "\n",
      "Metric: RMSE\n",
      "  Values BEFORE: [17.45272908 25.02106627 10.10088048 14.13294886 34.96282069 20.76524989\n",
      "  8.46017765 14.89654491 15.57328558 16.71920987]\n",
      "  Values AFTER : [1.87900948 2.21332038 1.94999154 2.13433635 1.82717693 1.81719126\n",
      " 2.02992435 2.00637866 2.00529929 1.9173503 ]\n",
      "  Test statistic: 0.0000\n",
      "  p-value: 0.0020\n",
      "  ✅ Statistically significant difference.\n",
      "\n",
      "Metric: R2\n",
      "  Values BEFORE: [0.59745246 0.62110635 0.79889381 0.77521558 0.41029151 0.55334225\n",
      " 0.85438223 0.73768045 0.74059748 0.71962294]\n",
      "  Values AFTER : [0.99873029 0.99809713 0.9988325  0.99875247 0.99871703 0.99860826\n",
      " 0.99881642 0.99852779 0.99901284 0.99855139]\n",
      "  Test statistic: 0.0000\n",
      "  p-value: 0.0020\n",
      "  ✅ Statistically significant difference.\n"
     ]
    }
   ],
   "source": [
    "# knn\n",
    "\n",
    "run_wilcoxon_test2(\n",
    "    \"3a_regression_no_resample_KNN.csv\",\n",
    "    \"3b_regression_simple_resample_KNN.csv\",\n",
    "    \"KNN\"\n",
    ")"
   ],
   "metadata": {
    "collapsed": false,
    "ExecuteTime": {
     "end_time": "2025-06-01T20:24:54.247Z",
     "start_time": "2025-06-01T20:24:54.233731Z"
    }
   },
   "id": "ba9e3a29b23a4ff",
   "execution_count": 16
  },
  {
   "cell_type": "code",
   "outputs": [
    {
     "name": "stdout",
     "output_type": "stream",
     "text": [
      "=== Wilcoxon Signed-Rank Test for Decision Tree ===\n",
      "\n",
      "Metric: MAE\n",
      "  Values BEFORE: [8.77181058 7.41643207 6.05169234 7.37747352 8.05422348 5.99301625\n",
      " 5.56509307 6.61795412 6.26115135 7.26685145]\n",
      "  Values AFTER : [0.22799019 0.23338395 0.21636508 0.22824545 0.21073824 0.22720004\n",
      " 0.2364333  0.20558537 0.19771249 0.22234961]\n",
      "  Test statistic: 0.0000\n",
      "  p-value: 0.0020\n",
      "  ✅ Statistically significant difference.\n",
      "\n",
      "Metric: RMSE\n",
      "  Values BEFORE: [37.88254441 19.42097738 13.00101404 19.00353787 35.14145323 17.33883281\n",
      " 12.50037774 18.32722762 21.27555836 34.25752204]\n",
      "  Values AFTER : [0.83536218 0.88006832 0.829315   0.89340119 0.8171202  0.88478606\n",
      " 0.88177555 0.79766026 0.78210913 0.87023558]\n",
      "  Test statistic: 0.0000\n",
      "  p-value: 0.0020\n",
      "  ✅ Statistically significant difference.\n",
      "\n",
      "Metric: R2\n",
      "  Values BEFORE: [-0.8965695   0.77173051  0.66683343  0.59358517  0.40425022  0.68858447\n",
      "  0.68209183  0.60294277  0.51585481 -0.17712577]\n",
      "  Values AFTER : [0.99974904 0.99969915 0.99978883 0.99978142 0.99974342 0.99967006\n",
      " 0.99977667 0.99976731 0.99984984 0.99970158]\n",
      "  Test statistic: 0.0000\n",
      "  p-value: 0.0020\n",
      "  ✅ Statistically significant difference.\n"
     ]
    }
   ],
   "source": [
    "# Decision Tree\n",
    "\n",
    "run_wilcoxon_test2(\n",
    "    \"3a_regression_no_resample_DT.csv\",\n",
    "    \"3b_regression_simple_resample_DT.csv\",\n",
    "    \"Decision Tree\"\n",
    ")"
   ],
   "metadata": {
    "collapsed": false,
    "ExecuteTime": {
     "end_time": "2025-06-01T20:24:54.260014Z",
     "start_time": "2025-06-01T20:24:54.247995Z"
    }
   },
   "id": "98267e4a3b498b25",
   "execution_count": 17
  },
  {
   "cell_type": "code",
   "outputs": [
    {
     "name": "stdout",
     "output_type": "stream",
     "text": [
      "=== Wilcoxon Signed-Rank Test for MLP ===\n",
      "\n",
      "Metric: MAE\n",
      "  Values BEFORE: [5.96696717 6.78838135 4.93859358 6.196451   6.20319591 5.38578873\n",
      " 4.60520921 5.87495689 5.39477737 5.90558898]\n",
      "  Values AFTER : [1.96801    1.94522376 2.13412556 2.00383003 1.96198738 2.11660391\n",
      " 2.05496303 2.24822806 1.98087501 2.41227782]\n",
      "  Test statistic: 0.0000\n",
      "  p-value: 0.0020\n",
      "  ✅ Statistically significant difference.\n",
      "\n",
      "Metric: RMSE\n",
      "  Values BEFORE: [15.06240694 25.20373694  9.90725798 12.69713022 31.87128395 17.69091372\n",
      "  7.72316772 14.71226265 15.91726799 14.42429179]\n",
      "  Values AFTER : [2.66244948 2.91158239 3.25032118 2.75399813 2.77792773 3.07847421\n",
      " 2.97344934 3.18976017 3.38212784 3.45125996]\n",
      "  Test statistic: 0.0000\n",
      "  p-value: 0.0020\n",
      "  ✅ Statistically significant difference.\n",
      "\n",
      "Metric: R2\n",
      "  Values BEFORE: [0.70016714 0.61555379 0.80652988 0.81856888 0.50996898 0.67580891\n",
      " 0.87864817 0.74413052 0.72901157 0.7913108 ]\n",
      "  Values AFTER : [0.99745076 0.9967071  0.99675627 0.99792293 0.9970345  0.99600582\n",
      " 0.99746044 0.99627898 0.99719193 0.99530641]\n",
      "  Test statistic: 0.0000\n",
      "  p-value: 0.0020\n",
      "  ✅ Statistically significant difference.\n"
     ]
    }
   ],
   "source": [
    "# mlp\n",
    "\n",
    "run_wilcoxon_test2(\n",
    "    \"3a_regression_no_resample_MLP.csv\",\n",
    "    \"3b_regression_simple_resample_MLP.csv\",\n",
    "    \"MLP\"\n",
    ")"
   ],
   "metadata": {
    "collapsed": false,
    "ExecuteTime": {
     "end_time": "2025-06-01T20:24:54.273645Z",
     "start_time": "2025-06-01T20:24:54.261011Z"
    }
   },
   "id": "8c90aae874bb7741",
   "execution_count": 18
  },
  {
   "cell_type": "markdown",
   "source": [
    "# Classification"
   ],
   "metadata": {
    "collapsed": false
   },
   "id": "a81833db4424a725"
  },
  {
   "cell_type": "code",
   "outputs": [
    {
     "name": "stdout",
     "output_type": "stream",
     "text": [
      "=== Wilcoxon Signed-Rank Test for SVM ===\n",
      "\n",
      "Metric: acc\n",
      "  Values BEFORE: [0.68333333 0.67083333 0.6875     0.63125    0.68125    0.68125\n",
      " 0.68541667 0.67916667 0.69375    0.69375   ]\n",
      "  Values AFTER : [0.66060904 0.66699411 0.66257367 0.65324165 0.66011788 0.66159136\n",
      " 0.65962672 0.65618861 0.67387033 0.67829077]\n",
      "  Test statistic: 6.0000\n",
      "  p-value: 0.0273\n",
      "  ✅ Statistically significant difference.\n",
      "\n",
      "Metric: prec\n",
      "  Values BEFORE: [0.46850683 0.38532401 0.37511091 0.3445748  0.42427792 0.42602384\n",
      " 0.36801087 0.36980609 0.35715658 0.38193961]\n",
      "  Values AFTER : [0.66605446 0.67585088 0.6711536  0.66296722 0.6752907  0.66528915\n",
      " 0.66580718 0.6605424  0.6738258  0.68483931]\n",
      "  Test statistic: 0.0000\n",
      "  p-value: 0.0020\n",
      "  ✅ Statistically significant difference.\n",
      "\n",
      "Metric: rec\n",
      "  Values BEFORE: [0.42560431 0.39289006 0.38364257 0.33538005 0.40103624 0.42771889\n",
      " 0.41519201 0.3908697  0.38148296 0.37532626]\n",
      "  Values AFTER : [0.6590192  0.66624517 0.66501143 0.65350707 0.66434812 0.66272088\n",
      " 0.66140323 0.6560544  0.67006027 0.67634537]\n",
      "  Test statistic: 0.0000\n",
      "  p-value: 0.0020\n",
      "  ✅ Statistically significant difference.\n",
      "\n",
      "Metric: f1\n",
      "  Values BEFORE: [0.43185202 0.38749193 0.36266975 0.33127341 0.39141591 0.41838383\n",
      " 0.36495693 0.37412592 0.36328563 0.37625002]\n",
      "  Values AFTER : [0.66085243 0.66956135 0.66629495 0.65611793 0.66723237 0.65914001\n",
      " 0.66091921 0.6563851  0.66974873 0.67835209]\n",
      "  Test statistic: 0.0000\n",
      "  p-value: 0.0020\n",
      "  ✅ Statistically significant difference.\n"
     ]
    }
   ],
   "source": [
    "# svm\n",
    "\n",
    "run_wilcoxon_test2(\n",
    "    \"2a_classification_no_resample_SVC.csv\",\n",
    "    \"2b_classification_simple_resample_SVC.csv\",\n",
    "    \"SVM\"\n",
    ")"
   ],
   "metadata": {
    "collapsed": false,
    "ExecuteTime": {
     "end_time": "2025-06-01T20:24:54.288908Z",
     "start_time": "2025-06-01T20:24:54.274646Z"
    }
   },
   "id": "87ab5c74879bdb61",
   "execution_count": 19
  },
  {
   "cell_type": "code",
   "outputs": [
    {
     "name": "stdout",
     "output_type": "stream",
     "text": [
      "=== Wilcoxon Signed-Rank Test for KNN ===\n",
      "\n",
      "Metric: acc\n",
      "  Values BEFORE: [0.575      0.56875    0.62291667 0.58125    0.55625    0.58125\n",
      " 0.5625     0.58541667 0.6        0.60416667]\n",
      "  Values AFTER : [0.89833006 0.8845776  0.9002947  0.89882122 0.89931238 0.90766208\n",
      " 0.89390963 0.89440079 0.89931238 0.91257367]\n",
      "  Test statistic: 0.0000\n",
      "  p-value: 0.0020\n",
      "  ✅ Statistically significant difference.\n",
      "\n",
      "Metric: prec\n",
      "  Values BEFORE: [0.39468687 0.34621439 0.39503158 0.32724418 0.30643721 0.45298992\n",
      " 0.31655537 0.33724756 0.32669492 0.37131077]\n",
      "  Values AFTER : [0.90068461 0.88082071 0.89818292 0.89730693 0.89758435 0.90018354\n",
      " 0.89318116 0.89189231 0.89542306 0.91418781]\n",
      "  Test statistic: 0.0000\n",
      "  p-value: 0.0020\n",
      "  ✅ Statistically significant difference.\n",
      "\n",
      "Metric: rec\n",
      "  Values BEFORE: [0.34502789 0.31514886 0.3450748  0.32024551 0.28477988 0.3354685\n",
      " 0.30402106 0.31407672 0.31053364 0.32621119]\n",
      "  Values AFTER : [0.90008527 0.88381982 0.89919545 0.90058926 0.89957458 0.90232493\n",
      " 0.89791131 0.8936896  0.89665605 0.91487365]\n",
      "  Test statistic: 0.0000\n",
      "  p-value: 0.0020\n",
      "  ✅ Statistically significant difference.\n",
      "\n",
      "Metric: f1\n",
      "  Values BEFORE: [0.35292532 0.32659796 0.35520767 0.32212421 0.2925562  0.36915927\n",
      " 0.3034836  0.3176082  0.31455676 0.34111267]\n",
      "  Values AFTER : [0.89988994 0.8811741  0.89831416 0.89865447 0.89832942 0.90100186\n",
      " 0.89485053 0.89260853 0.89526358 0.91439974]\n",
      "  Test statistic: 0.0000\n",
      "  p-value: 0.0020\n",
      "  ✅ Statistically significant difference.\n"
     ]
    }
   ],
   "source": [
    "# knn\n",
    "\n",
    "run_wilcoxon_test2(\n",
    "    \"2a_classification_no_resample_KNN.csv\",\n",
    "    \"2b_classification_simple_resample_KNN.csv\",\n",
    "    \"KNN\"\n",
    ")"
   ],
   "metadata": {
    "collapsed": false,
    "ExecuteTime": {
     "end_time": "2025-06-01T20:24:54.304924Z",
     "start_time": "2025-06-01T20:24:54.290901Z"
    }
   },
   "id": "36aaf7742b28e9c9",
   "execution_count": 20
  },
  {
   "cell_type": "code",
   "outputs": [
    {
     "name": "stdout",
     "output_type": "stream",
     "text": [
      "=== Wilcoxon Signed-Rank Test for DT ===\n",
      "\n",
      "Metric: acc\n",
      "  Values BEFORE: [0.62708333 0.68541667 0.65416667 0.64375    0.62916667 0.67083333\n",
      " 0.68125    0.64375    0.6625     0.65833333]\n",
      "  Values AFTER : [0.97642436 0.97937132 0.97544204 0.97642436 0.98182711 0.98526523\n",
      " 0.96856582 0.97789784 0.97937132 0.97789784]\n",
      "  Test statistic: 0.0000\n",
      "  p-value: 0.0020\n",
      "  ✅ Statistically significant difference.\n",
      "\n",
      "Metric: prec\n",
      "  Values BEFORE: [0.40052189 0.45408946 0.42616583 0.41840351 0.411961   0.37676859\n",
      " 0.40678991 0.38076014 0.39603301 0.42605216]\n",
      "  Values AFTER : [0.97749581 0.9791211  0.97532309 0.97780914 0.98232868 0.9844248\n",
      " 0.96920043 0.97778357 0.98006477 0.97860322]\n",
      "  Test statistic: 0.0000\n",
      "  p-value: 0.0020\n",
      "  ✅ Statistically significant difference.\n",
      "\n",
      "Metric: rec\n",
      "  Values BEFORE: [0.39270738 0.45374814 0.44783125 0.39683203 0.36899766 0.36740798\n",
      " 0.41518692 0.37702162 0.39364635 0.39251771]\n",
      "  Values AFTER : [0.9769004  0.97899291 0.97447417 0.97685598 0.98130971 0.98451084\n",
      " 0.97006335 0.97766317 0.9789943  0.97849229]\n",
      "  Test statistic: 0.0000\n",
      "  p-value: 0.0020\n",
      "  ✅ Statistically significant difference.\n",
      "\n",
      "Metric: f1\n",
      "  Values BEFORE: [0.39448252 0.45290836 0.42816667 0.40240611 0.38559636 0.37132761\n",
      " 0.39888213 0.3750679  0.39255104 0.40004339]\n",
      "  Values AFTER : [0.97688522 0.97899499 0.97452732 0.97695901 0.98142855 0.98439437\n",
      " 0.96943067 0.9775897  0.97911277 0.97848227]\n",
      "  Test statistic: 0.0000\n",
      "  p-value: 0.0020\n",
      "  ✅ Statistically significant difference.\n"
     ]
    }
   ],
   "source": [
    "# dt\n",
    "\n",
    "run_wilcoxon_test2(\n",
    "    \"2a_classification_no_resample_DT.csv\",\n",
    "    \"2b_classification_simple_resample_DT.csv\",\n",
    "    \"DT\"\n",
    ")"
   ],
   "metadata": {
    "collapsed": false,
    "ExecuteTime": {
     "end_time": "2025-06-01T20:24:54.319090Z",
     "start_time": "2025-06-01T20:24:54.305870Z"
    }
   },
   "id": "31112c8cb66a693c",
   "execution_count": 21
  },
  {
   "cell_type": "code",
   "outputs": [
    {
     "name": "stdout",
     "output_type": "stream",
     "text": [
      "=== Wilcoxon Signed-Rank Test for MLP ===\n",
      "\n",
      "Metric: acc\n",
      "  Values BEFORE: [0.7        0.73333333 0.69583333 0.7125     0.6875     0.7125\n",
      " 0.69166667 0.725      0.73125    0.73541667]\n",
      "  Values AFTER : [0.86394892 0.87573674 0.86886051 0.86444008 0.87131631 0.89685658\n",
      " 0.87131631 0.87966601 0.89685658 0.89685658]\n",
      "  Test statistic: 0.0000\n",
      "  p-value: 0.0020\n",
      "  ✅ Statistically significant difference.\n",
      "\n",
      "Metric: prec\n",
      "  Values BEFORE: [0.39945686 0.39700082 0.34088972 0.38240271 0.41042568 0.46123985\n",
      " 0.39817053 0.40338982 0.43706119 0.4554337 ]\n",
      "  Values AFTER : [0.86619385 0.8729429  0.87081574 0.86313239 0.8743764  0.89304277\n",
      " 0.87073872 0.8786982  0.88961477 0.89846309]\n",
      "  Test statistic: 0.0000\n",
      "  p-value: 0.0020\n",
      "  ✅ Statistically significant difference.\n",
      "\n",
      "Metric: rec\n",
      "  Values BEFORE: [0.42706485 0.4454863  0.37931611 0.40716634 0.39103116 0.47477755\n",
      " 0.43034933 0.41978532 0.45051478 0.44579267]\n",
      "  Values AFTER : [0.86617    0.87328998 0.87269896 0.86626297 0.87342414 0.89226039\n",
      " 0.8739047  0.88002496 0.89079868 0.89790476]\n",
      "  Test statistic: 0.0000\n",
      "  p-value: 0.0020\n",
      "  ✅ Statistically significant difference.\n",
      "\n",
      "Metric: f1\n",
      "  Values BEFORE: [0.4073791  0.41562502 0.3534324  0.39129944 0.38311963 0.46076196\n",
      " 0.3932489  0.38958174 0.4377032  0.44196849]\n",
      "  Values AFTER : [0.86551197 0.87230692 0.87074116 0.8620949  0.87330313 0.89182607\n",
      " 0.87190835 0.87758846 0.88961259 0.89763442]\n",
      "  Test statistic: 0.0000\n",
      "  p-value: 0.0020\n",
      "  ✅ Statistically significant difference.\n"
     ]
    }
   ],
   "source": [
    "# MLP\n",
    "\n",
    "run_wilcoxon_test2(\n",
    "    \"2a_classification_no_resample_MLP.csv\",\n",
    "    \"2b_classification_simple_resample_MLP.csv\",\n",
    "    \"MLP\"\n",
    ")"
   ],
   "metadata": {
    "collapsed": false,
    "ExecuteTime": {
     "end_time": "2025-06-01T20:24:54.335801Z",
     "start_time": "2025-06-01T20:24:54.321256Z"
    }
   },
   "id": "11e20d8699072445",
   "execution_count": 22
  }
 ],
 "metadata": {
  "kernelspec": {
   "display_name": "Python 3",
   "language": "python",
   "name": "python3"
  },
  "language_info": {
   "codemirror_mode": {
    "name": "ipython",
    "version": 2
   },
   "file_extension": ".py",
   "mimetype": "text/x-python",
   "name": "python",
   "nbconvert_exporter": "python",
   "pygments_lexer": "ipython2",
   "version": "2.7.6"
  }
 },
 "nbformat": 4,
 "nbformat_minor": 5
}
