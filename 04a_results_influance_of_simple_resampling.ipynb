{
 "cells": [
  {
   "cell_type": "code",
   "outputs": [],
   "source": [
    "import pandas as pd\n",
    "from scipy.stats import wilcoxon"
   ],
   "metadata": {
    "collapsed": false,
    "ExecuteTime": {
     "end_time": "2025-05-23T08:20:54.132924Z",
     "start_time": "2025-05-23T08:20:54.128740Z"
    }
   },
   "id": "d62d8c59621daa46",
   "execution_count": 16
  },
  {
   "cell_type": "markdown",
   "source": [
    "# Regression"
   ],
   "metadata": {
    "collapsed": false
   },
   "id": "cd6db1a44c67c74a"
  },
  {
   "cell_type": "code",
   "outputs": [],
   "source": [
    "def run_wilcoxon_test(csv_before, csv_after, model_name):\n",
    "    df_before = pd.read_csv(csv_before)\n",
    "    df_after = pd.read_csv(csv_after)\n",
    "\n",
    "    print(f\"=== Wilcoxon Signed-Rank Test for {model_name} ===\\n\")\n",
    "\n",
    "    for metric in df_before.columns:\n",
    "        before = df_before[metric]\n",
    "        after = df_after[metric]\n",
    "\n",
    "        stat, p = wilcoxon(before, after, alternative='two-sided')\n",
    "\n",
    "        print(f\"Metric: {metric}\")\n",
    "        print(f\"  Test statistic: {stat:.4f}\")\n",
    "        print(f\"  p-value: {p:.4f}\")\n",
    "\n",
    "        if p < 0.05:\n",
    "            print(\"Statistically significant difference.\")\n",
    "        else:\n",
    "            print(\"No statistically significant difference.\")\n",
    "        print()"
   ],
   "metadata": {
    "collapsed": false,
    "ExecuteTime": {
     "end_time": "2025-05-23T08:20:54.165440Z",
     "start_time": "2025-05-23T08:20:54.160510Z"
    }
   },
   "id": "4321e7438ff89821",
   "execution_count": 17
  },
  {
   "cell_type": "code",
   "outputs": [
    {
     "name": "stdout",
     "output_type": "stream",
     "text": [
      "=== Wilcoxon Signed-Rank Test for SVM ===\n",
      "\n",
      "Metric: MAE\n",
      "  Test statistic: 6.0000\n",
      "  p-value: 0.8125\n",
      "No statistically significant difference.\n",
      "\n",
      "Metric: RMSE\n",
      "  Test statistic: 1.0000\n",
      "  p-value: 0.1250\n",
      "No statistically significant difference.\n",
      "\n",
      "Metric: R2\n",
      "  Test statistic: 4.0000\n",
      "  p-value: 0.4375\n",
      "No statistically significant difference.\n"
     ]
    }
   ],
   "source": [
    "# svm\n",
    "\n",
    "run_wilcoxon_test(\n",
    "    \"3a_regression_no_resample_SVR.csv\",\n",
    "    \"3b_regression_simple_resample_SVR.csv\",\n",
    "    \"SVM\"\n",
    ")\n"
   ],
   "metadata": {
    "collapsed": false,
    "ExecuteTime": {
     "end_time": "2025-05-23T08:20:54.188379Z",
     "start_time": "2025-05-23T08:20:54.176490Z"
    }
   },
   "id": "ddbf983046350e50",
   "execution_count": 18
  },
  {
   "cell_type": "code",
   "outputs": [
    {
     "name": "stdout",
     "output_type": "stream",
     "text": [
      "=== Wilcoxon Signed-Rank Test for KNN ===\n",
      "\n",
      "Metric: MAE\n",
      "  Test statistic: 0.0000\n",
      "  p-value: 0.0625\n",
      "No statistically significant difference.\n",
      "\n",
      "Metric: RMSE\n",
      "  Test statistic: 0.0000\n",
      "  p-value: 0.0625\n",
      "No statistically significant difference.\n",
      "\n",
      "Metric: R2\n",
      "  Test statistic: 0.0000\n",
      "  p-value: 0.0625\n",
      "No statistically significant difference.\n"
     ]
    }
   ],
   "source": [
    "# knn\n",
    "\n",
    "run_wilcoxon_test(\n",
    "    \"3a_regression_no_resample_KNN.csv\",\n",
    "    \"3b_regression_simple_resample_KNN.csv\",\n",
    "    \"KNN\"\n",
    ")"
   ],
   "metadata": {
    "collapsed": false,
    "ExecuteTime": {
     "end_time": "2025-05-23T08:20:54.202834Z",
     "start_time": "2025-05-23T08:20:54.190379Z"
    }
   },
   "id": "ba9e3a29b23a4ff",
   "execution_count": 19
  },
  {
   "cell_type": "code",
   "outputs": [
    {
     "name": "stdout",
     "output_type": "stream",
     "text": [
      "=== Wilcoxon Signed-Rank Test for Decision Tree ===\n",
      "\n",
      "Metric: MAE\n",
      "  Test statistic: 0.0000\n",
      "  p-value: 0.0625\n",
      "No statistically significant difference.\n",
      "\n",
      "Metric: RMSE\n",
      "  Test statistic: 0.0000\n",
      "  p-value: 0.0625\n",
      "No statistically significant difference.\n",
      "\n",
      "Metric: R2\n",
      "  Test statistic: 0.0000\n",
      "  p-value: 0.0625\n",
      "No statistically significant difference.\n"
     ]
    }
   ],
   "source": [
    "# Decision Tree\n",
    "\n",
    "run_wilcoxon_test(\n",
    "    \"3a_regression_no_resample_DT.csv\",\n",
    "    \"3b_regression_simple_resample_DT.csv\",\n",
    "    \"Decision Tree\"\n",
    ")"
   ],
   "metadata": {
    "collapsed": false,
    "ExecuteTime": {
     "end_time": "2025-05-23T08:20:54.215749Z",
     "start_time": "2025-05-23T08:20:54.203897Z"
    }
   },
   "id": "98267e4a3b498b25",
   "execution_count": 20
  },
  {
   "cell_type": "code",
   "outputs": [
    {
     "name": "stdout",
     "output_type": "stream",
     "text": [
      "=== Wilcoxon Signed-Rank Test for MLP ===\n",
      "\n",
      "Metric: MAE\n",
      "  Test statistic: 0.0000\n",
      "  p-value: 0.0625\n",
      "No statistically significant difference.\n",
      "\n",
      "Metric: RMSE\n",
      "  Test statistic: 0.0000\n",
      "  p-value: 0.0625\n",
      "No statistically significant difference.\n",
      "\n",
      "Metric: R2\n",
      "  Test statistic: 0.0000\n",
      "  p-value: 0.0625\n",
      "No statistically significant difference.\n"
     ]
    }
   ],
   "source": [
    "# mlp\n",
    "\n",
    "run_wilcoxon_test(\n",
    "    \"3a_regression_no_resample_MLP.csv\",\n",
    "    \"3b_regression_simple_resample_MLP.csv\",\n",
    "    \"MLP\"\n",
    ")"
   ],
   "metadata": {
    "collapsed": false,
    "ExecuteTime": {
     "end_time": "2025-05-23T08:20:54.229009Z",
     "start_time": "2025-05-23T08:20:54.217766Z"
    }
   },
   "id": "8c90aae874bb7741",
   "execution_count": 21
  },
  {
   "cell_type": "markdown",
   "source": [
    "# Classification"
   ],
   "metadata": {
    "collapsed": false
   },
   "id": "a81833db4424a725"
  },
  {
   "cell_type": "code",
   "outputs": [
    {
     "name": "stdout",
     "output_type": "stream",
     "text": [
      "=== Wilcoxon Signed-Rank Test for SVM ===\n",
      "\n",
      "Metric: acc\n",
      "  Test statistic: 0.0000\n",
      "  p-value: 0.0625\n",
      "No statistically significant difference.\n",
      "\n",
      "Metric: prec\n",
      "  Test statistic: 0.0000\n",
      "  p-value: 0.0625\n",
      "No statistically significant difference.\n",
      "\n",
      "Metric: rec\n",
      "  Test statistic: 0.0000\n",
      "  p-value: 0.0625\n",
      "No statistically significant difference.\n",
      "\n",
      "Metric: f1\n",
      "  Test statistic: 0.0000\n",
      "  p-value: 0.0625\n",
      "No statistically significant difference.\n"
     ]
    }
   ],
   "source": [
    "# svm\n",
    "\n",
    "run_wilcoxon_test(\n",
    "    \"2a_classification_no_resample_SVC.csv\",\n",
    "    \"2b_classification_simple_resample_SVC.csv\",\n",
    "    \"SVM\"\n",
    ")"
   ],
   "metadata": {
    "collapsed": false,
    "ExecuteTime": {
     "end_time": "2025-05-23T08:20:54.242709Z",
     "start_time": "2025-05-23T08:20:54.229999Z"
    }
   },
   "id": "87ab5c74879bdb61",
   "execution_count": 22
  },
  {
   "cell_type": "code",
   "outputs": [
    {
     "name": "stdout",
     "output_type": "stream",
     "text": [
      "=== Wilcoxon Signed-Rank Test for KNN ===\n",
      "\n",
      "Metric: acc\n",
      "  Test statistic: 0.0000\n",
      "  p-value: 0.0625\n",
      "No statistically significant difference.\n",
      "\n",
      "Metric: prec\n",
      "  Test statistic: 0.0000\n",
      "  p-value: 0.0625\n",
      "No statistically significant difference.\n",
      "\n",
      "Metric: rec\n",
      "  Test statistic: 0.0000\n",
      "  p-value: 0.0625\n",
      "No statistically significant difference.\n",
      "\n",
      "Metric: f1\n",
      "  Test statistic: 0.0000\n",
      "  p-value: 0.0625\n",
      "No statistically significant difference.\n"
     ]
    }
   ],
   "source": [
    "# knn\n",
    "\n",
    "run_wilcoxon_test(\n",
    "    \"2a_classification_no_resample_KNN.csv\",\n",
    "    \"2b_classification_simple_resample_KNN.csv\",\n",
    "    \"KNN\"\n",
    ")"
   ],
   "metadata": {
    "collapsed": false,
    "ExecuteTime": {
     "end_time": "2025-05-23T08:20:54.259538Z",
     "start_time": "2025-05-23T08:20:54.244377Z"
    }
   },
   "id": "36aaf7742b28e9c9",
   "execution_count": 23
  },
  {
   "cell_type": "code",
   "outputs": [
    {
     "ename": "FileNotFoundError",
     "evalue": "[Errno 2] No such file or directory: '2b_classification_simple_resample_DT.csv'",
     "output_type": "error",
     "traceback": [
      "\u001B[31m---------------------------------------------------------------------------\u001B[39m",
      "\u001B[31mFileNotFoundError\u001B[39m                         Traceback (most recent call last)",
      "\u001B[36mCell\u001B[39m\u001B[36m \u001B[39m\u001B[32mIn[24]\u001B[39m\u001B[32m, line 3\u001B[39m\n\u001B[32m      1\u001B[39m \u001B[38;5;66;03m# dt\u001B[39;00m\n\u001B[32m----> \u001B[39m\u001B[32m3\u001B[39m \u001B[43mrun_wilcoxon_test\u001B[49m\u001B[43m(\u001B[49m\n\u001B[32m      4\u001B[39m \u001B[43m    \u001B[49m\u001B[33;43m\"\u001B[39;49m\u001B[33;43m2a_classification_no_resample_DT.csv\u001B[39;49m\u001B[33;43m\"\u001B[39;49m\u001B[43m,\u001B[49m\n\u001B[32m      5\u001B[39m \u001B[43m    \u001B[49m\u001B[33;43m\"\u001B[39;49m\u001B[33;43m2b_classification_simple_resample_DT.csv\u001B[39;49m\u001B[33;43m\"\u001B[39;49m\u001B[43m,\u001B[49m\n\u001B[32m      6\u001B[39m \u001B[43m    \u001B[49m\u001B[33;43m\"\u001B[39;49m\u001B[33;43mDT\u001B[39;49m\u001B[33;43m\"\u001B[39;49m\n\u001B[32m      7\u001B[39m \u001B[43m)\u001B[49m\n",
      "\u001B[36mCell\u001B[39m\u001B[36m \u001B[39m\u001B[32mIn[17]\u001B[39m\u001B[32m, line 3\u001B[39m, in \u001B[36mrun_wilcoxon_test\u001B[39m\u001B[34m(csv_before, csv_after, model_name)\u001B[39m\n\u001B[32m      1\u001B[39m \u001B[38;5;28;01mdef\u001B[39;00m\u001B[38;5;250m \u001B[39m\u001B[34mrun_wilcoxon_test\u001B[39m(csv_before, csv_after, model_name):\n\u001B[32m      2\u001B[39m     df_before = pd.read_csv(csv_before)\n\u001B[32m----> \u001B[39m\u001B[32m3\u001B[39m     df_after = \u001B[43mpd\u001B[49m\u001B[43m.\u001B[49m\u001B[43mread_csv\u001B[49m\u001B[43m(\u001B[49m\u001B[43mcsv_after\u001B[49m\u001B[43m)\u001B[49m\n\u001B[32m      5\u001B[39m     \u001B[38;5;28mprint\u001B[39m(\u001B[33mf\u001B[39m\u001B[33m\"\u001B[39m\u001B[33m=== Wilcoxon Signed-Rank Test for \u001B[39m\u001B[38;5;132;01m{\u001B[39;00mmodel_name\u001B[38;5;132;01m}\u001B[39;00m\u001B[33m ===\u001B[39m\u001B[38;5;130;01m\\n\u001B[39;00m\u001B[33m\"\u001B[39m)\n\u001B[32m      7\u001B[39m     \u001B[38;5;28;01mfor\u001B[39;00m metric \u001B[38;5;129;01min\u001B[39;00m df_before.columns:\n",
      "\u001B[36mFile \u001B[39m\u001B[32mD:\\Hihi\\semestr 8\\ml\\mlProject\\.venv\\Lib\\site-packages\\pandas\\io\\parsers\\readers.py:1026\u001B[39m, in \u001B[36mread_csv\u001B[39m\u001B[34m(filepath_or_buffer, sep, delimiter, header, names, index_col, usecols, dtype, engine, converters, true_values, false_values, skipinitialspace, skiprows, skipfooter, nrows, na_values, keep_default_na, na_filter, verbose, skip_blank_lines, parse_dates, infer_datetime_format, keep_date_col, date_parser, date_format, dayfirst, cache_dates, iterator, chunksize, compression, thousands, decimal, lineterminator, quotechar, quoting, doublequote, escapechar, comment, encoding, encoding_errors, dialect, on_bad_lines, delim_whitespace, low_memory, memory_map, float_precision, storage_options, dtype_backend)\u001B[39m\n\u001B[32m   1013\u001B[39m kwds_defaults = _refine_defaults_read(\n\u001B[32m   1014\u001B[39m     dialect,\n\u001B[32m   1015\u001B[39m     delimiter,\n\u001B[32m   (...)\u001B[39m\u001B[32m   1022\u001B[39m     dtype_backend=dtype_backend,\n\u001B[32m   1023\u001B[39m )\n\u001B[32m   1024\u001B[39m kwds.update(kwds_defaults)\n\u001B[32m-> \u001B[39m\u001B[32m1026\u001B[39m \u001B[38;5;28;01mreturn\u001B[39;00m \u001B[43m_read\u001B[49m\u001B[43m(\u001B[49m\u001B[43mfilepath_or_buffer\u001B[49m\u001B[43m,\u001B[49m\u001B[43m \u001B[49m\u001B[43mkwds\u001B[49m\u001B[43m)\u001B[49m\n",
      "\u001B[36mFile \u001B[39m\u001B[32mD:\\Hihi\\semestr 8\\ml\\mlProject\\.venv\\Lib\\site-packages\\pandas\\io\\parsers\\readers.py:620\u001B[39m, in \u001B[36m_read\u001B[39m\u001B[34m(filepath_or_buffer, kwds)\u001B[39m\n\u001B[32m    617\u001B[39m _validate_names(kwds.get(\u001B[33m\"\u001B[39m\u001B[33mnames\u001B[39m\u001B[33m\"\u001B[39m, \u001B[38;5;28;01mNone\u001B[39;00m))\n\u001B[32m    619\u001B[39m \u001B[38;5;66;03m# Create the parser.\u001B[39;00m\n\u001B[32m--> \u001B[39m\u001B[32m620\u001B[39m parser = \u001B[43mTextFileReader\u001B[49m\u001B[43m(\u001B[49m\u001B[43mfilepath_or_buffer\u001B[49m\u001B[43m,\u001B[49m\u001B[43m \u001B[49m\u001B[43m*\u001B[49m\u001B[43m*\u001B[49m\u001B[43mkwds\u001B[49m\u001B[43m)\u001B[49m\n\u001B[32m    622\u001B[39m \u001B[38;5;28;01mif\u001B[39;00m chunksize \u001B[38;5;129;01mor\u001B[39;00m iterator:\n\u001B[32m    623\u001B[39m     \u001B[38;5;28;01mreturn\u001B[39;00m parser\n",
      "\u001B[36mFile \u001B[39m\u001B[32mD:\\Hihi\\semestr 8\\ml\\mlProject\\.venv\\Lib\\site-packages\\pandas\\io\\parsers\\readers.py:1620\u001B[39m, in \u001B[36mTextFileReader.__init__\u001B[39m\u001B[34m(self, f, engine, **kwds)\u001B[39m\n\u001B[32m   1617\u001B[39m     \u001B[38;5;28mself\u001B[39m.options[\u001B[33m\"\u001B[39m\u001B[33mhas_index_names\u001B[39m\u001B[33m\"\u001B[39m] = kwds[\u001B[33m\"\u001B[39m\u001B[33mhas_index_names\u001B[39m\u001B[33m\"\u001B[39m]\n\u001B[32m   1619\u001B[39m \u001B[38;5;28mself\u001B[39m.handles: IOHandles | \u001B[38;5;28;01mNone\u001B[39;00m = \u001B[38;5;28;01mNone\u001B[39;00m\n\u001B[32m-> \u001B[39m\u001B[32m1620\u001B[39m \u001B[38;5;28mself\u001B[39m._engine = \u001B[38;5;28;43mself\u001B[39;49m\u001B[43m.\u001B[49m\u001B[43m_make_engine\u001B[49m\u001B[43m(\u001B[49m\u001B[43mf\u001B[49m\u001B[43m,\u001B[49m\u001B[43m \u001B[49m\u001B[38;5;28;43mself\u001B[39;49m\u001B[43m.\u001B[49m\u001B[43mengine\u001B[49m\u001B[43m)\u001B[49m\n",
      "\u001B[36mFile \u001B[39m\u001B[32mD:\\Hihi\\semestr 8\\ml\\mlProject\\.venv\\Lib\\site-packages\\pandas\\io\\parsers\\readers.py:1880\u001B[39m, in \u001B[36mTextFileReader._make_engine\u001B[39m\u001B[34m(self, f, engine)\u001B[39m\n\u001B[32m   1878\u001B[39m     \u001B[38;5;28;01mif\u001B[39;00m \u001B[33m\"\u001B[39m\u001B[33mb\u001B[39m\u001B[33m\"\u001B[39m \u001B[38;5;129;01mnot\u001B[39;00m \u001B[38;5;129;01min\u001B[39;00m mode:\n\u001B[32m   1879\u001B[39m         mode += \u001B[33m\"\u001B[39m\u001B[33mb\u001B[39m\u001B[33m\"\u001B[39m\n\u001B[32m-> \u001B[39m\u001B[32m1880\u001B[39m \u001B[38;5;28mself\u001B[39m.handles = \u001B[43mget_handle\u001B[49m\u001B[43m(\u001B[49m\n\u001B[32m   1881\u001B[39m \u001B[43m    \u001B[49m\u001B[43mf\u001B[49m\u001B[43m,\u001B[49m\n\u001B[32m   1882\u001B[39m \u001B[43m    \u001B[49m\u001B[43mmode\u001B[49m\u001B[43m,\u001B[49m\n\u001B[32m   1883\u001B[39m \u001B[43m    \u001B[49m\u001B[43mencoding\u001B[49m\u001B[43m=\u001B[49m\u001B[38;5;28;43mself\u001B[39;49m\u001B[43m.\u001B[49m\u001B[43moptions\u001B[49m\u001B[43m.\u001B[49m\u001B[43mget\u001B[49m\u001B[43m(\u001B[49m\u001B[33;43m\"\u001B[39;49m\u001B[33;43mencoding\u001B[39;49m\u001B[33;43m\"\u001B[39;49m\u001B[43m,\u001B[49m\u001B[43m \u001B[49m\u001B[38;5;28;43;01mNone\u001B[39;49;00m\u001B[43m)\u001B[49m\u001B[43m,\u001B[49m\n\u001B[32m   1884\u001B[39m \u001B[43m    \u001B[49m\u001B[43mcompression\u001B[49m\u001B[43m=\u001B[49m\u001B[38;5;28;43mself\u001B[39;49m\u001B[43m.\u001B[49m\u001B[43moptions\u001B[49m\u001B[43m.\u001B[49m\u001B[43mget\u001B[49m\u001B[43m(\u001B[49m\u001B[33;43m\"\u001B[39;49m\u001B[33;43mcompression\u001B[39;49m\u001B[33;43m\"\u001B[39;49m\u001B[43m,\u001B[49m\u001B[43m \u001B[49m\u001B[38;5;28;43;01mNone\u001B[39;49;00m\u001B[43m)\u001B[49m\u001B[43m,\u001B[49m\n\u001B[32m   1885\u001B[39m \u001B[43m    \u001B[49m\u001B[43mmemory_map\u001B[49m\u001B[43m=\u001B[49m\u001B[38;5;28;43mself\u001B[39;49m\u001B[43m.\u001B[49m\u001B[43moptions\u001B[49m\u001B[43m.\u001B[49m\u001B[43mget\u001B[49m\u001B[43m(\u001B[49m\u001B[33;43m\"\u001B[39;49m\u001B[33;43mmemory_map\u001B[39;49m\u001B[33;43m\"\u001B[39;49m\u001B[43m,\u001B[49m\u001B[43m \u001B[49m\u001B[38;5;28;43;01mFalse\u001B[39;49;00m\u001B[43m)\u001B[49m\u001B[43m,\u001B[49m\n\u001B[32m   1886\u001B[39m \u001B[43m    \u001B[49m\u001B[43mis_text\u001B[49m\u001B[43m=\u001B[49m\u001B[43mis_text\u001B[49m\u001B[43m,\u001B[49m\n\u001B[32m   1887\u001B[39m \u001B[43m    \u001B[49m\u001B[43merrors\u001B[49m\u001B[43m=\u001B[49m\u001B[38;5;28;43mself\u001B[39;49m\u001B[43m.\u001B[49m\u001B[43moptions\u001B[49m\u001B[43m.\u001B[49m\u001B[43mget\u001B[49m\u001B[43m(\u001B[49m\u001B[33;43m\"\u001B[39;49m\u001B[33;43mencoding_errors\u001B[39;49m\u001B[33;43m\"\u001B[39;49m\u001B[43m,\u001B[49m\u001B[43m \u001B[49m\u001B[33;43m\"\u001B[39;49m\u001B[33;43mstrict\u001B[39;49m\u001B[33;43m\"\u001B[39;49m\u001B[43m)\u001B[49m\u001B[43m,\u001B[49m\n\u001B[32m   1888\u001B[39m \u001B[43m    \u001B[49m\u001B[43mstorage_options\u001B[49m\u001B[43m=\u001B[49m\u001B[38;5;28;43mself\u001B[39;49m\u001B[43m.\u001B[49m\u001B[43moptions\u001B[49m\u001B[43m.\u001B[49m\u001B[43mget\u001B[49m\u001B[43m(\u001B[49m\u001B[33;43m\"\u001B[39;49m\u001B[33;43mstorage_options\u001B[39;49m\u001B[33;43m\"\u001B[39;49m\u001B[43m,\u001B[49m\u001B[43m \u001B[49m\u001B[38;5;28;43;01mNone\u001B[39;49;00m\u001B[43m)\u001B[49m\u001B[43m,\u001B[49m\n\u001B[32m   1889\u001B[39m \u001B[43m\u001B[49m\u001B[43m)\u001B[49m\n\u001B[32m   1890\u001B[39m \u001B[38;5;28;01massert\u001B[39;00m \u001B[38;5;28mself\u001B[39m.handles \u001B[38;5;129;01mis\u001B[39;00m \u001B[38;5;129;01mnot\u001B[39;00m \u001B[38;5;28;01mNone\u001B[39;00m\n\u001B[32m   1891\u001B[39m f = \u001B[38;5;28mself\u001B[39m.handles.handle\n",
      "\u001B[36mFile \u001B[39m\u001B[32mD:\\Hihi\\semestr 8\\ml\\mlProject\\.venv\\Lib\\site-packages\\pandas\\io\\common.py:873\u001B[39m, in \u001B[36mget_handle\u001B[39m\u001B[34m(path_or_buf, mode, encoding, compression, memory_map, is_text, errors, storage_options)\u001B[39m\n\u001B[32m    868\u001B[39m \u001B[38;5;28;01melif\u001B[39;00m \u001B[38;5;28misinstance\u001B[39m(handle, \u001B[38;5;28mstr\u001B[39m):\n\u001B[32m    869\u001B[39m     \u001B[38;5;66;03m# Check whether the filename is to be opened in binary mode.\u001B[39;00m\n\u001B[32m    870\u001B[39m     \u001B[38;5;66;03m# Binary mode does not support 'encoding' and 'newline'.\u001B[39;00m\n\u001B[32m    871\u001B[39m     \u001B[38;5;28;01mif\u001B[39;00m ioargs.encoding \u001B[38;5;129;01mand\u001B[39;00m \u001B[33m\"\u001B[39m\u001B[33mb\u001B[39m\u001B[33m\"\u001B[39m \u001B[38;5;129;01mnot\u001B[39;00m \u001B[38;5;129;01min\u001B[39;00m ioargs.mode:\n\u001B[32m    872\u001B[39m         \u001B[38;5;66;03m# Encoding\u001B[39;00m\n\u001B[32m--> \u001B[39m\u001B[32m873\u001B[39m         handle = \u001B[38;5;28mopen\u001B[39m(\n\u001B[32m    874\u001B[39m             handle,\n\u001B[32m    875\u001B[39m             ioargs.mode,\n\u001B[32m    876\u001B[39m             encoding=ioargs.encoding,\n\u001B[32m    877\u001B[39m             errors=errors,\n\u001B[32m    878\u001B[39m             newline=\u001B[33m\"\u001B[39m\u001B[33m\"\u001B[39m,\n\u001B[32m    879\u001B[39m         )\n\u001B[32m    880\u001B[39m     \u001B[38;5;28;01melse\u001B[39;00m:\n\u001B[32m    881\u001B[39m         \u001B[38;5;66;03m# Binary mode\u001B[39;00m\n\u001B[32m    882\u001B[39m         handle = \u001B[38;5;28mopen\u001B[39m(handle, ioargs.mode)\n",
      "\u001B[31mFileNotFoundError\u001B[39m: [Errno 2] No such file or directory: '2b_classification_simple_resample_DT.csv'"
     ]
    }
   ],
   "source": [
    "# dt\n",
    "\n",
    "run_wilcoxon_test(\n",
    "    \"2a_classification_no_resample_DT.csv\",\n",
    "    \"2b_classification_simple_resample_DT.csv\",\n",
    "    \"DT\"\n",
    ")"
   ],
   "metadata": {
    "collapsed": false,
    "ExecuteTime": {
     "end_time": "2025-05-23T08:20:55.045627Z",
     "start_time": "2025-05-23T08:20:54.260629Z"
    }
   },
   "id": "31112c8cb66a693c",
   "execution_count": 24
  },
  {
   "cell_type": "code",
   "outputs": [],
   "source": [
    "# MLP\n",
    "\n",
    "run_wilcoxon_test(\n",
    "    \"2a_classification_no_resample_MLP.csv\",\n",
    "    \"2b_classification_simple_resample_MLP.csv\",\n",
    "    \"MLP\"\n",
    ")"
   ],
   "metadata": {
    "collapsed": false,
    "ExecuteTime": {
     "end_time": "2025-05-23T08:20:55.046575Z",
     "start_time": "2025-05-23T08:20:55.046575Z"
    }
   },
   "id": "11e20d8699072445"
  }
 ],
 "metadata": {
  "kernelspec": {
   "display_name": "Python 3",
   "language": "python",
   "name": "python3"
  },
  "language_info": {
   "codemirror_mode": {
    "name": "ipython",
    "version": 2
   },
   "file_extension": ".py",
   "mimetype": "text/x-python",
   "name": "python",
   "nbconvert_exporter": "python",
   "pygments_lexer": "ipython2",
   "version": "2.7.6"
  }
 },
 "nbformat": 4,
 "nbformat_minor": 5
}
