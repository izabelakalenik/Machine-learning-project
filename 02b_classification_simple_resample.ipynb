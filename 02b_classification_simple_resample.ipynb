{
 "cells": [
  {
   "cell_type": "code",
   "execution_count": 1,
   "id": "initial_id",
   "metadata": {
    "collapsed": true,
    "ExecuteTime": {
     "end_time": "2025-05-03T14:30:50.050450Z",
     "start_time": "2025-05-03T14:30:49.077471Z"
    }
   },
   "outputs": [],
   "source": [
    "import pandas as pd\n",
    "from sklearn.model_selection import cross_val_score\n",
    "from sklearn.pipeline import Pipeline\n",
    "from sklearn.preprocessing import StandardScaler"
   ]
  },
  {
   "cell_type": "code",
   "outputs": [],
   "source": [
    "df = pd.read_csv('cleaned_movies.csv')"
   ],
   "metadata": {
    "collapsed": false,
    "ExecuteTime": {
     "end_time": "2025-05-03T14:30:50.068260Z",
     "start_time": "2025-05-03T14:30:50.052473Z"
    }
   },
   "id": "8f35da47712ae496",
   "execution_count": 2
  },
  {
   "cell_type": "markdown",
   "source": [
    "Simple Resampling - Random Oversampling"
   ],
   "metadata": {
    "collapsed": false
   },
   "id": "14a5811c6eb2a592"
  },
  {
   "cell_type": "code",
   "outputs": [],
   "source": [
    "from imblearn.over_sampling import RandomOverSampler\n",
    "\n",
    "X = df.drop(columns=['genres', 'original_language', 'popularity_class', 'popularity']).copy()\n",
    "y = df['popularity_class']\n",
    "\n",
    "# should we add differt binding for oversampling?\n",
    "# in this type of resampling we need numeric feature I added the mean value, but maybe for different algorithm juz adding nr index instead of fore example genres will be better?\n",
    "\n",
    "ros = RandomOverSampler(random_state=42)\n",
    "X_resampled, y_resampled = ros.fit_resample(X, y)\n",
    "\n",
    "df_resampled = pd.concat([X_resampled.reset_index(drop=True),\n",
    "                          pd.Series(y_resampled, name='popularity_class')], axis=1)"
   ],
   "metadata": {
    "collapsed": false,
    "ExecuteTime": {
     "end_time": "2025-05-03T14:30:50.288348Z",
     "start_time": "2025-05-03T14:30:50.070271Z"
    }
   },
   "id": "431afc766ced4243",
   "execution_count": 3
  },
  {
   "cell_type": "code",
   "outputs": [
    {
     "data": {
      "text/plain": "<Figure size 800x500 with 1 Axes>",
      "image/png": "[encoded data removed]"
     },
     "metadata": {},
     "output_type": "display_data"
    }
   ],
   "source": [
    "import matplotlib.pyplot as plt\n",
    "\n",
    "class_counts = df_resampled['popularity_class'].value_counts().sort_index()\n",
    "\n",
    "plt.figure(figsize=(8, 5))\n",
    "plt.bar(class_counts.index.astype(str), class_counts.values, color='skyblue', edgecolor='black')\n",
    "plt.title('Distribution of Discrete Popularity Classes')\n",
    "plt.xlabel('Popularity Class')\n",
    "plt.ylabel('Number of Movies')\n",
    "plt.grid(axis='y')\n",
    "plt.savefig('histogram_popularity_simply_resampling_discrete.png')\n",
    "plt.show()  "
   ],
   "metadata": {
    "collapsed": false,
    "ExecuteTime": {
     "end_time": "2025-05-03T14:31:23.444641Z",
     "start_time": "2025-05-03T14:31:23.184318Z"
    }
   },
   "id": "90fe440876eeef88",
   "execution_count": 6
  },
  {
   "cell_type": "markdown",
   "source": [
    "SVM"
   ],
   "metadata": {
    "collapsed": false
   },
   "id": "b855ec653efa41b2"
  },
  {
   "cell_type": "code",
   "outputs": [
    {
     "name": "stdout",
     "output_type": "stream",
     "text": [
      "budget              int64\n",
      "runtime           float64\n",
      "vote_average      float64\n",
      "vote_count          int64\n",
      "revenue             int64\n",
      "release_year        int64\n",
      "genres_score      float64\n",
      "language_score    float64\n",
      "dtype: object\n"
     ]
    }
   ],
   "source": [
    "X = df_resampled.drop(columns=['popularity_class']).copy()\n",
    "y = df_resampled['popularity_class']\n",
    "\n",
    "print(X.dtypes)"
   ],
   "metadata": {
    "collapsed": false,
    "ExecuteTime": {
     "end_time": "2025-05-03T14:32:27.121202Z",
     "start_time": "2025-05-03T14:32:27.114458Z"
    }
   },
   "id": "9419120d85e63325",
   "execution_count": 7
  },
  {
   "cell_type": "code",
   "outputs": [
    {
     "name": "stdout",
     "output_type": "stream",
     "text": [
      "R² score for each fold: [0.74230146 0.89303079 0.87628309 0.90707726 0.90653701]\n",
      "Mean R² score: 0.8650459211237169\n"
     ]
    }
   ],
   "source": [
    "from sklearn.svm import SVC  # if the import is needed only in one cell should we put it here or on the top? \n",
    "\n",
    "pipeline = Pipeline([\n",
    "    ('scaler', StandardScaler()),\n",
    "    ('svc', SVC())\n",
    "])\n",
    "\n",
    "# 5-fold cross-validation (for accuracy score)\n",
    "scores = cross_val_score(pipeline, X, y, cv=5, scoring='accuracy')\n",
    "\n",
    "print(\"R² score for each fold:\", scores)\n",
    "print(\"Mean R² score:\", scores.mean())\n",
    "\n",
    "# we have to adjust metrics"
   ],
   "metadata": {
    "collapsed": false,
    "ExecuteTime": {
     "end_time": "2025-05-03T14:32:35.331881Z",
     "start_time": "2025-05-03T14:32:29.512521Z"
    }
   },
   "id": "c68c0273f877d7f4",
   "execution_count": 8
  },
  {
   "cell_type": "markdown",
   "source": [
    "KNN"
   ],
   "metadata": {
    "collapsed": false
   },
   "id": "98f6dac77de0fe2b"
  },
  {
   "cell_type": "code",
   "outputs": [
    {
     "name": "stdout",
     "output_type": "stream",
     "text": [
      "R² score for each fold: [0.76985413 0.89735278 0.89519179 0.92004322 0.93084819]\n",
      "Mean R² score: 0.8826580226904376\n"
     ]
    }
   ],
   "source": [
    "from sklearn.neighbors import KNeighborsClassifier\n",
    "\n",
    "pipeline = Pipeline([\n",
    "    ('scaler', StandardScaler()),\n",
    "    ('knn', KNeighborsClassifier(n_neighbors=5))\n",
    "])\n",
    "\n",
    "scores = cross_val_score(pipeline, X, y, cv=5, scoring='accuracy')\n",
    "print(\"R² score for each fold:\", scores)\n",
    "print(\"Mean R² score:\", scores.mean())\n",
    "# we have to adjust metrics"
   ],
   "metadata": {
    "collapsed": false,
    "ExecuteTime": {
     "end_time": "2025-05-03T15:05:00.774514Z",
     "start_time": "2025-05-03T15:04:59.893528Z"
    }
   },
   "id": "1db4814d5d8eb696",
   "execution_count": 9
  },
  {
   "cell_type": "code",
   "outputs": [],
   "source": [],
   "metadata": {
    "collapsed": false
   },
   "id": "11dc8cf3a577833c"
  }
 ],
 "metadata": {
  "kernelspec": {
   "display_name": "Python 3",
   "language": "python",
   "name": "python3"
  },
  "language_info": {
   "codemirror_mode": {
    "name": "ipython",
    "version": 2
   },
   "file_extension": ".py",
   "mimetype": "text/x-python",
   "name": "python",
   "nbconvert_exporter": "python",
   "pygments_lexer": "ipython2",
   "version": "2.7.6"
  }
 },
 "nbformat": 4,
 "nbformat_minor": 5
}
