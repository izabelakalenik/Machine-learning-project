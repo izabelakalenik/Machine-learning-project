{
 "cells": [
  {
   "cell_type": "code",
   "execution_count": 10,
   "id": "initial_id",
   "metadata": {
    "collapsed": true,
    "ExecuteTime": {
     "end_time": "2025-05-23T08:01:34.174689Z",
     "start_time": "2025-05-23T08:01:34.140263Z"
    }
   },
   "outputs": [],
   "source": [
    "import pandas as pd\n",
    "from sklearn.pipeline import Pipeline\n",
    "from sklearn.preprocessing import StandardScaler\n",
    "import numpy as np\n",
    "from sklearn.metrics import accuracy_score, precision_score, recall_score, f1_score\n",
    "from sklearn.model_selection import KFold"
   ]
  },
  {
   "cell_type": "code",
   "outputs": [],
   "source": [
    "df = pd.read_csv('cleaned_movies.csv')\n"
   ],
   "metadata": {
    "collapsed": false,
    "ExecuteTime": {
     "end_time": "2025-05-23T08:01:34.274245Z",
     "start_time": "2025-05-23T08:01:34.178683Z"
    }
   },
   "id": "8f35da47712ae496",
   "execution_count": 11
  },
  {
   "cell_type": "markdown",
   "source": [
    "# Simple Resampling - Random Oversampling"
   ],
   "metadata": {
    "collapsed": false
   },
   "id": "14a5811c6eb2a592"
  },
  {
   "cell_type": "code",
   "outputs": [],
   "source": [
    "from imblearn.over_sampling import RandomOverSampler\n",
    "\n",
    "X = df.drop(columns=['genres', 'original_language', 'popularity_class', 'popularity']).copy()\n",
    "y = df['popularity_class']\n",
    "\n",
    "# should we add differt binding for oversampling?\n",
    "# in this type of resampling we need numeric feature I added the mean value, but maybe for different algorithm just adding nr index instead of for example genres will be better?\n",
    "\n",
    "ros = RandomOverSampler(random_state=42)\n",
    "X_resampled, y_resampled = ros.fit_resample(X, y)\n",
    "\n",
    "df_resampled = pd.concat([X_resampled.reset_index(drop=True),\n",
    "                          pd.Series(y_resampled, name='popularity_class')], axis=1)"
   ],
   "metadata": {
    "collapsed": false,
    "ExecuteTime": {
     "end_time": "2025-05-23T08:01:34.382895Z",
     "start_time": "2025-05-23T08:01:34.276292Z"
    }
   },
   "id": "431afc766ced4243",
   "execution_count": 12
  },
  {
   "cell_type": "code",
   "outputs": [
    {
     "data": {
      "text/plain": "<Figure size 800x500 with 1 Axes>",
      "image/png": "[encoded data removed]"
     },
     "metadata": {},
     "output_type": "display_data"
    }
   ],
   "source": [
    "import matplotlib.pyplot as plt\n",
    "\n",
    "class_counts = df_resampled['popularity_class'].value_counts().sort_index()\n",
    "\n",
    "plt.figure(figsize=(8, 5))\n",
    "plt.bar(class_counts.index.astype(str), class_counts.values, color='skyblue', edgecolor='black')\n",
    "plt.title('Distribution of Discrete Popularity Classes')\n",
    "plt.xlabel('Popularity Class')\n",
    "plt.ylabel('Number of Movies')\n",
    "plt.grid(axis='y')\n",
    "plt.savefig('histogram_popularity_simply_resampling_discrete.png')\n",
    "plt.show()  "
   ],
   "metadata": {
    "collapsed": false,
    "ExecuteTime": {
     "end_time": "2025-05-23T08:01:34.708910Z",
     "start_time": "2025-05-23T08:01:34.384896Z"
    }
   },
   "id": "90fe440876eeef88",
   "execution_count": 13
  },
  {
   "cell_type": "code",
   "outputs": [
    {
     "name": "stdout",
     "output_type": "stream",
     "text": [
      "budget            int64\n",
      "runtime         float64\n",
      "vote_average    float64\n",
      "vote_count        int64\n",
      "revenue           int64\n",
      "release_year      int64\n",
      "genres_score    float64\n",
      "dtype: object\n"
     ]
    }
   ],
   "source": [
    "X = df_resampled.drop(columns=['popularity_class']).copy()\n",
    "y = df_resampled['popularity_class']\n",
    "\n",
    "print(X.dtypes)"
   ],
   "metadata": {
    "collapsed": false,
    "ExecuteTime": {
     "end_time": "2025-05-23T08:01:34.720112Z",
     "start_time": "2025-05-23T08:01:34.711905Z"
    }
   },
   "id": "9419120d85e63325",
   "execution_count": 14
  },
  {
   "cell_type": "markdown",
   "source": [
    "# SVM"
   ],
   "metadata": {
    "collapsed": false
   },
   "id": "768365612dca56de"
  },
  {
   "cell_type": "code",
   "outputs": [
    {
     "name": "stdout",
     "output_type": "stream",
     "text": [
      "Fold 1 - Acc: 0.6547 | Prec: 0.6647 | Rec: 0.6529 | F1: 0.6571\n",
      "Fold 2 - Acc: 0.6476 | Prec: 0.6602 | Rec: 0.6488 | F1: 0.6526\n",
      "Fold 3 - Acc: 0.6518 | Prec: 0.6619 | Rec: 0.6548 | F1: 0.6546\n",
      "Fold 4 - Acc: 0.6564 | Prec: 0.6619 | Rec: 0.6569 | F1: 0.6576\n",
      "Fold 5 - Acc: 0.6599 | Prec: 0.6632 | Rec: 0.6575 | F1: 0.6585\n",
      "\n",
      "--- Summary ---\n",
      "Mean Accuracy: 0.6541\n",
      "Mean Precision: 0.6624\n",
      "Mean Recall: 0.6542\n",
      "Mean F1-score: 0.6561\n"
     ]
    }
   ],
   "source": [
    "from sklearn.svm import SVC\n",
    "\n",
    "accuracies = []\n",
    "precisions = []\n",
    "recalls = []\n",
    "f1s = []\n",
    "\n",
    "pipeline = Pipeline([\n",
    "    ('scaler', StandardScaler()),\n",
    "    ('svc', SVC())\n",
    "])\n",
    "\n",
    "\n",
    "kf = KFold(n_splits=5, shuffle=True, random_state=42)\n",
    "\n",
    "# 5-fold cross-validation\n",
    "for fold, (train_idx, test_idx) in enumerate(kf.split(X, y)):\n",
    "    X_train, X_test = X.iloc[train_idx], X.iloc[test_idx]\n",
    "    y_train, y_test = y.iloc[train_idx], y.iloc[test_idx]\n",
    "\n",
    "    pipeline.fit(X_train, y_train)\n",
    "    y_pred = pipeline.predict(X_test)\n",
    "\n",
    "    acc = accuracy_score(y_test, y_pred)\n",
    "    prec = precision_score(y_test, y_pred, average='macro', zero_division=0)\n",
    "    rec = recall_score(y_test, y_pred, average='macro', zero_division=0)\n",
    "    f1 = f1_score(y_test, y_pred, average='macro', zero_division=0)\n",
    "\n",
    "    accuracies.append(acc)\n",
    "    precisions.append(prec)\n",
    "    recalls.append(rec)\n",
    "    f1s.append(f1)\n",
    "\n",
    "    print(f\"Fold {fold+1} - Acc: {acc:.4f} | Prec: {prec:.4f} | Rec: {rec:.4f} | F1: {f1:.4f}\")\n",
    "\n",
    "\n",
    "print(\"\\n--- Summary ---\")\n",
    "print(f\"Mean Accuracy: {np.mean(accuracies):.4f}\")\n",
    "print(f\"Mean Precision: {np.mean(precisions):.4f}\")\n",
    "print(f\"Mean Recall: {np.mean(recalls):.4f}\")\n",
    "print(f\"Mean F1-score: {np.mean(f1s):.4f}\")\n"
   ],
   "metadata": {
    "collapsed": false,
    "ExecuteTime": {
     "end_time": "2025-05-23T08:02:37.262251Z",
     "start_time": "2025-05-23T08:01:34.721114Z"
    }
   },
   "id": "c68c0273f877d7f4",
   "execution_count": 15
  },
  {
   "cell_type": "code",
   "outputs": [],
   "source": [
    "# saving resoults to df\n",
    "df_results = pd.DataFrame({\n",
    "    'acc': accuracies,\n",
    "    'prec': precisions,\n",
    "    'rec': recalls,\n",
    "    'f1': f1s\n",
    "})\n",
    "df_results.to_csv(\"2b_classification_simple_resample_SVC.csv\", index=False)"
   ],
   "metadata": {
    "collapsed": false,
    "ExecuteTime": {
     "end_time": "2025-05-23T08:02:37.279884Z",
     "start_time": "2025-05-23T08:02:37.263191Z"
    }
   },
   "id": "e1835c1a0b1cd149",
   "execution_count": 16
  },
  {
   "cell_type": "markdown",
   "source": [
    "# KNN"
   ],
   "metadata": {
    "collapsed": false
   },
   "id": "98f6dac77de0fe2b"
  },
  {
   "cell_type": "code",
   "outputs": [
    {
     "name": "stdout",
     "output_type": "stream",
     "text": [
      "Fold 1 - Acc: 0.8861 | Prec: 0.8846 | Rec: 0.8865 | F1: 0.8851\n",
      "Fold 2 - Acc: 0.8870 | Prec: 0.8852 | Rec: 0.8878 | F1: 0.8863\n",
      "Fold 3 - Acc: 0.8905 | Prec: 0.8863 | Rec: 0.8884 | F1: 0.8870\n",
      "Fold 4 - Acc: 0.8826 | Prec: 0.8803 | Rec: 0.8845 | F1: 0.8820\n",
      "Fold 5 - Acc: 0.8932 | Prec: 0.8913 | Rec: 0.8930 | F1: 0.8918\n",
      "\n",
      "--- Summary ---\n",
      "Mean Accuracy: 0.8879\n",
      "Mean Precision: 0.8855\n",
      "Mean Recall: 0.8880\n",
      "Mean F1-score: 0.8864\n"
     ]
    }
   ],
   "source": [
    "from sklearn.neighbors import KNeighborsClassifier\n",
    "\n",
    "accuracies = []\n",
    "precisions = []\n",
    "recalls = []\n",
    "f1s = []\n",
    "\n",
    "pipeline = Pipeline([\n",
    "    ('scaler', StandardScaler()),\n",
    "    ('knn', KNeighborsClassifier(n_neighbors=5))\n",
    "])\n",
    "\n",
    "\n",
    "kf = KFold(n_splits=5, shuffle=True, random_state=42)\n",
    "\n",
    "# 5-fold cross-validation\n",
    "for fold, (train_idx, test_idx) in enumerate(kf.split(X, y)):\n",
    "    X_train, X_test = X.iloc[train_idx], X.iloc[test_idx]\n",
    "    y_train, y_test = y.iloc[train_idx], y.iloc[test_idx]\n",
    "\n",
    "    pipeline.fit(X_train, y_train)\n",
    "    y_pred = pipeline.predict(X_test)\n",
    "\n",
    "    acc = accuracy_score(y_test, y_pred)\n",
    "    prec = precision_score(y_test, y_pred, average='macro', zero_division=0)\n",
    "    rec = recall_score(y_test, y_pred, average='macro', zero_division=0)\n",
    "    f1 = f1_score(y_test, y_pred, average='macro', zero_division=0)\n",
    "\n",
    "    accuracies.append(acc)\n",
    "    precisions.append(prec)\n",
    "    recalls.append(rec)\n",
    "    f1s.append(f1)\n",
    "\n",
    "    print(f\"Fold {fold+1} - Acc: {acc:.4f} | Prec: {prec:.4f} | Rec: {rec:.4f} | F1: {f1:.4f}\")\n",
    "\n",
    "\n",
    "print(\"\\n--- Summary ---\")\n",
    "print(f\"Mean Accuracy: {np.mean(accuracies):.4f}\")\n",
    "print(f\"Mean Precision: {np.mean(precisions):.4f}\")\n",
    "print(f\"Mean Recall: {np.mean(recalls):.4f}\")\n",
    "print(f\"Mean F1-score: {np.mean(f1s):.4f}\")"
   ],
   "metadata": {
    "collapsed": false,
    "ExecuteTime": {
     "end_time": "2025-05-23T08:02:38.413406Z",
     "start_time": "2025-05-23T08:02:37.280968Z"
    }
   },
   "id": "1db4814d5d8eb696",
   "execution_count": 17
  },
  {
   "cell_type": "code",
   "outputs": [],
   "source": [
    "# saving resoults to df\n",
    "df_results = pd.DataFrame({\n",
    "    'acc': accuracies,\n",
    "    'prec': precisions,\n",
    "    'rec': recalls,\n",
    "    'f1': f1s\n",
    "})\n",
    "df_results.to_csv(\"2b_classification_simple_resample_KNN.csv\", index=False)"
   ],
   "metadata": {
    "collapsed": false,
    "ExecuteTime": {
     "end_time": "2025-05-23T08:02:38.419057Z",
     "start_time": "2025-05-23T08:02:38.414389Z"
    }
   },
   "id": "c41bf9045d7d38a1",
   "execution_count": 18
  },
  {
   "cell_type": "markdown",
   "source": [
    "# DECISION TREE"
   ],
   "metadata": {
    "collapsed": false
   },
   "id": "62f80bc8616c4f6c"
  },
  {
   "cell_type": "code",
   "execution_count": 23,
   "outputs": [
    {
     "name": "stdout",
     "output_type": "stream",
     "text": [
      "Fold 1 - Acc: 0.9730 | Prec: 0.9730 | Rec: 0.9732 | F1: 0.9730\n",
      "Fold 2 - Acc: 0.9774 | Prec: 0.9781 | Rec: 0.9773 | F1: 0.9773\n",
      "Fold 3 - Acc: 0.9742 | Prec: 0.9736 | Rec: 0.9734 | F1: 0.9735\n",
      "Fold 4 - Acc: 0.9767 | Prec: 0.9770 | Rec: 0.9771 | F1: 0.9770\n",
      "Fold 5 - Acc: 0.9725 | Prec: 0.9726 | Rec: 0.9727 | F1: 0.9725\n",
      "\n",
      "--- Summary ---\n",
      "Mean Accuracy: 0.9748\n",
      "Mean Precision: 0.9749\n",
      "Mean Recall: 0.9747\n",
      "Mean F1-score: 0.9747\n"
     ]
    }
   ],
   "source": [
    "from sklearn.tree import DecisionTreeClassifier\n",
    "\n",
    "accuracies = []\n",
    "precisions = []\n",
    "recalls = []\n",
    "f1s = []\n",
    "\n",
    "pipeline = Pipeline([\n",
    "    ('tree', DecisionTreeClassifier(random_state=42))\n",
    "])\n",
    "\n",
    "kf = KFold(n_splits=5, shuffle=True, random_state=42)\n",
    "\n",
    "\n",
    "# 5-fold cross-validation\n",
    "for fold, (train_idx, test_idx) in enumerate(kf.split(X)):\n",
    "    X_train, X_test = X.iloc[train_idx], X.iloc[test_idx]\n",
    "    y_train, y_test = y.iloc[train_idx], y.iloc[test_idx]\n",
    "\n",
    "    pipeline.fit(X_train, y_train)\n",
    "    y_pred = pipeline.predict(X_test)\n",
    "\n",
    "    acc = accuracy_score(y_test, y_pred)\n",
    "    prec = precision_score(y_test, y_pred, average='macro', zero_division=0)\n",
    "    rec = recall_score(y_test, y_pred, average='macro', zero_division=0)\n",
    "    f1 = f1_score(y_test, y_pred, average='macro', zero_division=0)\n",
    "\n",
    "    accuracies.append(acc)\n",
    "    precisions.append(prec)\n",
    "    recalls.append(rec)\n",
    "    f1s.append(f1)\n",
    "\n",
    "    print(f\"Fold {fold+1} - Acc: {acc:.4f} | Prec: {prec:.4f} | Rec: {rec:.4f} | F1: {f1:.4f}\")\n",
    "\n",
    "\n",
    "print(\"\\n--- Summary ---\")\n",
    "print(f\"Mean Accuracy: {np.mean(accuracies):.4f}\")\n",
    "print(f\"Mean Precision: {np.mean(precisions):.4f}\")\n",
    "print(f\"Mean Recall: {np.mean(recalls):.4f}\")\n",
    "print(f\"Mean F1-score: {np.mean(f1s):.4f}\")"
   ],
   "metadata": {
    "collapsed": false,
    "ExecuteTime": {
     "end_time": "2025-05-23T08:42:25.083677Z",
     "start_time": "2025-05-23T08:42:24.652765Z"
    }
   },
   "id": "52a327db68dcad24"
  },
  {
   "cell_type": "code",
   "outputs": [],
   "source": [
    "# saving resoults to df\n",
    "df_results = pd.DataFrame({\n",
    "    'acc': accuracies,\n",
    "    'prec': precisions,\n",
    "    'rec': recalls,\n",
    "    'f1': f1s\n",
    "})\n",
    "df_results.to_csv(\"2b_classification_simple_resample_DT.csv\", index=False)"
   ],
   "metadata": {
    "collapsed": false,
    "ExecuteTime": {
     "end_time": "2025-05-23T08:42:27.270609Z",
     "start_time": "2025-05-23T08:42:27.257854Z"
    }
   },
   "id": "1b94360236035796",
   "execution_count": 24
  },
  {
   "cell_type": "markdown",
   "source": [
    "# MULTILAYER PERCEPTRON (MLP)"
   ],
   "metadata": {
    "collapsed": false
   },
   "id": "cc4bc44a991cc8a8"
  },
  {
   "cell_type": "code",
   "execution_count": 21,
   "outputs": [
    {
     "name": "stdout",
     "output_type": "stream",
     "text": [
      "Fold 1 - Acc: 0.8416 | Prec: 0.8373 | Rec: 0.8410 | F1: 0.8383\n",
      "Fold 2 - Acc: 0.8738 | Prec: 0.8784 | Rec: 0.8757 | F1: 0.8753\n",
      "Fold 3 - Acc: 0.8865 | Prec: 0.8865 | Rec: 0.8865 | F1: 0.8856\n",
      "Fold 4 - Acc: 0.8777 | Prec: 0.8787 | Rec: 0.8793 | F1: 0.8784\n",
      "Fold 5 - Acc: 0.8848 | Prec: 0.8789 | Rec: 0.8823 | F1: 0.8796\n",
      "\n",
      "--- Summary ---\n",
      "Mean Accuracy: 0.8729\n",
      "Mean Precision: 0.8720\n",
      "Mean Recall: 0.8730\n",
      "Mean F1-score: 0.8715\n"
     ]
    }
   ],
   "source": [
    "from sklearn.neural_network import MLPClassifier\n",
    "\n",
    "accuracies = []\n",
    "precisions = []\n",
    "recalls = []\n",
    "f1s = []\n",
    "\n",
    "mlp = MLPClassifier(\n",
    "    hidden_layer_sizes=(100, 50),     # two hidden layers: 100 and 50 neurons\n",
    "    activation='relu',                # a commonly used activation function\n",
    "    solver='adam',                    # modern optimizer, better than 'sgd' in most cases\n",
    "    learning_rate_init=0.001,         # lower learning rate improves stability\n",
    "    max_iter=1000,                    # more iterations to allow convergence\n",
    "    early_stopping=True,              # stops training if validation score doesn't improve\n",
    "    random_state=42                   # ensures reproducibility\n",
    ")\n",
    "\n",
    "pipeline = Pipeline([\n",
    "    ('scaler', StandardScaler()),\n",
    "    ('mlp', mlp)\n",
    "])\n",
    "\n",
    "\n",
    "kf = KFold(n_splits=5, shuffle=True, random_state=42)\n",
    "\n",
    "\n",
    "# 5-fold cross-validation\n",
    "for fold, (train_idx, test_idx) in enumerate(kf.split(X)):\n",
    "    X_train, X_test = X.iloc[train_idx], X.iloc[test_idx]\n",
    "    y_train, y_test = y.iloc[train_idx], y.iloc[test_idx]\n",
    "\n",
    "    pipeline.fit(X_train, y_train)\n",
    "    y_pred = pipeline.predict(X_test)\n",
    "\n",
    "    acc = accuracy_score(y_test, y_pred)\n",
    "    prec = precision_score(y_test, y_pred, average='macro', zero_division=0)\n",
    "    rec = recall_score(y_test, y_pred, average='macro', zero_division=0)\n",
    "    f1 = f1_score(y_test, y_pred, average='macro', zero_division=0)\n",
    "\n",
    "    accuracies.append(acc)\n",
    "    precisions.append(prec)\n",
    "    recalls.append(rec)\n",
    "    f1s.append(f1)\n",
    "\n",
    "    print(f\"Fold {fold+1} - Acc: {acc:.4f} | Prec: {prec:.4f} | Rec: {rec:.4f} | F1: {f1:.4f}\")\n",
    "\n",
    "\n",
    "print(\"\\n--- Summary ---\")\n",
    "print(f\"Mean Accuracy: {np.mean(accuracies):.4f}\")\n",
    "print(f\"Mean Precision: {np.mean(precisions):.4f}\")\n",
    "print(f\"Mean Recall: {np.mean(recalls):.4f}\")\n",
    "print(f\"Mean F1-score: {np.mean(f1s):.4f}\")"
   ],
   "metadata": {
    "collapsed": false,
    "ExecuteTime": {
     "end_time": "2025-05-23T08:03:43.765804Z",
     "start_time": "2025-05-23T08:02:38.764374Z"
    }
   },
   "id": "7770507443b4aa99"
  },
  {
   "cell_type": "code",
   "outputs": [],
   "source": [
    "# saving resoults to df\n",
    "df_results = pd.DataFrame({\n",
    "    'acc': accuracies,\n",
    "    'prec': precisions,\n",
    "    'rec': recalls,\n",
    "    'f1': f1s\n",
    "})\n",
    "df_results.to_csv(\"2b_classification_simple_resample_MLP.csv\", index=False)"
   ],
   "metadata": {
    "collapsed": false,
    "ExecuteTime": {
     "end_time": "2025-05-23T08:03:43.771920Z",
     "start_time": "2025-05-23T08:03:43.766789Z"
    }
   },
   "id": "33ced7b8cfab7f20",
   "execution_count": 22
  },
  {
   "cell_type": "code",
   "execution_count": 22,
   "outputs": [],
   "source": [],
   "metadata": {
    "collapsed": false,
    "ExecuteTime": {
     "end_time": "2025-05-23T08:03:43.776408Z",
     "start_time": "2025-05-23T08:03:43.774123Z"
    }
   },
   "id": "aa6c7297d4ee2eb4"
  }
 ],
 "metadata": {
  "kernelspec": {
   "display_name": "Python 3",
   "language": "python",
   "name": "python3"
  },
  "language_info": {
   "codemirror_mode": {
    "name": "ipython",
    "version": 2
   },
   "file_extension": ".py",
   "mimetype": "text/x-python",
   "name": "python",
   "nbconvert_exporter": "python",
   "pygments_lexer": "ipython2",
   "version": "2.7.6"
  }
 },
 "nbformat": 4,
 "nbformat_minor": 5
}
