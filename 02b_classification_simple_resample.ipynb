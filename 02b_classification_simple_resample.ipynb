{
 "cells": [
  {
   "cell_type": "code",
   "execution_count": 1,
   "id": "initial_id",
   "metadata": {
    "collapsed": true,
    "ExecuteTime": {
     "end_time": "2025-06-01T20:04:22.777698Z",
     "start_time": "2025-06-01T20:04:21.405197Z"
    }
   },
   "outputs": [],
   "source": [
    "import pandas as pd\n",
    "from sklearn.pipeline import Pipeline\n",
    "from sklearn.preprocessing import StandardScaler\n",
    "import numpy as np\n",
    "from sklearn.metrics import accuracy_score, precision_score, recall_score, f1_score\n",
    "from sklearn.model_selection import KFold"
   ]
  },
  {
   "cell_type": "code",
   "outputs": [],
   "source": [
    "df = pd.read_csv('cleaned_movies.csv')\n"
   ],
   "metadata": {
    "collapsed": false,
    "ExecuteTime": {
     "end_time": "2025-06-01T20:04:22.796858Z",
     "start_time": "2025-06-01T20:04:22.779689Z"
    }
   },
   "id": "8f35da47712ae496",
   "execution_count": 2
  },
  {
   "cell_type": "markdown",
   "source": [
    "# Simple Resampling - Random Oversampling"
   ],
   "metadata": {
    "collapsed": false
   },
   "id": "14a5811c6eb2a592"
  },
  {
   "cell_type": "code",
   "outputs": [],
   "source": [
    "from imblearn.over_sampling import RandomOverSampler\n",
    "\n",
    "X = df.drop(columns=['genres', 'original_language', 'popularity_class', 'popularity']).copy()\n",
    "y = df['popularity_class']\n",
    "\n",
    "# should we add differt binding for oversampling?\n",
    "# in this type of resampling we need numeric feature I added the mean value, but maybe for different algorithm just adding nr index instead of for example genres will be better?\n",
    "\n",
    "ros = RandomOverSampler(random_state=42)\n",
    "X_resampled, y_resampled = ros.fit_resample(X, y)\n",
    "\n",
    "df_resampled = pd.concat([X_resampled.reset_index(drop=True),\n",
    "                          pd.Series(y_resampled, name='popularity_class')], axis=1)"
   ],
   "metadata": {
    "collapsed": false,
    "ExecuteTime": {
     "end_time": "2025-06-01T20:04:26.065716Z",
     "start_time": "2025-06-01T20:04:22.797846Z"
    }
   },
   "id": "431afc766ced4243",
   "execution_count": 3
  },
  {
   "cell_type": "code",
   "outputs": [
    {
     "data": {
      "text/plain": "<Figure size 800x500 with 1 Axes>",
      "image/png": "[encoded data removed]"
     },
     "metadata": {},
     "output_type": "display_data"
    }
   ],
   "source": [
    "import matplotlib.pyplot as plt\n",
    "\n",
    "class_counts = df_resampled['popularity_class'].value_counts().sort_index()\n",
    "\n",
    "plt.figure(figsize=(8, 5))\n",
    "plt.bar(class_counts.index.astype(str), class_counts.values, color='skyblue', edgecolor='black')\n",
    "plt.title('Distribution of Discrete Popularity Classes')\n",
    "plt.xlabel('Popularity Class')\n",
    "plt.ylabel('Number of Movies')\n",
    "plt.grid(axis='y')\n",
    "plt.savefig('histogram_popularity_simply_resampling_discrete.png')\n",
    "plt.show()  "
   ],
   "metadata": {
    "collapsed": false,
    "ExecuteTime": {
     "end_time": "2025-06-01T20:04:28.233771Z",
     "start_time": "2025-06-01T20:04:26.066702Z"
    }
   },
   "id": "90fe440876eeef88",
   "execution_count": 4
  },
  {
   "cell_type": "code",
   "outputs": [
    {
     "name": "stdout",
     "output_type": "stream",
     "text": [
      "budget            int64\n",
      "runtime         float64\n",
      "vote_average    float64\n",
      "vote_count        int64\n",
      "revenue           int64\n",
      "release_year      int64\n",
      "genres_score    float64\n",
      "dtype: object\n"
     ]
    }
   ],
   "source": [
    "X = df_resampled.drop(columns=['popularity_class']).copy()\n",
    "y = df_resampled['popularity_class']\n",
    "\n",
    "print(X.dtypes)"
   ],
   "metadata": {
    "collapsed": false,
    "ExecuteTime": {
     "end_time": "2025-06-01T20:04:28.243748Z",
     "start_time": "2025-06-01T20:04:28.234765Z"
    }
   },
   "id": "9419120d85e63325",
   "execution_count": 5
  },
  {
   "cell_type": "markdown",
   "source": [
    "# SVM"
   ],
   "metadata": {
    "collapsed": false
   },
   "id": "768365612dca56de"
  },
  {
   "cell_type": "code",
   "outputs": [
    {
     "name": "stdout",
     "output_type": "stream",
     "text": [
      "Fold 1 - Acc: 0.6606 | Prec: 0.6661 | Rec: 0.6590 | F1: 0.6609\n",
      "Fold 2 - Acc: 0.6670 | Prec: 0.6759 | Rec: 0.6662 | F1: 0.6696\n",
      "Fold 3 - Acc: 0.6626 | Prec: 0.6712 | Rec: 0.6650 | F1: 0.6663\n",
      "Fold 4 - Acc: 0.6532 | Prec: 0.6630 | Rec: 0.6535 | F1: 0.6561\n",
      "Fold 5 - Acc: 0.6601 | Prec: 0.6753 | Rec: 0.6643 | F1: 0.6672\n",
      "Fold 6 - Acc: 0.6616 | Prec: 0.6653 | Rec: 0.6627 | F1: 0.6591\n",
      "Fold 7 - Acc: 0.6596 | Prec: 0.6658 | Rec: 0.6614 | F1: 0.6609\n",
      "Fold 8 - Acc: 0.6562 | Prec: 0.6605 | Rec: 0.6561 | F1: 0.6564\n",
      "Fold 9 - Acc: 0.6739 | Prec: 0.6738 | Rec: 0.6701 | F1: 0.6697\n",
      "Fold 10 - Acc: 0.6783 | Prec: 0.6848 | Rec: 0.6763 | F1: 0.6784\n",
      "\n",
      "--- Summary ---\n",
      "Mean Accuracy: 0.6633\n",
      "Mean Precision: 0.6702\n",
      "Mean Recall: 0.6635\n",
      "Mean F1-score: 0.6645\n"
     ]
    }
   ],
   "source": [
    "from sklearn.svm import SVC\n",
    "\n",
    "accuracies = []\n",
    "precisions = []\n",
    "recalls = []\n",
    "f1s = []\n",
    "\n",
    "pipeline = Pipeline([\n",
    "    ('scaler', StandardScaler()),\n",
    "    ('svc', SVC())\n",
    "])\n",
    "\n",
    "\n",
    "kf = KFold(n_splits=10, shuffle=True, random_state=42)\n",
    "\n",
    "# 5-fold cross-validation\n",
    "for fold, (train_idx, test_idx) in enumerate(kf.split(X, y)):\n",
    "    X_train, X_test = X.iloc[train_idx], X.iloc[test_idx]\n",
    "    y_train, y_test = y.iloc[train_idx], y.iloc[test_idx]\n",
    "\n",
    "    pipeline.fit(X_train, y_train)\n",
    "    y_pred = pipeline.predict(X_test)\n",
    "\n",
    "    acc = accuracy_score(y_test, y_pred)\n",
    "    prec = precision_score(y_test, y_pred, average='macro', zero_division=0)\n",
    "    rec = recall_score(y_test, y_pred, average='macro', zero_division=0)\n",
    "    f1 = f1_score(y_test, y_pred, average='macro', zero_division=0)\n",
    "\n",
    "    accuracies.append(acc)\n",
    "    precisions.append(prec)\n",
    "    recalls.append(rec)\n",
    "    f1s.append(f1)\n",
    "\n",
    "    print(f\"Fold {fold+1} - Acc: {acc:.4f} | Prec: {prec:.4f} | Rec: {rec:.4f} | F1: {f1:.4f}\")\n",
    "\n",
    "\n",
    "print(\"\\n--- Summary ---\")\n",
    "print(f\"Mean Accuracy: {np.mean(accuracies):.4f}\")\n",
    "print(f\"Mean Precision: {np.mean(precisions):.4f}\")\n",
    "print(f\"Mean Recall: {np.mean(recalls):.4f}\")\n",
    "print(f\"Mean F1-score: {np.mean(f1s):.4f}\")\n"
   ],
   "metadata": {
    "collapsed": false,
    "ExecuteTime": {
     "end_time": "2025-06-01T20:06:27.840154Z",
     "start_time": "2025-06-01T20:04:28.246783Z"
    }
   },
   "id": "c68c0273f877d7f4",
   "execution_count": 6
  },
  {
   "cell_type": "code",
   "outputs": [],
   "source": [
    "# saving resoults to df\n",
    "df_results = pd.DataFrame({\n",
    "    'acc': accuracies,\n",
    "    'prec': precisions,\n",
    "    'rec': recalls,\n",
    "    'f1': f1s\n",
    "})\n",
    "df_results.to_csv(\"2b_classification_simple_resample_SVC.csv\", index=False)"
   ],
   "metadata": {
    "collapsed": false,
    "ExecuteTime": {
     "end_time": "2025-06-01T20:06:27.847773Z",
     "start_time": "2025-06-01T20:06:27.841150Z"
    }
   },
   "id": "e1835c1a0b1cd149",
   "execution_count": 7
  },
  {
   "cell_type": "markdown",
   "source": [
    "# KNN"
   ],
   "metadata": {
    "collapsed": false
   },
   "id": "98f6dac77de0fe2b"
  },
  {
   "cell_type": "code",
   "outputs": [
    {
     "name": "stdout",
     "output_type": "stream",
     "text": [
      "Fold 1 - Acc: 0.8983 | Prec: 0.9007 | Rec: 0.9001 | F1: 0.8999\n",
      "Fold 2 - Acc: 0.8846 | Prec: 0.8808 | Rec: 0.8838 | F1: 0.8812\n",
      "Fold 3 - Acc: 0.9003 | Prec: 0.8982 | Rec: 0.8992 | F1: 0.8983\n",
      "Fold 4 - Acc: 0.8988 | Prec: 0.8973 | Rec: 0.9006 | F1: 0.8987\n",
      "Fold 5 - Acc: 0.8993 | Prec: 0.8976 | Rec: 0.8996 | F1: 0.8983\n",
      "Fold 6 - Acc: 0.9077 | Prec: 0.9002 | Rec: 0.9023 | F1: 0.9010\n",
      "Fold 7 - Acc: 0.8939 | Prec: 0.8932 | Rec: 0.8979 | F1: 0.8949\n",
      "Fold 8 - Acc: 0.8944 | Prec: 0.8919 | Rec: 0.8937 | F1: 0.8926\n",
      "Fold 9 - Acc: 0.8993 | Prec: 0.8954 | Rec: 0.8967 | F1: 0.8953\n",
      "Fold 10 - Acc: 0.9126 | Prec: 0.9142 | Rec: 0.9149 | F1: 0.9144\n",
      "\n",
      "--- Summary ---\n",
      "Mean Accuracy: 0.8989\n",
      "Mean Precision: 0.8969\n",
      "Mean Recall: 0.8989\n",
      "Mean F1-score: 0.8974\n"
     ]
    }
   ],
   "source": [
    "from sklearn.neighbors import KNeighborsClassifier\n",
    "\n",
    "accuracies = []\n",
    "precisions = []\n",
    "recalls = []\n",
    "f1s = []\n",
    "\n",
    "pipeline = Pipeline([\n",
    "    ('scaler', StandardScaler()),\n",
    "    ('knn', KNeighborsClassifier(n_neighbors=5))\n",
    "])\n",
    "\n",
    "\n",
    "kf = KFold(n_splits=10, shuffle=True, random_state=42)\n",
    "\n",
    "# 5-fold cross-validation\n",
    "for fold, (train_idx, test_idx) in enumerate(kf.split(X, y)):\n",
    "    X_train, X_test = X.iloc[train_idx], X.iloc[test_idx]\n",
    "    y_train, y_test = y.iloc[train_idx], y.iloc[test_idx]\n",
    "\n",
    "    pipeline.fit(X_train, y_train)\n",
    "    y_pred = pipeline.predict(X_test)\n",
    "\n",
    "    acc = accuracy_score(y_test, y_pred)\n",
    "    prec = precision_score(y_test, y_pred, average='macro', zero_division=0)\n",
    "    rec = recall_score(y_test, y_pred, average='macro', zero_division=0)\n",
    "    f1 = f1_score(y_test, y_pred, average='macro', zero_division=0)\n",
    "\n",
    "    accuracies.append(acc)\n",
    "    precisions.append(prec)\n",
    "    recalls.append(rec)\n",
    "    f1s.append(f1)\n",
    "\n",
    "    print(f\"Fold {fold+1} - Acc: {acc:.4f} | Prec: {prec:.4f} | Rec: {rec:.4f} | F1: {f1:.4f}\")\n",
    "\n",
    "\n",
    "print(\"\\n--- Summary ---\")\n",
    "print(f\"Mean Accuracy: {np.mean(accuracies):.4f}\")\n",
    "print(f\"Mean Precision: {np.mean(precisions):.4f}\")\n",
    "print(f\"Mean Recall: {np.mean(recalls):.4f}\")\n",
    "print(f\"Mean F1-score: {np.mean(f1s):.4f}\")"
   ],
   "metadata": {
    "collapsed": false,
    "ExecuteTime": {
     "end_time": "2025-06-01T20:06:29.399965Z",
     "start_time": "2025-06-01T20:06:27.848768Z"
    }
   },
   "id": "1db4814d5d8eb696",
   "execution_count": 8
  },
  {
   "cell_type": "code",
   "outputs": [],
   "source": [
    "# saving resoults to df\n",
    "df_results = pd.DataFrame({\n",
    "    'acc': accuracies,\n",
    "    'prec': precisions,\n",
    "    'rec': recalls,\n",
    "    'f1': f1s\n",
    "})\n",
    "df_results.to_csv(\"2b_classification_simple_resample_KNN.csv\", index=False)"
   ],
   "metadata": {
    "collapsed": false,
    "ExecuteTime": {
     "end_time": "2025-06-01T20:06:29.407470Z",
     "start_time": "2025-06-01T20:06:29.400989Z"
    }
   },
   "id": "c41bf9045d7d38a1",
   "execution_count": 9
  },
  {
   "cell_type": "markdown",
   "source": [
    "# DECISION TREE"
   ],
   "metadata": {
    "collapsed": false
   },
   "id": "62f80bc8616c4f6c"
  },
  {
   "cell_type": "code",
   "execution_count": 10,
   "outputs": [
    {
     "name": "stdout",
     "output_type": "stream",
     "text": [
      "Fold 1 - Acc: 0.9764 | Prec: 0.9775 | Rec: 0.9769 | F1: 0.9769\n",
      "Fold 2 - Acc: 0.9794 | Prec: 0.9791 | Rec: 0.9790 | F1: 0.9790\n",
      "Fold 3 - Acc: 0.9754 | Prec: 0.9753 | Rec: 0.9745 | F1: 0.9745\n",
      "Fold 4 - Acc: 0.9764 | Prec: 0.9778 | Rec: 0.9769 | F1: 0.9770\n",
      "Fold 5 - Acc: 0.9818 | Prec: 0.9823 | Rec: 0.9813 | F1: 0.9814\n",
      "Fold 6 - Acc: 0.9853 | Prec: 0.9844 | Rec: 0.9845 | F1: 0.9844\n",
      "Fold 7 - Acc: 0.9686 | Prec: 0.9692 | Rec: 0.9701 | F1: 0.9694\n",
      "Fold 8 - Acc: 0.9779 | Prec: 0.9778 | Rec: 0.9777 | F1: 0.9776\n",
      "Fold 9 - Acc: 0.9794 | Prec: 0.9801 | Rec: 0.9790 | F1: 0.9791\n",
      "Fold 10 - Acc: 0.9779 | Prec: 0.9786 | Rec: 0.9785 | F1: 0.9785\n",
      "\n",
      "--- Summary ---\n",
      "Mean Accuracy: 0.9778\n",
      "Mean Precision: 0.9782\n",
      "Mean Recall: 0.9778\n",
      "Mean F1-score: 0.9778\n"
     ]
    }
   ],
   "source": [
    "from sklearn.tree import DecisionTreeClassifier\n",
    "\n",
    "accuracies = []\n",
    "precisions = []\n",
    "recalls = []\n",
    "f1s = []\n",
    "\n",
    "pipeline = Pipeline([\n",
    "    ('tree', DecisionTreeClassifier(random_state=42))\n",
    "])\n",
    "\n",
    "kf = KFold(n_splits=10, shuffle=True, random_state=42)\n",
    "\n",
    "\n",
    "# 5-fold cross-validation\n",
    "for fold, (train_idx, test_idx) in enumerate(kf.split(X)):\n",
    "    X_train, X_test = X.iloc[train_idx], X.iloc[test_idx]\n",
    "    y_train, y_test = y.iloc[train_idx], y.iloc[test_idx]\n",
    "\n",
    "    pipeline.fit(X_train, y_train)\n",
    "    y_pred = pipeline.predict(X_test)\n",
    "\n",
    "    acc = accuracy_score(y_test, y_pred)\n",
    "    prec = precision_score(y_test, y_pred, average='macro', zero_division=0)\n",
    "    rec = recall_score(y_test, y_pred, average='macro', zero_division=0)\n",
    "    f1 = f1_score(y_test, y_pred, average='macro', zero_division=0)\n",
    "\n",
    "    accuracies.append(acc)\n",
    "    precisions.append(prec)\n",
    "    recalls.append(rec)\n",
    "    f1s.append(f1)\n",
    "\n",
    "    print(f\"Fold {fold+1} - Acc: {acc:.4f} | Prec: {prec:.4f} | Rec: {rec:.4f} | F1: {f1:.4f}\")\n",
    "\n",
    "\n",
    "print(\"\\n--- Summary ---\")\n",
    "print(f\"Mean Accuracy: {np.mean(accuracies):.4f}\")\n",
    "print(f\"Mean Precision: {np.mean(precisions):.4f}\")\n",
    "print(f\"Mean Recall: {np.mean(recalls):.4f}\")\n",
    "print(f\"Mean F1-score: {np.mean(f1s):.4f}\")"
   ],
   "metadata": {
    "collapsed": false,
    "ExecuteTime": {
     "end_time": "2025-06-01T20:06:30.194873Z",
     "start_time": "2025-06-01T20:06:29.408465Z"
    }
   },
   "id": "52a327db68dcad24"
  },
  {
   "cell_type": "code",
   "outputs": [],
   "source": [
    "# saving resoults to df\n",
    "df_results = pd.DataFrame({\n",
    "    'acc': accuracies,\n",
    "    'prec': precisions,\n",
    "    'rec': recalls,\n",
    "    'f1': f1s\n",
    "})\n",
    "df_results.to_csv(\"2b_classification_simple_resample_DT.csv\", index=False)"
   ],
   "metadata": {
    "collapsed": false,
    "ExecuteTime": {
     "end_time": "2025-06-01T20:06:30.201838Z",
     "start_time": "2025-06-01T20:06:30.195895Z"
    }
   },
   "id": "1b94360236035796",
   "execution_count": 11
  },
  {
   "cell_type": "markdown",
   "source": [
    "# MULTILAYER PERCEPTRON (MLP)"
   ],
   "metadata": {
    "collapsed": false
   },
   "id": "cc4bc44a991cc8a8"
  },
  {
   "cell_type": "code",
   "execution_count": 12,
   "outputs": [
    {
     "name": "stdout",
     "output_type": "stream",
     "text": [
      "Fold 1 - Acc: 0.8639 | Prec: 0.8662 | Rec: 0.8662 | F1: 0.8655\n",
      "Fold 2 - Acc: 0.8757 | Prec: 0.8729 | Rec: 0.8733 | F1: 0.8723\n",
      "Fold 3 - Acc: 0.8689 | Prec: 0.8708 | Rec: 0.8727 | F1: 0.8707\n",
      "Fold 4 - Acc: 0.8644 | Prec: 0.8631 | Rec: 0.8663 | F1: 0.8621\n",
      "Fold 5 - Acc: 0.8713 | Prec: 0.8744 | Rec: 0.8734 | F1: 0.8733\n",
      "Fold 6 - Acc: 0.8969 | Prec: 0.8930 | Rec: 0.8923 | F1: 0.8918\n",
      "Fold 7 - Acc: 0.8713 | Prec: 0.8707 | Rec: 0.8739 | F1: 0.8719\n",
      "Fold 8 - Acc: 0.8797 | Prec: 0.8787 | Rec: 0.8800 | F1: 0.8776\n",
      "Fold 9 - Acc: 0.8969 | Prec: 0.8896 | Rec: 0.8908 | F1: 0.8896\n",
      "Fold 10 - Acc: 0.8969 | Prec: 0.8985 | Rec: 0.8979 | F1: 0.8976\n",
      "\n",
      "--- Summary ---\n",
      "Mean Accuracy: 0.8786\n",
      "Mean Precision: 0.8778\n",
      "Mean Recall: 0.8787\n",
      "Mean F1-score: 0.8773\n"
     ]
    }
   ],
   "source": [
    "from sklearn.neural_network import MLPClassifier\n",
    "\n",
    "accuracies = []\n",
    "precisions = []\n",
    "recalls = []\n",
    "f1s = []\n",
    "\n",
    "mlp = MLPClassifier(\n",
    "    hidden_layer_sizes=(100, 50),     # two hidden layers: 100 and 50 neurons\n",
    "    activation='relu',                # a commonly used activation function\n",
    "    solver='adam',                    # modern optimizer, better than 'sgd' in most cases\n",
    "    learning_rate_init=0.001,         # lower learning rate improves stability\n",
    "    max_iter=1000,                    # more iterations to allow convergence\n",
    "    early_stopping=True,              # stops training if validation score doesn't improve\n",
    "    random_state=42                   # ensures reproducibility\n",
    ")\n",
    "\n",
    "pipeline = Pipeline([\n",
    "    ('scaler', StandardScaler()),\n",
    "    ('mlp', mlp)\n",
    "])\n",
    "\n",
    "\n",
    "kf = KFold(n_splits=10, shuffle=True, random_state=42)\n",
    "\n",
    "\n",
    "# 5-fold cross-validation\n",
    "for fold, (train_idx, test_idx) in enumerate(kf.split(X)):\n",
    "    X_train, X_test = X.iloc[train_idx], X.iloc[test_idx]\n",
    "    y_train, y_test = y.iloc[train_idx], y.iloc[test_idx]\n",
    "\n",
    "    pipeline.fit(X_train, y_train)\n",
    "    y_pred = pipeline.predict(X_test)\n",
    "\n",
    "    acc = accuracy_score(y_test, y_pred)\n",
    "    prec = precision_score(y_test, y_pred, average='macro', zero_division=0)\n",
    "    rec = recall_score(y_test, y_pred, average='macro', zero_division=0)\n",
    "    f1 = f1_score(y_test, y_pred, average='macro', zero_division=0)\n",
    "\n",
    "    accuracies.append(acc)\n",
    "    precisions.append(prec)\n",
    "    recalls.append(rec)\n",
    "    f1s.append(f1)\n",
    "\n",
    "    print(f\"Fold {fold+1} - Acc: {acc:.4f} | Prec: {prec:.4f} | Rec: {rec:.4f} | F1: {f1:.4f}\")\n",
    "\n",
    "\n",
    "print(\"\\n--- Summary ---\")\n",
    "print(f\"Mean Accuracy: {np.mean(accuracies):.4f}\")\n",
    "print(f\"Mean Precision: {np.mean(precisions):.4f}\")\n",
    "print(f\"Mean Recall: {np.mean(recalls):.4f}\")\n",
    "print(f\"Mean F1-score: {np.mean(f1s):.4f}\")"
   ],
   "metadata": {
    "collapsed": false,
    "ExecuteTime": {
     "end_time": "2025-06-01T20:08:58.286403Z",
     "start_time": "2025-06-01T20:06:30.202900Z"
    }
   },
   "id": "7770507443b4aa99"
  },
  {
   "cell_type": "code",
   "outputs": [],
   "source": [
    "# saving resoults to df\n",
    "df_results = pd.DataFrame({\n",
    "    'acc': accuracies,\n",
    "    'prec': precisions,\n",
    "    'rec': recalls,\n",
    "    'f1': f1s\n",
    "})\n",
    "df_results.to_csv(\"2b_classification_simple_resample_MLP.csv\", index=False)"
   ],
   "metadata": {
    "collapsed": false,
    "ExecuteTime": {
     "end_time": "2025-06-01T20:08:58.296403Z",
     "start_time": "2025-06-01T20:08:58.287399Z"
    }
   },
   "id": "33ced7b8cfab7f20",
   "execution_count": 13
  },
  {
   "cell_type": "code",
   "execution_count": 13,
   "outputs": [],
   "source": [],
   "metadata": {
    "collapsed": false,
    "ExecuteTime": {
     "end_time": "2025-06-01T20:08:58.301851Z",
     "start_time": "2025-06-01T20:08:58.298376Z"
    }
   },
   "id": "aa6c7297d4ee2eb4"
  }
 ],
 "metadata": {
  "kernelspec": {
   "display_name": "Python 3",
   "language": "python",
   "name": "python3"
  },
  "language_info": {
   "codemirror_mode": {
    "name": "ipython",
    "version": 2
   },
   "file_extension": ".py",
   "mimetype": "text/x-python",
   "name": "python",
   "nbconvert_exporter": "python",
   "pygments_lexer": "ipython2",
   "version": "2.7.6"
  }
 },
 "nbformat": 4,
 "nbformat_minor": 5
}
