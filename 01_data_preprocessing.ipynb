{
 "cells": [
  {
   "cell_type": "code",
   "execution_count": 2,
   "id": "e84b01e798eb53d8",
   "metadata": {
    "collapsed": false,
    "ExecuteTime": {
     "end_time": "2025-04-29T21:09:47.932597700Z",
     "start_time": "2025-04-29T21:09:47.705532Z"
    }
   },
   "outputs": [
    {
     "data": {
      "text/plain": "      index     budget                                    genres  \\\n0         0  237000000  Action Adventure Fantasy Science Fiction   \n1         1  300000000                  Adventure Fantasy Action   \n2         2  245000000                    Action Adventure Crime   \n3         3  250000000               Action Crime Drama Thriller   \n4         4  260000000          Action Adventure Science Fiction   \n...     ...        ...                                       ...   \n4798   4798     220000                     Action Crime Thriller   \n4799   4799       9000                            Comedy Romance   \n4800   4800          0             Comedy Drama Romance TV Movie   \n4801   4801          0                                       NaN   \n4802   4802          0                               Documentary   \n\n                                               homepage      id  \\\n0                           http://www.avatarmovie.com/   19995   \n1          http://disney.go.com/disneypictures/pirates/     285   \n2           http://www.sonypictures.com/movies/spectre/  206647   \n3                    http://www.thedarkknightrises.com/   49026   \n4                  http://movies.disney.com/john-carter   49529   \n...                                                 ...     ...   \n4798                                                NaN    9367   \n4799                                                NaN   72766   \n4800  http://www.hallmarkchannel.com/signedsealeddel...  231617   \n4801                        http://shanghaicalling.com/  126186   \n4802                                                NaN   25975   \n\n                                               keywords original_language  \\\n0     culture clash future space war space colony so...                en   \n1     ocean drug abuse exotic island east india trad...                en   \n2            spy based on novel secret agent sequel mi6                en   \n3     dc comics crime fighter terrorist secret ident...                en   \n4     based on novel mars medallion space travel pri...                en   \n...                                                 ...               ...   \n4798  united states\\u2013mexico barrier legs arms pa...                es   \n4799                                                NaN                en   \n4800  date love at first sight narration investigati...                en   \n4801                                                NaN                en   \n4802               obsession camcorder crush dream girl                en   \n\n                                original_title  \\\n0                                       Avatar   \n1     Pirates of the Caribbean: At World's End   \n2                                      Spectre   \n3                        The Dark Knight Rises   \n4                                  John Carter   \n...                                        ...   \n4798                               El Mariachi   \n4799                                 Newlyweds   \n4800                 Signed, Sealed, Delivered   \n4801                          Shanghai Calling   \n4802                         My Date with Drew   \n\n                                               overview  popularity  ...  \\\n0     In the 22nd century, a paraplegic Marine is di...  150.437577  ...   \n1     Captain Barbossa, long believed to be dead, ha...  139.082615  ...   \n2     A cryptic message from Bond’s past sends him o...  107.376788  ...   \n3     Following the death of District Attorney Harve...  112.312950  ...   \n4     John Carter is a war-weary, former military ca...   43.926995  ...   \n...                                                 ...         ...  ...   \n4798  El Mariachi just wants to play his guitar and ...   14.269792  ...   \n4799  A newlywed couple's honeymoon is upended by th...    0.642552  ...   \n4800  \"Signed, Sealed, Delivered\" introduces a dedic...    1.444476  ...   \n4801  When ambitious New York attorney Sam is sent t...    0.857008  ...   \n4802  Ever since the second grade when he first saw ...    1.929883  ...   \n\n     runtime                                   spoken_languages    status  \\\n0      162.0  [{\"iso_639_1\": \"en\", \"name\": \"English\"}, {\"iso...  Released   \n1      169.0           [{\"iso_639_1\": \"en\", \"name\": \"English\"}]  Released   \n2      148.0  [{\"iso_639_1\": \"fr\", \"name\": \"Fran\\u00e7ais\"},...  Released   \n3      165.0           [{\"iso_639_1\": \"en\", \"name\": \"English\"}]  Released   \n4      132.0           [{\"iso_639_1\": \"en\", \"name\": \"English\"}]  Released   \n...      ...                                                ...       ...   \n4798    81.0      [{\"iso_639_1\": \"es\", \"name\": \"Espa\\u00f1ol\"}]  Released   \n4799    85.0                                                 []  Released   \n4800   120.0           [{\"iso_639_1\": \"en\", \"name\": \"English\"}]  Released   \n4801    98.0           [{\"iso_639_1\": \"en\", \"name\": \"English\"}]  Released   \n4802    90.0           [{\"iso_639_1\": \"en\", \"name\": \"English\"}]  Released   \n\n                                                tagline  \\\n0                           Enter the World of Pandora.   \n1        At the end of the world, the adventure begins.   \n2                                 A Plan No One Escapes   \n3                                       The Legend Ends   \n4                  Lost in our world, found in another.   \n...                                                 ...   \n4798  He didn't come looking for trouble, but troubl...   \n4799  A newlywed couple's honeymoon is upended by th...   \n4800                                                NaN   \n4801                           A New Yorker in Shanghai   \n4802                                                NaN   \n\n                                         title vote_average vote_count  \\\n0                                       Avatar          7.2      11800   \n1     Pirates of the Caribbean: At World's End          6.9       4500   \n2                                      Spectre          6.3       4466   \n3                        The Dark Knight Rises          7.6       9106   \n4                                  John Carter          6.1       2124   \n...                                        ...          ...        ...   \n4798                               El Mariachi          6.6        238   \n4799                                 Newlyweds          5.9          5   \n4800                 Signed, Sealed, Delivered          7.0          6   \n4801                          Shanghai Calling          5.7          7   \n4802                         My Date with Drew          6.3         16   \n\n                                                   cast  \\\n0     Sam Worthington Zoe Saldana Sigourney Weaver S...   \n1     Johnny Depp Orlando Bloom Keira Knightley Stel...   \n2     Daniel Craig Christoph Waltz L\\u00e9a Seydoux ...   \n3     Christian Bale Michael Caine Gary Oldman Anne ...   \n4     Taylor Kitsch Lynn Collins Samantha Morton Wil...   \n...                                                 ...   \n4798  Carlos Gallardo Jaime de Hoyos Peter Marquardt...   \n4799  Edward Burns Kerry Bish\\u00e9 Marsha Dietlein ...   \n4800  Eric Mabius Kristin Booth Crystal Lowe Geoff G...   \n4801  Daniel Henney Eliza Coupe Bill Paxton Alan Ruc...   \n4802  Drew Barrymore Brian Herzlinger Corey Feldman ...   \n\n                                                   crew           director  \n0     [{'name': 'Stephen E. Rivkin', 'gender': 0, 'd...      James Cameron  \n1     [{'name': 'Dariusz Wolski', 'gender': 2, 'depa...     Gore Verbinski  \n2     [{'name': 'Thomas Newman', 'gender': 2, 'depar...         Sam Mendes  \n3     [{'name': 'Hans Zimmer', 'gender': 2, 'departm...  Christopher Nolan  \n4     [{'name': 'Andrew Stanton', 'gender': 2, 'depa...     Andrew Stanton  \n...                                                 ...                ...  \n4798  [{'name': 'Robert Rodriguez', 'gender': 0, 'de...   Robert Rodriguez  \n4799  [{'name': 'Edward Burns', 'gender': 2, 'depart...       Edward Burns  \n4800  [{'name': 'Carla Hetland', 'gender': 0, 'depar...        Scott Smith  \n4801  [{'name': 'Daniel Hsia', 'gender': 2, 'departm...        Daniel Hsia  \n4802  [{'name': 'Clark Peterson', 'gender': 2, 'depa...   Brian Herzlinger  \n\n[4803 rows x 24 columns]",
      "text/html": "<div>\n<style scoped>\n    .dataframe tbody tr th:only-of-type {\n        vertical-align: middle;\n    }\n\n    .dataframe tbody tr th {\n        vertical-align: top;\n    }\n\n    .dataframe thead th {\n        text-align: right;\n    }\n</style>\n<table border=\"1\" class=\"dataframe\">\n  <thead>\n    <tr style=\"text-align: right;\">\n      <th></th>\n      <th>index</th>\n      <th>budget</th>\n      <th>genres</th>\n      <th>homepage</th>\n      <th>id</th>\n      <th>keywords</th>\n      <th>original_language</th>\n      <th>original_title</th>\n      <th>overview</th>\n      <th>popularity</th>\n      <th>...</th>\n      <th>runtime</th>\n      <th>spoken_languages</th>\n      <th>status</th>\n      <th>tagline</th>\n      <th>title</th>\n      <th>vote_average</th>\n      <th>vote_count</th>\n      <th>cast</th>\n      <th>crew</th>\n      <th>director</th>\n    </tr>\n  </thead>\n  <tbody>\n    <tr>\n      <th>0</th>\n      <td>0</td>\n      <td>237000000</td>\n      <td>Action Adventure Fantasy Science Fiction</td>\n      <td>http://www.avatarmovie.com/</td>\n      <td>19995</td>\n      <td>culture clash future space war space colony so...</td>\n      <td>en</td>\n      <td>Avatar</td>\n      <td>In the 22nd century, a paraplegic Marine is di...</td>\n      <td>150.437577</td>\n      <td>...</td>\n      <td>162.0</td>\n      <td>[{\"iso_639_1\": \"en\", \"name\": \"English\"}, {\"iso...</td>\n      <td>Released</td>\n      <td>Enter the World of Pandora.</td>\n      <td>Avatar</td>\n      <td>7.2</td>\n      <td>11800</td>\n      <td>Sam Worthington Zoe Saldana Sigourney Weaver S...</td>\n      <td>[{'name': 'Stephen E. Rivkin', 'gender': 0, 'd...</td>\n      <td>James Cameron</td>\n    </tr>\n    <tr>\n      <th>1</th>\n      <td>1</td>\n      <td>300000000</td>\n      <td>Adventure Fantasy Action</td>\n      <td>http://disney.go.com/disneypictures/pirates/</td>\n      <td>285</td>\n      <td>ocean drug abuse exotic island east india trad...</td>\n      <td>en</td>\n      <td>Pirates of the Caribbean: At World's End</td>\n      <td>Captain Barbossa, long believed to be dead, ha...</td>\n      <td>139.082615</td>\n      <td>...</td>\n      <td>169.0</td>\n      <td>[{\"iso_639_1\": \"en\", \"name\": \"English\"}]</td>\n      <td>Released</td>\n      <td>At the end of the world, the adventure begins.</td>\n      <td>Pirates of the Caribbean: At World's End</td>\n      <td>6.9</td>\n      <td>4500</td>\n      <td>Johnny Depp Orlando Bloom Keira Knightley Stel...</td>\n      <td>[{'name': 'Dariusz Wolski', 'gender': 2, 'depa...</td>\n      <td>Gore Verbinski</td>\n    </tr>\n    <tr>\n      <th>2</th>\n      <td>2</td>\n      <td>245000000</td>\n      <td>Action Adventure Crime</td>\n      <td>http://www.sonypictures.com/movies/spectre/</td>\n      <td>206647</td>\n      <td>spy based on novel secret agent sequel mi6</td>\n      <td>en</td>\n      <td>Spectre</td>\n      <td>A cryptic message from Bond’s past sends him o...</td>\n      <td>107.376788</td>\n      <td>...</td>\n      <td>148.0</td>\n      <td>[{\"iso_639_1\": \"fr\", \"name\": \"Fran\\u00e7ais\"},...</td>\n      <td>Released</td>\n      <td>A Plan No One Escapes</td>\n      <td>Spectre</td>\n      <td>6.3</td>\n      <td>4466</td>\n      <td>Daniel Craig Christoph Waltz L\\u00e9a Seydoux ...</td>\n      <td>[{'name': 'Thomas Newman', 'gender': 2, 'depar...</td>\n      <td>Sam Mendes</td>\n    </tr>\n    <tr>\n      <th>3</th>\n      <td>3</td>\n      <td>250000000</td>\n      <td>Action Crime Drama Thriller</td>\n      <td>http://www.thedarkknightrises.com/</td>\n      <td>49026</td>\n      <td>dc comics crime fighter terrorist secret ident...</td>\n      <td>en</td>\n      <td>The Dark Knight Rises</td>\n      <td>Following the death of District Attorney Harve...</td>\n      <td>112.312950</td>\n      <td>...</td>\n      <td>165.0</td>\n      <td>[{\"iso_639_1\": \"en\", \"name\": \"English\"}]</td>\n      <td>Released</td>\n      <td>The Legend Ends</td>\n      <td>The Dark Knight Rises</td>\n      <td>7.6</td>\n      <td>9106</td>\n      <td>Christian Bale Michael Caine Gary Oldman Anne ...</td>\n      <td>[{'name': 'Hans Zimmer', 'gender': 2, 'departm...</td>\n      <td>Christopher Nolan</td>\n    </tr>\n    <tr>\n      <th>4</th>\n      <td>4</td>\n      <td>260000000</td>\n      <td>Action Adventure Science Fiction</td>\n      <td>http://movies.disney.com/john-carter</td>\n      <td>49529</td>\n      <td>based on novel mars medallion space travel pri...</td>\n      <td>en</td>\n      <td>John Carter</td>\n      <td>John Carter is a war-weary, former military ca...</td>\n      <td>43.926995</td>\n      <td>...</td>\n      <td>132.0</td>\n      <td>[{\"iso_639_1\": \"en\", \"name\": \"English\"}]</td>\n      <td>Released</td>\n      <td>Lost in our world, found in another.</td>\n      <td>John Carter</td>\n      <td>6.1</td>\n      <td>2124</td>\n      <td>Taylor Kitsch Lynn Collins Samantha Morton Wil...</td>\n      <td>[{'name': 'Andrew Stanton', 'gender': 2, 'depa...</td>\n      <td>Andrew Stanton</td>\n    </tr>\n    <tr>\n      <th>...</th>\n      <td>...</td>\n      <td>...</td>\n      <td>...</td>\n      <td>...</td>\n      <td>...</td>\n      <td>...</td>\n      <td>...</td>\n      <td>...</td>\n      <td>...</td>\n      <td>...</td>\n      <td>...</td>\n      <td>...</td>\n      <td>...</td>\n      <td>...</td>\n      <td>...</td>\n      <td>...</td>\n      <td>...</td>\n      <td>...</td>\n      <td>...</td>\n      <td>...</td>\n      <td>...</td>\n    </tr>\n    <tr>\n      <th>4798</th>\n      <td>4798</td>\n      <td>220000</td>\n      <td>Action Crime Thriller</td>\n      <td>NaN</td>\n      <td>9367</td>\n      <td>united states\\u2013mexico barrier legs arms pa...</td>\n      <td>es</td>\n      <td>El Mariachi</td>\n      <td>El Mariachi just wants to play his guitar and ...</td>\n      <td>14.269792</td>\n      <td>...</td>\n      <td>81.0</td>\n      <td>[{\"iso_639_1\": \"es\", \"name\": \"Espa\\u00f1ol\"}]</td>\n      <td>Released</td>\n      <td>He didn't come looking for trouble, but troubl...</td>\n      <td>El Mariachi</td>\n      <td>6.6</td>\n      <td>238</td>\n      <td>Carlos Gallardo Jaime de Hoyos Peter Marquardt...</td>\n      <td>[{'name': 'Robert Rodriguez', 'gender': 0, 'de...</td>\n      <td>Robert Rodriguez</td>\n    </tr>\n    <tr>\n      <th>4799</th>\n      <td>4799</td>\n      <td>9000</td>\n      <td>Comedy Romance</td>\n      <td>NaN</td>\n      <td>72766</td>\n      <td>NaN</td>\n      <td>en</td>\n      <td>Newlyweds</td>\n      <td>A newlywed couple's honeymoon is upended by th...</td>\n      <td>0.642552</td>\n      <td>...</td>\n      <td>85.0</td>\n      <td>[]</td>\n      <td>Released</td>\n      <td>A newlywed couple's honeymoon is upended by th...</td>\n      <td>Newlyweds</td>\n      <td>5.9</td>\n      <td>5</td>\n      <td>Edward Burns Kerry Bish\\u00e9 Marsha Dietlein ...</td>\n      <td>[{'name': 'Edward Burns', 'gender': 2, 'depart...</td>\n      <td>Edward Burns</td>\n    </tr>\n    <tr>\n      <th>4800</th>\n      <td>4800</td>\n      <td>0</td>\n      <td>Comedy Drama Romance TV Movie</td>\n      <td>http://www.hallmarkchannel.com/signedsealeddel...</td>\n      <td>231617</td>\n      <td>date love at first sight narration investigati...</td>\n      <td>en</td>\n      <td>Signed, Sealed, Delivered</td>\n      <td>\"Signed, Sealed, Delivered\" introduces a dedic...</td>\n      <td>1.444476</td>\n      <td>...</td>\n      <td>120.0</td>\n      <td>[{\"iso_639_1\": \"en\", \"name\": \"English\"}]</td>\n      <td>Released</td>\n      <td>NaN</td>\n      <td>Signed, Sealed, Delivered</td>\n      <td>7.0</td>\n      <td>6</td>\n      <td>Eric Mabius Kristin Booth Crystal Lowe Geoff G...</td>\n      <td>[{'name': 'Carla Hetland', 'gender': 0, 'depar...</td>\n      <td>Scott Smith</td>\n    </tr>\n    <tr>\n      <th>4801</th>\n      <td>4801</td>\n      <td>0</td>\n      <td>NaN</td>\n      <td>http://shanghaicalling.com/</td>\n      <td>126186</td>\n      <td>NaN</td>\n      <td>en</td>\n      <td>Shanghai Calling</td>\n      <td>When ambitious New York attorney Sam is sent t...</td>\n      <td>0.857008</td>\n      <td>...</td>\n      <td>98.0</td>\n      <td>[{\"iso_639_1\": \"en\", \"name\": \"English\"}]</td>\n      <td>Released</td>\n      <td>A New Yorker in Shanghai</td>\n      <td>Shanghai Calling</td>\n      <td>5.7</td>\n      <td>7</td>\n      <td>Daniel Henney Eliza Coupe Bill Paxton Alan Ruc...</td>\n      <td>[{'name': 'Daniel Hsia', 'gender': 2, 'departm...</td>\n      <td>Daniel Hsia</td>\n    </tr>\n    <tr>\n      <th>4802</th>\n      <td>4802</td>\n      <td>0</td>\n      <td>Documentary</td>\n      <td>NaN</td>\n      <td>25975</td>\n      <td>obsession camcorder crush dream girl</td>\n      <td>en</td>\n      <td>My Date with Drew</td>\n      <td>Ever since the second grade when he first saw ...</td>\n      <td>1.929883</td>\n      <td>...</td>\n      <td>90.0</td>\n      <td>[{\"iso_639_1\": \"en\", \"name\": \"English\"}]</td>\n      <td>Released</td>\n      <td>NaN</td>\n      <td>My Date with Drew</td>\n      <td>6.3</td>\n      <td>16</td>\n      <td>Drew Barrymore Brian Herzlinger Corey Feldman ...</td>\n      <td>[{'name': 'Clark Peterson', 'gender': 2, 'depa...</td>\n      <td>Brian Herzlinger</td>\n    </tr>\n  </tbody>\n</table>\n<p>4803 rows × 24 columns</p>\n</div>"
     },
     "metadata": {},
     "output_type": "display_data"
    }
   ],
   "source": [
    "import pandas as pd\n",
    "\n",
    "df = pd.read_csv('movie_dataset.csv')\n",
    "\n",
    "display(df)"
   ]
  },
  {
   "cell_type": "code",
   "execution_count": 3,
   "id": "2c51d720b48c1774",
   "metadata": {
    "collapsed": false,
    "ExecuteTime": {
     "end_time": "2025-04-29T21:09:47.947674400Z",
     "start_time": "2025-04-29T21:09:47.937039Z"
    }
   },
   "outputs": [
    {
     "name": "stdout",
     "output_type": "stream",
     "text": [
      "index                      0\n",
      "budget                     0\n",
      "genres                    28\n",
      "homepage                3091\n",
      "id                         0\n",
      "keywords                 412\n",
      "original_language          0\n",
      "original_title             0\n",
      "overview                   3\n",
      "popularity                 0\n",
      "production_companies       0\n",
      "production_countries       0\n",
      "release_date               1\n",
      "revenue                    0\n",
      "runtime                    2\n",
      "spoken_languages           0\n",
      "status                     0\n",
      "tagline                  844\n",
      "title                      0\n",
      "vote_average               0\n",
      "vote_count                 0\n",
      "cast                      43\n",
      "crew                       0\n",
      "director                  30\n",
      "dtype: int64\n"
     ]
    }
   ],
   "source": [
    "# Check null values\n",
    "print(df.isnull().sum())"
   ]
  },
  {
   "cell_type": "code",
   "execution_count": 4,
   "id": "fab1dd0eb7b83837",
   "metadata": {
    "collapsed": false,
    "ExecuteTime": {
     "end_time": "2025-04-29T21:09:47.957866400Z",
     "start_time": "2025-04-29T21:09:47.945334500Z"
    }
   },
   "outputs": [],
   "source": [
    "# Select features\n",
    "features = [\n",
    "    'budget', 'genres', 'original_title', 'release_date', \n",
    "    'runtime', 'original_language', 'popularity', \n",
    "    'vote_average', 'vote_count', 'revenue'\n",
    "] # nie wiem czy będziemy analizować original_title, bo to nie jest ani numerical ani categorical, ale narazie zostawiłam (w rapocie usunęłam)\n",
    "\n",
    "df = df[features]"
   ]
  },
  {
   "cell_type": "code",
   "execution_count": 5,
   "id": "40f509a6",
   "metadata": {
    "ExecuteTime": {
     "end_time": "2025-04-29T21:09:47.988445100Z",
     "start_time": "2025-04-29T21:09:47.957866400Z"
    }
   },
   "outputs": [],
   "source": [
    "# Delete duplicates\n",
    "df.drop_duplicates(inplace=True)\n",
    "\n",
    "# Delete null values\n",
    "df = df.dropna()"
   ]
  },
  {
   "cell_type": "code",
   "execution_count": 6,
   "id": "9e01607f",
   "metadata": {
    "ExecuteTime": {
     "end_time": "2025-04-29T21:09:47.988445100Z",
     "start_time": "2025-04-29T21:09:47.972622800Z"
    }
   },
   "outputs": [],
   "source": [
    "# Separate numeric and categorical values\n",
    "numeric_features = ['budget', 'runtime', 'vote_average', 'vote_count', 'revenue']\n",
    "categorical_features = ['genres', 'original_language']\n"
   ]
  },
  {
   "cell_type": "code",
   "execution_count": 7,
   "id": "92ef9c8b",
   "metadata": {
    "ExecuteTime": {
     "end_time": "2025-04-29T21:09:48.025586200Z",
     "start_time": "2025-04-29T21:09:47.976965300Z"
    }
   },
   "outputs": [],
   "source": [
    "# Data conversion to realease year\n",
    "df['release_date'] = pd.to_datetime(df['release_date'], errors='coerce')\n",
    "df['release_year'] = df['release_date'].dt.year\n",
    "\n",
    "# Add realease_year as a numeric feature\n",
    "numeric_features.append('release_year')\n",
    "df.drop(columns=['release_date'], inplace=True)\n"
   ]
  },
  {
   "cell_type": "code",
   "execution_count": 8,
   "id": "b1816835",
   "metadata": {
    "ExecuteTime": {
     "end_time": "2025-04-29T21:09:48.077843Z",
     "start_time": "2025-04-29T21:09:47.988445100Z"
    }
   },
   "outputs": [
    {
     "data": {
      "text/plain": "         budget                                    genres  \\\n0     237000000  Action Adventure Fantasy Science Fiction   \n1     300000000                  Adventure Fantasy Action   \n2     245000000                    Action Adventure Crime   \n3     250000000               Action Crime Drama Thriller   \n4     260000000          Action Adventure Science Fiction   \n...         ...                                       ...   \n4797          0                          Foreign Thriller   \n4798     220000                     Action Crime Thriller   \n4799       9000                            Comedy Romance   \n4800          0             Comedy Drama Romance TV Movie   \n4802          0                               Documentary   \n\n                                original_title  runtime original_language  \\\n0                                       Avatar    162.0                en   \n1     Pirates of the Caribbean: At World's End    169.0                en   \n2                                      Spectre    148.0                en   \n3                        The Dark Knight Rises    165.0                en   \n4                                  John Carter    132.0                en   \n...                                        ...      ...               ...   \n4797                                    Cavite     80.0                en   \n4798                               El Mariachi     81.0                es   \n4799                                 Newlyweds     85.0                en   \n4800                 Signed, Sealed, Delivered    120.0                en   \n4802                         My Date with Drew     90.0                en   \n\n      popularity  vote_average  vote_count     revenue  release_year  \n0     150.437577           7.2       11800  2787965087          2009  \n1     139.082615           6.9        4500   961000000          2007  \n2     107.376788           6.3        4466   880674609          2015  \n3     112.312950           7.6        9106  1084939099          2012  \n4      43.926995           6.1        2124   284139100          2012  \n...          ...           ...         ...         ...           ...  \n4797    0.022173           7.5           2           0          2005  \n4798   14.269792           6.6         238     2040920          1992  \n4799    0.642552           5.9           5           0          2011  \n4800    1.444476           7.0           6           0          2013  \n4802    1.929883           6.3          16           0          2005  \n\n[4773 rows x 10 columns]",
      "text/html": "<div>\n<style scoped>\n    .dataframe tbody tr th:only-of-type {\n        vertical-align: middle;\n    }\n\n    .dataframe tbody tr th {\n        vertical-align: top;\n    }\n\n    .dataframe thead th {\n        text-align: right;\n    }\n</style>\n<table border=\"1\" class=\"dataframe\">\n  <thead>\n    <tr style=\"text-align: right;\">\n      <th></th>\n      <th>budget</th>\n      <th>genres</th>\n      <th>original_title</th>\n      <th>runtime</th>\n      <th>original_language</th>\n      <th>popularity</th>\n      <th>vote_average</th>\n      <th>vote_count</th>\n      <th>revenue</th>\n      <th>release_year</th>\n    </tr>\n  </thead>\n  <tbody>\n    <tr>\n      <th>0</th>\n      <td>237000000</td>\n      <td>Action Adventure Fantasy Science Fiction</td>\n      <td>Avatar</td>\n      <td>162.0</td>\n      <td>en</td>\n      <td>150.437577</td>\n      <td>7.2</td>\n      <td>11800</td>\n      <td>2787965087</td>\n      <td>2009</td>\n    </tr>\n    <tr>\n      <th>1</th>\n      <td>300000000</td>\n      <td>Adventure Fantasy Action</td>\n      <td>Pirates of the Caribbean: At World's End</td>\n      <td>169.0</td>\n      <td>en</td>\n      <td>139.082615</td>\n      <td>6.9</td>\n      <td>4500</td>\n      <td>961000000</td>\n      <td>2007</td>\n    </tr>\n    <tr>\n      <th>2</th>\n      <td>245000000</td>\n      <td>Action Adventure Crime</td>\n      <td>Spectre</td>\n      <td>148.0</td>\n      <td>en</td>\n      <td>107.376788</td>\n      <td>6.3</td>\n      <td>4466</td>\n      <td>880674609</td>\n      <td>2015</td>\n    </tr>\n    <tr>\n      <th>3</th>\n      <td>250000000</td>\n      <td>Action Crime Drama Thriller</td>\n      <td>The Dark Knight Rises</td>\n      <td>165.0</td>\n      <td>en</td>\n      <td>112.312950</td>\n      <td>7.6</td>\n      <td>9106</td>\n      <td>1084939099</td>\n      <td>2012</td>\n    </tr>\n    <tr>\n      <th>4</th>\n      <td>260000000</td>\n      <td>Action Adventure Science Fiction</td>\n      <td>John Carter</td>\n      <td>132.0</td>\n      <td>en</td>\n      <td>43.926995</td>\n      <td>6.1</td>\n      <td>2124</td>\n      <td>284139100</td>\n      <td>2012</td>\n    </tr>\n    <tr>\n      <th>...</th>\n      <td>...</td>\n      <td>...</td>\n      <td>...</td>\n      <td>...</td>\n      <td>...</td>\n      <td>...</td>\n      <td>...</td>\n      <td>...</td>\n      <td>...</td>\n      <td>...</td>\n    </tr>\n    <tr>\n      <th>4797</th>\n      <td>0</td>\n      <td>Foreign Thriller</td>\n      <td>Cavite</td>\n      <td>80.0</td>\n      <td>en</td>\n      <td>0.022173</td>\n      <td>7.5</td>\n      <td>2</td>\n      <td>0</td>\n      <td>2005</td>\n    </tr>\n    <tr>\n      <th>4798</th>\n      <td>220000</td>\n      <td>Action Crime Thriller</td>\n      <td>El Mariachi</td>\n      <td>81.0</td>\n      <td>es</td>\n      <td>14.269792</td>\n      <td>6.6</td>\n      <td>238</td>\n      <td>2040920</td>\n      <td>1992</td>\n    </tr>\n    <tr>\n      <th>4799</th>\n      <td>9000</td>\n      <td>Comedy Romance</td>\n      <td>Newlyweds</td>\n      <td>85.0</td>\n      <td>en</td>\n      <td>0.642552</td>\n      <td>5.9</td>\n      <td>5</td>\n      <td>0</td>\n      <td>2011</td>\n    </tr>\n    <tr>\n      <th>4800</th>\n      <td>0</td>\n      <td>Comedy Drama Romance TV Movie</td>\n      <td>Signed, Sealed, Delivered</td>\n      <td>120.0</td>\n      <td>en</td>\n      <td>1.444476</td>\n      <td>7.0</td>\n      <td>6</td>\n      <td>0</td>\n      <td>2013</td>\n    </tr>\n    <tr>\n      <th>4802</th>\n      <td>0</td>\n      <td>Documentary</td>\n      <td>My Date with Drew</td>\n      <td>90.0</td>\n      <td>en</td>\n      <td>1.929883</td>\n      <td>6.3</td>\n      <td>16</td>\n      <td>0</td>\n      <td>2005</td>\n    </tr>\n  </tbody>\n</table>\n<p>4773 rows × 10 columns</p>\n</div>"
     },
     "metadata": {},
     "output_type": "display_data"
    }
   ],
   "source": [
    "display(df)\n",
    "\n",
    "# Export to another module (experiment_goal)\n",
    "df.to_pickle(\"df.pkl\") "
   ]
  }
 ],
 "metadata": {
  "kernelspec": {
   "display_name": "Python 3",
   "language": "python",
   "name": "python3"
  },
  "language_info": {
   "codemirror_mode": {
    "name": "ipython",
    "version": 3
   },
   "file_extension": ".py",
   "mimetype": "text/x-python",
   "name": "python",
   "nbconvert_exporter": "python",
   "pygments_lexer": "ipython3",
   "version": "3.11.2"
  }
 },
 "nbformat": 4,
 "nbformat_minor": 5
}
