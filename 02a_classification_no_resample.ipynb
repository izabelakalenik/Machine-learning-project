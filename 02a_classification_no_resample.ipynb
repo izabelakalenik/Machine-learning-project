{
 "cells": [
  {
   "cell_type": "code",
   "execution_count": 10,
   "id": "initial_id",
   "metadata": {
    "collapsed": true,
    "ExecuteTime": {
     "end_time": "2025-05-04T14:30:13.996307Z",
     "start_time": "2025-05-04T14:30:13.972469Z"
    }
   },
   "outputs": [],
   "source": [
    "import pandas as pd\n",
    "from sklearn.model_selection import cross_val_score\n",
    "from sklearn.pipeline import Pipeline\n",
    "from sklearn.preprocessing import StandardScaler"
   ]
  },
  {
   "cell_type": "code",
   "outputs": [],
   "source": [
    "df = pd.read_csv('cleaned_movies.csv')"
   ],
   "metadata": {
    "collapsed": false,
    "ExecuteTime": {
     "end_time": "2025-05-04T14:30:14.086895Z",
     "start_time": "2025-05-04T14:30:13.998318Z"
    }
   },
   "id": "508353d531c3742a",
   "execution_count": 11
  },
  {
   "cell_type": "markdown",
   "source": [
    "SVM"
   ],
   "metadata": {
    "collapsed": false
   },
   "id": "ad5b609cc68211c0"
  },
  {
   "cell_type": "code",
   "outputs": [
    {
     "name": "stdout",
     "output_type": "stream",
     "text": [
      "budget              int64\n",
      "runtime           float64\n",
      "vote_average      float64\n",
      "vote_count          int64\n",
      "revenue             int64\n",
      "release_year        int64\n",
      "genres_score      float64\n",
      "language_score    float64\n",
      "dtype: object\n"
     ]
    }
   ],
   "source": [
    "X = df.drop(columns=['genres', 'original_language', 'popularity_class', 'popularity']).copy()\n",
    "y = df['popularity_class']\n",
    "\n",
    "print(X.dtypes)"
   ],
   "metadata": {
    "collapsed": false,
    "ExecuteTime": {
     "end_time": "2025-05-04T14:30:14.106932Z",
     "start_time": "2025-05-04T14:30:14.088892Z"
    }
   },
   "id": "a17961405b7f8569",
   "execution_count": 12
  },
  {
   "cell_type": "code",
   "outputs": [
    {
     "name": "stdout",
     "output_type": "stream",
     "text": [
      "R² score for each fold: [0.51770833 0.8875     0.91354167 0.88854167 0.821875  ]\n",
      "Mean R² score: 0.8058333333333334\n"
     ]
    }
   ],
   "source": [
    "from sklearn.svm import SVC  # if the import is needed only in one cell should we put it here or on the top? \n",
    "\n",
    "pipeline = Pipeline([\n",
    "    ('scaler', StandardScaler()),\n",
    "    ('svc', SVC())\n",
    "])\n",
    "\n",
    "# 5-fold cross-validation (for accuracy score)\n",
    "scores = cross_val_score(pipeline, X, y, cv=5, scoring='accuracy')\n",
    "\n",
    "print(\"R² score for each fold:\", scores)\n",
    "print(\"Mean R² score:\", scores.mean())\n",
    "\n",
    "# we have to adjust metrics"
   ],
   "metadata": {
    "collapsed": false,
    "ExecuteTime": {
     "end_time": "2025-05-04T14:30:15.676161Z",
     "start_time": "2025-05-04T14:30:14.107933Z"
    }
   },
   "id": "5a3894585c82a9f1",
   "execution_count": 13
  },
  {
   "cell_type": "markdown",
   "source": [
    "KNN"
   ],
   "metadata": {
    "collapsed": false
   },
   "id": "e38d40618f1fc38e"
  },
  {
   "cell_type": "code",
   "outputs": [
    {
     "name": "stdout",
     "output_type": "stream",
     "text": [
      "R² score for each fold: [0.471875   0.79166667 0.85       0.83854167 0.78229167]\n",
      "Mean R² score: 0.746875\n"
     ]
    }
   ],
   "source": [
    "from sklearn.neighbors import KNeighborsClassifier\n",
    "\n",
    "pipeline = Pipeline([\n",
    "    ('scaler', StandardScaler()),\n",
    "    ('knn', KNeighborsClassifier(n_neighbors=5))\n",
    "])\n",
    "\n",
    "scores = cross_val_score(pipeline, X, y, cv=5, scoring='accuracy')\n",
    "print(\"R² score for each fold:\", scores)\n",
    "print(\"Mean R² score:\", scores.mean())\n",
    "# we have to adjust metrics"
   ],
   "metadata": {
    "collapsed": false,
    "ExecuteTime": {
     "end_time": "2025-05-04T14:30:16.034983Z",
     "start_time": "2025-05-04T14:30:15.677154Z"
    }
   },
   "id": "d2cdb6bb512eead2",
   "execution_count": 14
  },
  {
   "cell_type": "code",
   "outputs": [],
   "source": [],
   "metadata": {
    "collapsed": false,
    "ExecuteTime": {
     "end_time": "2025-05-04T14:30:16.039405Z",
     "start_time": "2025-05-04T14:30:16.036981Z"
    }
   },
   "id": "c4b79d61a8dc2c49",
   "execution_count": 14
  }
 ],
 "metadata": {
  "kernelspec": {
   "display_name": "Python 3",
   "language": "python",
   "name": "python3"
  },
  "language_info": {
   "codemirror_mode": {
    "name": "ipython",
    "version": 2
   },
   "file_extension": ".py",
   "mimetype": "text/x-python",
   "name": "python",
   "nbconvert_exporter": "python",
   "pygments_lexer": "ipython2",
   "version": "2.7.6"
  }
 },
 "nbformat": 4,
 "nbformat_minor": 5
}
