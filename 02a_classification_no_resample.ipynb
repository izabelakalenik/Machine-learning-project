{
 "cells": [
  {
   "cell_type": "code",
   "execution_count": 12,
   "id": "initial_id",
   "metadata": {
    "collapsed": true,
    "ExecuteTime": {
     "end_time": "2025-06-05T15:36:13.120803400Z",
     "start_time": "2025-06-05T15:36:13.070377200Z"
    }
   },
   "outputs": [],
   "source": [
    "import pandas as pd\n",
    "from sklearn.pipeline import Pipeline\n",
    "from sklearn.preprocessing import StandardScaler\n",
    "import numpy as np\n",
    "from sklearn.metrics import accuracy_score, precision_score, recall_score, f1_score\n",
    "from sklearn.model_selection import KFold"
   ]
  },
  {
   "cell_type": "code",
   "outputs": [],
   "source": [
    "df = pd.read_csv('cleaned_movies.csv')"
   ],
   "metadata": {
    "collapsed": false,
    "ExecuteTime": {
     "end_time": "2025-06-05T15:36:13.120803400Z",
     "start_time": "2025-06-05T15:36:13.070377200Z"
    }
   },
   "id": "508353d531c3742a",
   "execution_count": 13
  },
  {
   "cell_type": "code",
   "outputs": [
    {
     "name": "stdout",
     "output_type": "stream",
     "text": [
      "budget            int64\n",
      "runtime         float64\n",
      "vote_average    float64\n",
      "vote_count        int64\n",
      "revenue           int64\n",
      "release_year      int64\n",
      "genres_score    float64\n",
      "dtype: object\n"
     ]
    }
   ],
   "source": [
    "X = df.drop(columns=['genres', 'original_language', 'popularity_class', 'popularity']).copy()\n",
    "y = df['popularity_class']\n",
    "print(X.dtypes)\n"
   ],
   "metadata": {
    "collapsed": false,
    "ExecuteTime": {
     "end_time": "2025-06-05T15:36:13.120803400Z",
     "start_time": "2025-06-05T15:36:13.108091800Z"
    }
   },
   "id": "a17961405b7f8569",
   "execution_count": 14
  },
  {
   "cell_type": "markdown",
   "source": [
    "# SVM"
   ],
   "metadata": {
    "collapsed": false
   },
   "id": "93b479ab93c738bf"
  },
  {
   "cell_type": "code",
   "outputs": [
    {
     "name": "stdout",
     "output_type": "stream",
     "text": [
      "Fold 1 - Acc: 0.6833 | Prec: 0.4685 | Rec: 0.4256 | F1: 0.4319\n",
      "Fold 2 - Acc: 0.6708 | Prec: 0.3853 | Rec: 0.3929 | F1: 0.3875\n",
      "Fold 3 - Acc: 0.6875 | Prec: 0.3751 | Rec: 0.3836 | F1: 0.3627\n",
      "Fold 4 - Acc: 0.6312 | Prec: 0.3446 | Rec: 0.3354 | F1: 0.3313\n",
      "Fold 5 - Acc: 0.6813 | Prec: 0.4243 | Rec: 0.4010 | F1: 0.3914\n",
      "Fold 6 - Acc: 0.6813 | Prec: 0.4260 | Rec: 0.4277 | F1: 0.4184\n",
      "Fold 7 - Acc: 0.6854 | Prec: 0.3680 | Rec: 0.4152 | F1: 0.3650\n",
      "Fold 8 - Acc: 0.6792 | Prec: 0.3698 | Rec: 0.3909 | F1: 0.3741\n",
      "Fold 9 - Acc: 0.6937 | Prec: 0.3572 | Rec: 0.3815 | F1: 0.3633\n",
      "Fold 10 - Acc: 0.6937 | Prec: 0.3819 | Rec: 0.3753 | F1: 0.3763\n",
      "\n",
      "--- Summary ---\n",
      "Mean Accuracy: 0.6787\n",
      "Mean Precision: 0.3901\n",
      "Mean Recall: 0.3929\n",
      "Mean F1-score: 0.3802\n"
     ]
    }
   ],
   "source": [
    "from sklearn.svm import SVC\n",
    "\n",
    "accuracies = []\n",
    "precisions = []\n",
    "recalls = []\n",
    "f1s = []\n",
    "\n",
    "\n",
    "pipeline = Pipeline([\n",
    "    ('scaler', StandardScaler()),\n",
    "    ('svc', SVC())\n",
    "])\n",
    "\n",
    "\n",
    "kf = KFold(n_splits=10, shuffle=True, random_state=42)\n",
    "\n",
    "# 5-fold cross-validation\n",
    "for fold, (train_idx, test_idx) in enumerate(kf.split(X, y)):\n",
    "    X_train, X_test = X.iloc[train_idx], X.iloc[test_idx]\n",
    "    y_train, y_test = y.iloc[train_idx], y.iloc[test_idx]\n",
    "\n",
    "    pipeline.fit(X_train, y_train)\n",
    "    y_pred = pipeline.predict(X_test)\n",
    "\n",
    "    acc = accuracy_score(y_test, y_pred)\n",
    "    prec = precision_score(y_test, y_pred, average='macro', zero_division=0)\n",
    "    rec = recall_score(y_test, y_pred, average='macro', zero_division=0)\n",
    "    f1 = f1_score(y_test, y_pred, average='macro', zero_division=0)\n",
    "\n",
    "    accuracies.append(acc)\n",
    "    precisions.append(prec)\n",
    "    recalls.append(rec)\n",
    "    f1s.append(f1)\n",
    "    \n",
    "\n",
    "    print(f\"Fold {fold+1} - Acc: {acc:.4f} | Prec: {prec:.4f} | Rec: {rec:.4f} | F1: {f1:.4f}\")\n",
    "\n",
    "\n",
    "print(\"\\n--- Summary ---\")\n",
    "print(f\"Mean Accuracy: {np.mean(accuracies):.4f}\")\n",
    "print(f\"Mean Precision: {np.mean(precisions):.4f}\")\n",
    "print(f\"Mean Recall: {np.mean(recalls):.4f}\")\n",
    "print(f\"Mean F1-score: {np.mean(f1s):.4f}\")\n"
   ],
   "metadata": {
    "collapsed": false,
    "ExecuteTime": {
     "end_time": "2025-06-05T15:36:16.394604100Z",
     "start_time": "2025-06-05T15:36:13.117440200Z"
    }
   },
   "id": "5a3894585c82a9f1",
   "execution_count": 15
  },
  {
   "cell_type": "code",
   "outputs": [],
   "source": [
    "# saving resoults to df\n",
    "df_results = pd.DataFrame({\n",
    "    'acc': accuracies,\n",
    "    'prec': precisions,\n",
    "    'rec': recalls,\n",
    "    'f1': f1s\n",
    "})\n",
    "df_results.to_csv(\"2a_classification_no_resample_SVC.csv\", index=False)"
   ],
   "metadata": {
    "collapsed": false,
    "ExecuteTime": {
     "end_time": "2025-06-05T15:36:16.405529500Z",
     "start_time": "2025-06-05T15:36:16.399226600Z"
    }
   },
   "id": "751a4e3b9f87abae",
   "execution_count": 16
  },
  {
   "cell_type": "markdown",
   "source": [
    "# KNN"
   ],
   "metadata": {
    "collapsed": false
   },
   "id": "e38d40618f1fc38e"
  },
  {
   "cell_type": "code",
   "outputs": [
    {
     "name": "stdout",
     "output_type": "stream",
     "text": [
      "Fold 1 - Acc: 0.5750 | Prec: 0.3947 | Rec: 0.3450 | F1: 0.3529\n",
      "Fold 2 - Acc: 0.5687 | Prec: 0.3462 | Rec: 0.3151 | F1: 0.3266\n",
      "Fold 3 - Acc: 0.6229 | Prec: 0.3950 | Rec: 0.3451 | F1: 0.3552\n",
      "Fold 4 - Acc: 0.5813 | Prec: 0.3272 | Rec: 0.3202 | F1: 0.3221\n",
      "Fold 5 - Acc: 0.5563 | Prec: 0.3064 | Rec: 0.2848 | F1: 0.2926\n",
      "Fold 6 - Acc: 0.5813 | Prec: 0.4530 | Rec: 0.3355 | F1: 0.3692\n",
      "Fold 7 - Acc: 0.5625 | Prec: 0.3166 | Rec: 0.3040 | F1: 0.3035\n",
      "Fold 8 - Acc: 0.5854 | Prec: 0.3372 | Rec: 0.3141 | F1: 0.3176\n",
      "Fold 9 - Acc: 0.6000 | Prec: 0.3267 | Rec: 0.3105 | F1: 0.3146\n",
      "Fold 10 - Acc: 0.6042 | Prec: 0.3713 | Rec: 0.3262 | F1: 0.3411\n",
      "\n",
      "--- Summary ---\n",
      "Mean Accuracy: 0.5837\n",
      "Mean Precision: 0.3574\n",
      "Mean Recall: 0.3201\n",
      "Mean F1-score: 0.3295\n"
     ]
    }
   ],
   "source": [
    "from sklearn.neighbors import KNeighborsClassifier\n",
    "\n",
    "accuracies = []\n",
    "precisions = []\n",
    "recalls = []\n",
    "f1s = []\n",
    "\n",
    "pipeline = Pipeline([\n",
    "    ('scaler', StandardScaler()),\n",
    "    ('knn', KNeighborsClassifier(n_neighbors=5))\n",
    "])\n",
    "\n",
    "\n",
    "kf = KFold(n_splits=10, shuffle=True, random_state=42)\n",
    "\n",
    "# 5-fold cross-validation\n",
    "for fold, (train_idx, test_idx) in enumerate(kf.split(X, y)):\n",
    "    X_train, X_test = X.iloc[train_idx], X.iloc[test_idx]\n",
    "    y_train, y_test = y.iloc[train_idx], y.iloc[test_idx]\n",
    "\n",
    "    pipeline.fit(X_train, y_train)\n",
    "    y_pred = pipeline.predict(X_test)\n",
    "\n",
    "    acc = accuracy_score(y_test, y_pred)\n",
    "    prec = precision_score(y_test, y_pred, average='macro', zero_division=0)\n",
    "    rec = recall_score(y_test, y_pred, average='macro', zero_division=0)\n",
    "    f1 = f1_score(y_test, y_pred, average='macro', zero_division=0)\n",
    "\n",
    "    accuracies.append(acc)\n",
    "    precisions.append(prec)\n",
    "    recalls.append(rec)\n",
    "    f1s.append(f1)\n",
    "\n",
    "    print(f\"Fold {fold+1} - Acc: {acc:.4f} | Prec: {prec:.4f} | Rec: {rec:.4f} | F1: {f1:.4f}\")\n",
    "\n",
    "\n",
    "print(\"\\n--- Summary ---\")\n",
    "print(f\"Mean Accuracy: {np.mean(accuracies):.4f}\")\n",
    "print(f\"Mean Precision: {np.mean(precisions):.4f}\")\n",
    "print(f\"Mean Recall: {np.mean(recalls):.4f}\")\n",
    "print(f\"Mean F1-score: {np.mean(f1s):.4f}\")"
   ],
   "metadata": {
    "collapsed": false,
    "ExecuteTime": {
     "end_time": "2025-06-05T15:36:16.671435500Z",
     "start_time": "2025-06-05T15:36:16.405529500Z"
    }
   },
   "id": "d2cdb6bb512eead2",
   "execution_count": 17
  },
  {
   "cell_type": "code",
   "outputs": [],
   "source": [
    "# saving resoults to df\n",
    "df_results = pd.DataFrame({\n",
    "    'acc': accuracies,\n",
    "    'prec': precisions,\n",
    "    'rec': recalls,\n",
    "    'f1': f1s\n",
    "})\n",
    "df_results.to_csv(\"2a_classification_no_resample_KNN.csv\", index=False)"
   ],
   "metadata": {
    "collapsed": false,
    "ExecuteTime": {
     "end_time": "2025-06-05T15:36:16.686094400Z",
     "start_time": "2025-06-05T15:36:16.675996200Z"
    }
   },
   "id": "3f5e9df610b42135",
   "execution_count": 18
  },
  {
   "cell_type": "markdown",
   "source": [
    "# DECISION TREE"
   ],
   "metadata": {
    "collapsed": false
   },
   "id": "4bc6c87ab3f35993"
  },
  {
   "cell_type": "code",
   "execution_count": 19,
   "outputs": [
    {
     "name": "stdout",
     "output_type": "stream",
     "text": [
      "Fold 1 - Acc: 0.6271 | Prec: 0.4005 | Rec: 0.3927 | F1: 0.3945\n",
      "Fold 2 - Acc: 0.6854 | Prec: 0.4541 | Rec: 0.4537 | F1: 0.4529\n",
      "Fold 3 - Acc: 0.6542 | Prec: 0.4262 | Rec: 0.4478 | F1: 0.4282\n",
      "Fold 4 - Acc: 0.6438 | Prec: 0.4184 | Rec: 0.3968 | F1: 0.4024\n",
      "Fold 5 - Acc: 0.6292 | Prec: 0.4120 | Rec: 0.3690 | F1: 0.3856\n",
      "Fold 6 - Acc: 0.6708 | Prec: 0.3768 | Rec: 0.3674 | F1: 0.3713\n",
      "Fold 7 - Acc: 0.6813 | Prec: 0.4068 | Rec: 0.4152 | F1: 0.3989\n",
      "Fold 8 - Acc: 0.6438 | Prec: 0.3808 | Rec: 0.3770 | F1: 0.3751\n",
      "Fold 9 - Acc: 0.6625 | Prec: 0.3960 | Rec: 0.3936 | F1: 0.3926\n",
      "Fold 10 - Acc: 0.6583 | Prec: 0.4261 | Rec: 0.3925 | F1: 0.4000\n",
      "\n",
      "--- Summary ---\n",
      "Mean Accuracy: 0.6556\n",
      "Mean Precision: 0.4098\n",
      "Mean Recall: 0.4006\n",
      "Mean F1-score: 0.4001\n"
     ]
    }
   ],
   "source": [
    "from sklearn.tree import DecisionTreeClassifier\n",
    "\n",
    "accuracies = []\n",
    "precisions = []\n",
    "recalls = []\n",
    "f1s = []\n",
    "\n",
    "pipeline = Pipeline([\n",
    "    ('tree', DecisionTreeClassifier(random_state=42))\n",
    "])\n",
    "\n",
    "kf = KFold(n_splits=10, shuffle=True, random_state=42)\n",
    "\n",
    "\n",
    "# 5-fold cross-validation\n",
    "for fold, (train_idx, test_idx) in enumerate(kf.split(X)):\n",
    "    X_train, X_test = X.iloc[train_idx], X.iloc[test_idx]\n",
    "    y_train, y_test = y.iloc[train_idx], y.iloc[test_idx]\n",
    "\n",
    "    pipeline.fit(X_train, y_train)\n",
    "    y_pred = pipeline.predict(X_test)\n",
    "\n",
    "    acc = accuracy_score(y_test, y_pred)\n",
    "    prec = precision_score(y_test, y_pred, average='macro', zero_division=0)\n",
    "    rec = recall_score(y_test, y_pred, average='macro', zero_division=0)\n",
    "    f1 = f1_score(y_test, y_pred, average='macro', zero_division=0)\n",
    "\n",
    "    accuracies.append(acc)\n",
    "    precisions.append(prec)\n",
    "    recalls.append(rec)\n",
    "    f1s.append(f1)\n",
    "\n",
    "    print(f\"Fold {fold+1} - Acc: {acc:.4f} | Prec: {prec:.4f} | Rec: {rec:.4f} | F1: {f1:.4f}\")\n",
    "\n",
    "\n",
    "print(\"\\n--- Summary ---\")\n",
    "print(f\"Mean Accuracy: {np.mean(accuracies):.4f}\")\n",
    "print(f\"Mean Precision: {np.mean(precisions):.4f}\")\n",
    "print(f\"Mean Recall: {np.mean(recalls):.4f}\")\n",
    "print(f\"Mean F1-score: {np.mean(f1s):.4f}\")\n"
   ],
   "metadata": {
    "collapsed": false,
    "ExecuteTime": {
     "end_time": "2025-06-05T15:36:16.945074400Z",
     "start_time": "2025-06-05T15:36:16.678542300Z"
    }
   },
   "id": "bd6535a1ef8a6b74"
  },
  {
   "cell_type": "code",
   "outputs": [],
   "source": [
    "# saving resoults to df\n",
    "df_results = pd.DataFrame({\n",
    "    'acc': accuracies,\n",
    "    'prec': precisions,\n",
    "    'rec': recalls,\n",
    "    'f1': f1s\n",
    "})\n",
    "df_results.to_csv(\"2a_classification_no_resample_DT.csv\", index=False)"
   ],
   "metadata": {
    "collapsed": false,
    "ExecuteTime": {
     "end_time": "2025-06-05T15:36:16.952649600Z",
     "start_time": "2025-06-05T15:36:16.948271300Z"
    }
   },
   "id": "f42f4d96530022f0",
   "execution_count": 20
  },
  {
   "cell_type": "markdown",
   "source": [
    "# MULTILAYER PERCEPTRON (MLP)"
   ],
   "metadata": {
    "collapsed": false
   },
   "id": "2165c5c6acd94cc3"
  },
  {
   "cell_type": "code",
   "execution_count": 21,
   "outputs": [
    {
     "name": "stdout",
     "output_type": "stream",
     "text": [
      "Fold 1 - Acc: 0.7000 | Prec: 0.3995 | Rec: 0.4271 | F1: 0.4074\n",
      "Fold 2 - Acc: 0.7333 | Prec: 0.3970 | Rec: 0.4455 | F1: 0.4156\n",
      "Fold 3 - Acc: 0.6958 | Prec: 0.3409 | Rec: 0.3793 | F1: 0.3534\n",
      "Fold 4 - Acc: 0.7125 | Prec: 0.3824 | Rec: 0.4072 | F1: 0.3913\n",
      "Fold 5 - Acc: 0.6875 | Prec: 0.4104 | Rec: 0.3910 | F1: 0.3831\n",
      "Fold 6 - Acc: 0.7125 | Prec: 0.4612 | Rec: 0.4748 | F1: 0.4608\n",
      "Fold 7 - Acc: 0.6917 | Prec: 0.3982 | Rec: 0.4303 | F1: 0.3932\n",
      "Fold 8 - Acc: 0.7250 | Prec: 0.4034 | Rec: 0.4198 | F1: 0.3896\n",
      "Fold 9 - Acc: 0.7312 | Prec: 0.4371 | Rec: 0.4505 | F1: 0.4377\n",
      "Fold 10 - Acc: 0.7354 | Prec: 0.4554 | Rec: 0.4458 | F1: 0.4420\n",
      "\n",
      "--- Summary ---\n",
      "Mean Accuracy: 0.7125\n",
      "Mean Precision: 0.4085\n",
      "Mean Recall: 0.4271\n",
      "Mean F1-score: 0.4074\n"
     ]
    }
   ],
   "source": [
    "from sklearn.neural_network import MLPClassifier\n",
    "\n",
    "accuracies = []\n",
    "precisions = []\n",
    "recalls = []\n",
    "f1s = []\n",
    "\n",
    "mlp = MLPClassifier(\n",
    "    hidden_layer_sizes=(100, 50),     # two hidden layers: 100 and 50 neurons\n",
    "    activation='relu',                # a commonly used activation function\n",
    "    solver='adam',                    # modern optimizer, better than 'sgd' in most cases\n",
    "    learning_rate_init=0.001,         # lower learning rate improves stability\n",
    "    max_iter=1000,                    # more iterations to allow convergence\n",
    "    early_stopping=True,              # stops training if validation score doesn't improve\n",
    "    random_state=42                   # ensures reproducibility\n",
    ")\n",
    "\n",
    "pipeline = Pipeline([\n",
    "    ('scaler', StandardScaler()),\n",
    "    ('mlp', mlp)\n",
    "])\n",
    "\n",
    "\n",
    "kf = KFold(n_splits=10, shuffle=True, random_state=42)\n",
    "\n",
    "\n",
    "# 5-fold cross-validation\n",
    "for fold, (train_idx, test_idx) in enumerate(kf.split(X)):\n",
    "    X_train, X_test = X.iloc[train_idx], X.iloc[test_idx]\n",
    "    y_train, y_test = y.iloc[train_idx], y.iloc[test_idx]\n",
    "\n",
    "    pipeline.fit(X_train, y_train)\n",
    "    y_pred = pipeline.predict(X_test)\n",
    "\n",
    "    acc = accuracy_score(y_test, y_pred)\n",
    "    prec = precision_score(y_test, y_pred, average='macro', zero_division=0)\n",
    "    rec = recall_score(y_test, y_pred, average='macro', zero_division=0)\n",
    "    f1 = f1_score(y_test, y_pred, average='macro', zero_division=0)\n",
    "\n",
    "    accuracies.append(acc)\n",
    "    precisions.append(prec)\n",
    "    recalls.append(rec)\n",
    "    f1s.append(f1)\n",
    "\n",
    "    print(f\"Fold {fold+1} - Acc: {acc:.4f} | Prec: {prec:.4f} | Rec: {rec:.4f} | F1: {f1:.4f}\")\n",
    "\n",
    "\n",
    "print(\"\\n--- Summary ---\")\n",
    "print(f\"Mean Accuracy: {np.mean(accuracies):.4f}\")\n",
    "print(f\"Mean Precision: {np.mean(precisions):.4f}\")\n",
    "print(f\"Mean Recall: {np.mean(recalls):.4f}\")\n",
    "print(f\"Mean F1-score: {np.mean(f1s):.4f}\")\n"
   ],
   "metadata": {
    "collapsed": false,
    "ExecuteTime": {
     "end_time": "2025-06-05T15:36:27.786562800Z",
     "start_time": "2025-06-05T15:36:16.952649600Z"
    }
   },
   "id": "d200e8c23d9f20f3"
  },
  {
   "cell_type": "code",
   "outputs": [],
   "source": [
    "# saving resoults to df\n",
    "df_results = pd.DataFrame({\n",
    "    'acc': accuracies,\n",
    "    'prec': precisions,\n",
    "    'rec': recalls,\n",
    "    'f1': f1s\n",
    "})\n",
    "df_results.to_csv(\"2a_classification_no_resample_MLP.csv\", index=False)"
   ],
   "metadata": {
    "collapsed": false,
    "ExecuteTime": {
     "end_time": "2025-06-05T15:36:27.796704800Z",
     "start_time": "2025-06-05T15:36:27.786562800Z"
    }
   },
   "id": "de29d5d291286970",
   "execution_count": 22
  },
  {
   "cell_type": "code",
   "execution_count": 22,
   "outputs": [],
   "source": [],
   "metadata": {
    "collapsed": false,
    "ExecuteTime": {
     "end_time": "2025-06-05T15:36:27.796704800Z",
     "start_time": "2025-06-05T15:36:27.796704800Z"
    }
   },
   "id": "f36f5bddc2e1c17c"
  }
 ],
 "metadata": {
  "kernelspec": {
   "display_name": "Python 3",
   "language": "python",
   "name": "python3"
  },
  "language_info": {
   "codemirror_mode": {
    "name": "ipython",
    "version": 2
   },
   "file_extension": ".py",
   "mimetype": "text/x-python",
   "name": "python",
   "nbconvert_exporter": "python",
   "pygments_lexer": "ipython2",
   "version": "2.7.6"
  }
 },
 "nbformat": 4,
 "nbformat_minor": 5
}
