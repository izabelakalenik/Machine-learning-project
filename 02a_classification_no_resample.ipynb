{
 "cells": [
  {
   "cell_type": "code",
   "execution_count": 18,
   "id": "initial_id",
   "metadata": {
    "collapsed": true,
    "ExecuteTime": {
     "end_time": "2025-05-11T13:17:02.476290600Z",
     "start_time": "2025-05-11T13:17:02.434741500Z"
    }
   },
   "outputs": [],
   "source": [
    "import pandas as pd\n",
    "from sklearn.model_selection import cross_val_score\n",
    "from sklearn.pipeline import Pipeline\n",
    "from sklearn.preprocessing import StandardScaler"
   ]
  },
  {
   "cell_type": "code",
   "outputs": [],
   "source": [
    "df = pd.read_csv('cleaned_movies.csv')"
   ],
   "metadata": {
    "collapsed": false,
    "ExecuteTime": {
     "end_time": "2025-05-11T13:17:02.520600Z",
     "start_time": "2025-05-11T13:17:02.442865300Z"
    }
   },
   "id": "508353d531c3742a",
   "execution_count": 19
  },
  {
   "cell_type": "code",
   "outputs": [
    {
     "name": "stdout",
     "output_type": "stream",
     "text": [
      "budget              int64\n",
      "runtime           float64\n",
      "vote_average      float64\n",
      "vote_count          int64\n",
      "revenue             int64\n",
      "release_year        int64\n",
      "genres_score      float64\n",
      "language_score    float64\n",
      "dtype: object\n"
     ]
    }
   ],
   "source": [
    "X = df.drop(columns=['genres', 'original_language', 'popularity_class', 'popularity']).copy()\n",
    "y = df['popularity_class']\n",
    "\n",
    "print(X.dtypes)"
   ],
   "metadata": {
    "collapsed": false,
    "ExecuteTime": {
     "end_time": "2025-05-11T13:17:02.520600Z",
     "start_time": "2025-05-11T13:17:02.461824Z"
    }
   },
   "id": "a17961405b7f8569",
   "execution_count": 20
  },
  {
   "cell_type": "markdown",
   "source": [
    "SVM"
   ],
   "metadata": {
    "collapsed": false
   },
   "id": "93b479ab93c738bf"
  },
  {
   "cell_type": "code",
   "outputs": [
    {
     "name": "stdout",
     "output_type": "stream",
     "text": [
      "Accuracy score for each fold: [0.51770833 0.8875     0.91354167 0.88854167 0.821875  ]\n",
      "Mean accuracy score: 0.8058333333333334\n",
      "Classification Report (Precision, Recall, F1):\n",
      "\n",
      "              precision    recall  f1-score   support\n",
      "\n",
      "           0       0.89      0.87      0.88      3085\n",
      "           1       0.70      0.70      0.70      1553\n",
      "           2       0.35      0.50      0.41       162\n",
      "\n",
      "    accuracy                           0.81      4800\n",
      "   macro avg       0.65      0.69      0.67      4800\n",
      "weighted avg       0.81      0.81      0.81      4800\n"
     ]
    }
   ],
   "source": [
    "from sklearn.metrics import classification_report\n",
    "from sklearn.model_selection import cross_val_predict\n",
    "from sklearn.svm import SVC\n",
    "\n",
    "pipeline = Pipeline([\n",
    "    ('scaler', StandardScaler()),\n",
    "    ('svc', SVC())\n",
    "])\n",
    "\n",
    "# 5-fold cross-validation (for accuracy score)\n",
    "scores = cross_val_score(pipeline, X, y, cv=5, scoring='accuracy')\n",
    "print(\"Accuracy score for each fold:\", scores)\n",
    "print(\"Mean accuracy score:\", scores.mean())\n",
    "\n",
    "y_pred = cross_val_predict(pipeline, X, y, cv=5)\n",
    "\n",
    "print(\"Classification Report (Precision, Recall, F1):\\n\")\n",
    "print(classification_report(y, y_pred))\n"
   ],
   "metadata": {
    "collapsed": false,
    "ExecuteTime": {
     "end_time": "2025-05-11T13:17:03.971367700Z",
     "start_time": "2025-05-11T13:17:02.466362800Z"
    }
   },
   "id": "5a3894585c82a9f1",
   "execution_count": 21
  },
  {
   "cell_type": "markdown",
   "source": [
    "KNN"
   ],
   "metadata": {
    "collapsed": false
   },
   "id": "e38d40618f1fc38e"
  },
  {
   "cell_type": "code",
   "outputs": [
    {
     "name": "stdout",
     "output_type": "stream",
     "text": [
      "Accuracy score for each fold: [0.471875   0.79166667 0.85       0.83854167 0.78229167]\n",
      "Mean accuracy score: 0.746875\n",
      "Classification Report (Precision, Recall, F1):\n",
      "\n",
      "              precision    recall  f1-score   support\n",
      "\n",
      "           0       0.84      0.84      0.84      3085\n",
      "           1       0.62      0.59      0.60      1553\n",
      "           2       0.31      0.46      0.37       162\n",
      "\n",
      "    accuracy                           0.75      4800\n",
      "   macro avg       0.59      0.63      0.60      4800\n",
      "weighted avg       0.75      0.75      0.75      4800\n"
     ]
    }
   ],
   "source": [
    "from sklearn.neighbors import KNeighborsClassifier\n",
    "\n",
    "pipeline = Pipeline([\n",
    "    ('scaler', StandardScaler()),\n",
    "    ('knn', KNeighborsClassifier(n_neighbors=5))\n",
    "])\n",
    "\n",
    "scores = cross_val_score(pipeline, X, y, cv=5, scoring='accuracy')\n",
    "print(\"Accuracy score for each fold:\", scores)\n",
    "print(\"Mean accuracy score:\", scores.mean())\n",
    "\n",
    "y_pred = cross_val_predict(pipeline, X, y, cv=5)\n",
    "\n",
    "print(\"Classification Report (Precision, Recall, F1):\\n\")\n",
    "print(classification_report(y, y_pred))"
   ],
   "metadata": {
    "collapsed": false,
    "ExecuteTime": {
     "end_time": "2025-05-11T13:17:04.393994800Z",
     "start_time": "2025-05-11T13:17:03.967345900Z"
    }
   },
   "id": "d2cdb6bb512eead2",
   "execution_count": 22
  },
  {
   "cell_type": "markdown",
   "source": [
    "DECISION TREE"
   ],
   "metadata": {
    "collapsed": false
   },
   "id": "4bc6c87ab3f35993"
  },
  {
   "cell_type": "code",
   "execution_count": 23,
   "outputs": [
    {
     "name": "stdout",
     "output_type": "stream",
     "text": [
      "Accuracy score for each fold: [0.48020833 0.82395833 0.87916667 0.81979167 0.77083333]\n",
      "Mean accuracy score: 0.7547916666666667\n",
      "Classification Report (Precision, Recall, F1):\n",
      "\n",
      "              precision    recall  f1-score   support\n",
      "\n",
      "           0       0.86      0.85      0.85      3085\n",
      "           1       0.63      0.60      0.62      1553\n",
      "           2       0.28      0.49      0.36       162\n",
      "\n",
      "    accuracy                           0.75      4800\n",
      "   macro avg       0.59      0.65      0.61      4800\n",
      "weighted avg       0.77      0.75      0.76      4800\n"
     ]
    }
   ],
   "source": [
    "from sklearn.tree import DecisionTreeClassifier\n",
    "\n",
    "pipeline = Pipeline([\n",
    "    ('tree', DecisionTreeClassifier(random_state=42))\n",
    "])\n",
    "\n",
    "# 5-fold cross-validation\n",
    "scores = cross_val_score(pipeline, X, y, cv=5, scoring='accuracy')\n",
    "print(\"Accuracy score for each fold:\", scores)\n",
    "print(\"Mean accuracy score:\", scores.mean())\n",
    "\n",
    "y_pred = cross_val_predict(pipeline, X, y, cv=5)\n",
    "\n",
    "print(\"Classification Report (Precision, Recall, F1):\\n\")\n",
    "print(classification_report(y, y_pred))\n"
   ],
   "metadata": {
    "collapsed": false,
    "ExecuteTime": {
     "end_time": "2025-05-11T13:17:04.564634800Z",
     "start_time": "2025-05-11T13:17:04.398936Z"
    }
   },
   "id": "bd6535a1ef8a6b74"
  },
  {
   "cell_type": "markdown",
   "source": [
    "MULTILAYER PERCEPTRON (MLP)"
   ],
   "metadata": {
    "collapsed": false
   },
   "id": "2165c5c6acd94cc3"
  },
  {
   "cell_type": "code",
   "execution_count": 24,
   "outputs": [
    {
     "name": "stdout",
     "output_type": "stream",
     "text": [
      "Accuracy score for each fold: [0.56666667 0.88020833 0.91875    0.91041667 0.865625  ]\n",
      "Mean accuracy score: 0.8283333333333331\n",
      "\n",
      "Classification Report (Precision, Recall, F1-score):\n",
      "              precision    recall  f1-score   support\n",
      "\n",
      "           0       0.92      0.88      0.90      3085\n",
      "           1       0.73      0.76      0.74      1553\n",
      "           2       0.37      0.54      0.44       162\n",
      "\n",
      "    accuracy                           0.83      4800\n",
      "   macro avg       0.67      0.73      0.69      4800\n",
      "weighted avg       0.84      0.83      0.83      4800\n"
     ]
    }
   ],
   "source": [
    "from sklearn.neural_network import MLPClassifier\n",
    "\n",
    "mlp = MLPClassifier(\n",
    "    hidden_layer_sizes=(100, 50),     # two hidden layers: 100 and 50 neurons\n",
    "    activation='relu',                # a commonly used activation function\n",
    "    solver='adam',                    # modern optimizer, better than 'sgd' in most cases\n",
    "    learning_rate_init=0.001,         # lower learning rate improves stability\n",
    "    max_iter=1000,                    # more iterations to allow convergence\n",
    "    early_stopping=True,              # stops training if validation score doesn't improve\n",
    "    random_state=42                   # ensures reproducibility\n",
    ")\n",
    "\n",
    "pipeline = Pipeline([\n",
    "    ('scaler', StandardScaler()),\n",
    "    ('mlp', mlp)\n",
    "])\n",
    "\n",
    "# 5-fold cross-validation\n",
    "scores = cross_val_score(pipeline, X, y, cv=5, scoring='accuracy')\n",
    "print(\"Accuracy score for each fold:\", scores)\n",
    "print(\"Mean accuracy score:\", scores.mean())\n",
    "\n",
    "y_pred = cross_val_predict(pipeline, X, y, cv=5)\n",
    "\n",
    "print(\"\\nClassification Report (Precision, Recall, F1-score):\")\n",
    "print(classification_report(y, y_pred))\n"
   ],
   "metadata": {
    "collapsed": false,
    "ExecuteTime": {
     "end_time": "2025-05-11T13:17:11.503299300Z",
     "start_time": "2025-05-11T13:17:04.564634800Z"
    }
   },
   "id": "d200e8c23d9f20f3"
  }
 ],
 "metadata": {
  "kernelspec": {
   "display_name": "Python 3",
   "language": "python",
   "name": "python3"
  },
  "language_info": {
   "codemirror_mode": {
    "name": "ipython",
    "version": 2
   },
   "file_extension": ".py",
   "mimetype": "text/x-python",
   "name": "python",
   "nbconvert_exporter": "python",
   "pygments_lexer": "ipython2",
   "version": "2.7.6"
  }
 },
 "nbformat": 4,
 "nbformat_minor": 5
}
