{
 "cells": [
  {
   "cell_type": "code",
   "outputs": [],
   "source": [
    "import pandas as pd\n",
    "from scipy.stats import wilcoxon"
   ],
   "metadata": {
    "collapsed": false,
    "ExecuteTime": {
     "end_time": "2025-06-05T15:49:44.370115200Z",
     "start_time": "2025-06-05T15:49:44.365344600Z"
    }
   },
   "id": "c0763fcd7f098d90",
   "execution_count": 1
  },
  {
   "cell_type": "code",
   "outputs": [],
   "source": [
    "\n",
    "\n",
    "\n",
    "def run_wilcoxon_test(csv_before, csv_after, model_name):\n",
    "    df_before = pd.read_csv(csv_before)\n",
    "    df_after = pd.read_csv(csv_after)\n",
    "\n",
    "    print(f\"=== Wilcoxon Signed-Rank Test for {model_name} ===\\n\")\n",
    "\n",
    "    for metric in df_before.columns:\n",
    "        before = df_before[metric]\n",
    "        after = df_after[metric]\n",
    "\n",
    "        if len(before) != len(after):\n",
    "            print(f\"Skipping {metric} – unequal lengths.\")\n",
    "            continue\n",
    "\n",
    "        print(f\"Metric: {metric}\")\n",
    "        print(f\"  Values BEFORE: {before.values}\")\n",
    "        print(f\"  Values AFTER : {after.values}\")\n",
    "\n",
    "        try:\n",
    "            stat, p = wilcoxon(before, after, alternative='two-sided')\n",
    "            print(f\"  Test statistic: {stat:.4f}\")\n",
    "            print(f\"  p-value: {p:.4f}\")\n",
    "\n",
    "            if p < 0.05:\n",
    "                print(\"  ✅ Statistically significant difference.\")\n",
    "            else:\n",
    "                print(\"  ❌ No statistically significant difference.\")\n",
    "        except ValueError as e:\n",
    "            print(f\"  Could not compute Wilcoxon for {metric}: {e}\")\n",
    "        print()\n",
    "\n"
   ],
   "metadata": {
    "collapsed": true,
    "ExecuteTime": {
     "end_time": "2025-06-05T15:49:44.437582100Z",
     "start_time": "2025-06-05T15:49:44.431481600Z"
    }
   },
   "id": "initial_id",
   "execution_count": 2
  },
  {
   "cell_type": "markdown",
   "source": [
    "# Comparison of regression and classification (without the resampling)"
   ],
   "metadata": {
    "collapsed": false
   },
   "id": "78d69fd7cc1ee5ae"
  },
  {
   "cell_type": "code",
   "outputs": [
    {
     "name": "stdout",
     "output_type": "stream",
     "text": [
      "=== Wilcoxon Signed-Rank Test for SVM ===\n",
      "\n",
      "Metric: acc\n",
      "  Values BEFORE: [0.68333333 0.67083333 0.6875     0.63125    0.68125    0.68125\n",
      " 0.68541667 0.67916667 0.69375    0.69375   ]\n",
      "  Values AFTER : [0.65       0.64583333 0.65199161 0.62133891 0.60460251 0.63256785\n",
      " 0.63522013 0.64091858 0.62761506 0.62083333]\n",
      "  Test statistic: 0.0000\n",
      "  p-value: 0.0020\n",
      "  ✅ Statistically significant difference.\n",
      "\n",
      "Metric: prec\n",
      "  Values BEFORE: [0.46850683 0.38532401 0.37511091 0.3445748  0.42427792 0.42602384\n",
      " 0.36801087 0.36980609 0.35715658 0.38193961]\n",
      "  Values AFTER : [0.30444951 0.31206225 0.31158785 0.28111194 0.29894349 0.3720947\n",
      " 0.29205011 0.27238501 0.3387095  0.28292851]\n",
      "  Test statistic: 0.0000\n",
      "  p-value: 0.0020\n",
      "  ✅ Statistically significant difference.\n",
      "\n",
      "Metric: rec\n",
      "  Values BEFORE: [0.42560431 0.39289006 0.38364257 0.33538005 0.40103624 0.42771889\n",
      " 0.41519201 0.3908697  0.38148296 0.37532626]\n",
      "  Values AFTER : [0.34491727 0.32672438 0.32539116 0.30997857 0.30629193 0.37539878\n",
      " 0.32676607 0.29941759 0.32795562 0.32481627]\n",
      "  Test statistic: 0.0000\n",
      "  p-value: 0.0020\n",
      "  ✅ Statistically significant difference.\n",
      "\n",
      "Metric: f1\n",
      "  Values BEFORE: [0.43185202 0.38749193 0.36266975 0.33127341 0.39141591 0.41838383\n",
      " 0.36495693 0.37412592 0.36328563 0.37625002]\n",
      "  Values AFTER : [0.32002546 0.31541877 0.30461719 0.29078726 0.29609579 0.36431147\n",
      " 0.30646907 0.28148945 0.31671907 0.29736929]\n",
      "  Test statistic: 0.0000\n",
      "  p-value: 0.0020\n",
      "  ✅ Statistically significant difference.\n"
     ]
    }
   ],
   "source": [
    "# svm\n",
    "\n",
    "run_wilcoxon_test(\n",
    "    \"2a_classification_no_resample_SVC.csv\",\n",
    "    \"3a_classification_no_resample_SVR.csv\",\n",
    "    \"SVM\"\n",
    ")"
   ],
   "metadata": {
    "collapsed": false,
    "ExecuteTime": {
     "end_time": "2025-06-05T15:49:44.463444300Z",
     "start_time": "2025-06-05T15:49:44.437582100Z"
    }
   },
   "id": "b1a18cd00d3b2708",
   "execution_count": 3
  },
  {
   "cell_type": "code",
   "outputs": [
    {
     "name": "stdout",
     "output_type": "stream",
     "text": [
      "=== Wilcoxon Signed-Rank Test for KNN ===\n",
      "\n",
      "Metric: acc\n",
      "  Values BEFORE: [0.575      0.56875    0.62291667 0.58125    0.55625    0.58125\n",
      " 0.5625     0.58541667 0.6        0.60416667]\n",
      "  Values AFTER : [0.61041667 0.63541667 0.64583333 0.61666667 0.57708333 0.61041667\n",
      " 0.5875     0.64791667 0.61458333 0.62708333]\n",
      "  Test statistic: 0.0000\n",
      "  p-value: 0.0020\n",
      "  ✅ Statistically significant difference.\n",
      "\n",
      "Metric: prec\n",
      "  Values BEFORE: [0.39468687 0.34621439 0.39503158 0.32724418 0.30643721 0.45298992\n",
      " 0.31655537 0.33724756 0.32669492 0.37131077]\n",
      "  Values AFTER : [0.43223636 0.44568498 0.44879825 0.46462483 0.3890391  0.42247089\n",
      " 0.38156328 0.4854866  0.39230383 0.42920728]\n",
      "  Test statistic: 1.0000\n",
      "  p-value: 0.0039\n",
      "  ✅ Statistically significant difference.\n",
      "\n",
      "Metric: rec\n",
      "  Values BEFORE: [0.34502789 0.31514886 0.3450748  0.32024551 0.28477988 0.3354685\n",
      " 0.30402106 0.31407672 0.31053364 0.32621119]\n",
      "  Values AFTER : [0.40452372 0.42742762 0.43501057 0.43124239 0.35470771 0.37437049\n",
      " 0.37173787 0.45782307 0.35807493 0.37296898]\n",
      "  Test statistic: 0.0000\n",
      "  p-value: 0.0020\n",
      "  ✅ Statistically significant difference.\n",
      "\n",
      "Metric: f1\n",
      "  Values BEFORE: [0.35292532 0.32659796 0.35520767 0.32212421 0.2925562  0.36915927\n",
      " 0.3034836  0.3176082  0.31455676 0.34111267]\n",
      "  Values AFTER : [0.41344933 0.4314796  0.43495438 0.43030025 0.36898142 0.39036333\n",
      " 0.37197883 0.46357456 0.37015905 0.39093214]\n",
      "  Test statistic: 0.0000\n",
      "  p-value: 0.0020\n",
      "  ✅ Statistically significant difference.\n"
     ]
    }
   ],
   "source": [
    "# knn\n",
    "\n",
    "run_wilcoxon_test(\n",
    "    \"2a_classification_no_resample_KNN.csv\",\n",
    "    \"3a_classification_no_resample_KNN.csv\",\n",
    "    \"KNN\"\n",
    ")"
   ],
   "metadata": {
    "collapsed": false,
    "ExecuteTime": {
     "end_time": "2025-06-05T15:49:44.580323Z",
     "start_time": "2025-06-05T15:49:44.466354900Z"
    }
   },
   "id": "f1aea89b95ee00fa",
   "execution_count": 4
  },
  {
   "cell_type": "code",
   "outputs": [
    {
     "name": "stdout",
     "output_type": "stream",
     "text": [
      "=== Wilcoxon Signed-Rank Test for DT ===\n",
      "\n",
      "Metric: acc\n",
      "  Values BEFORE: [0.62708333 0.68541667 0.65416667 0.64375    0.62916667 0.67083333\n",
      " 0.68125    0.64375    0.6625     0.65833333]\n",
      "  Values AFTER : [0.65416667 0.63958333 0.64166667 0.63958333 0.6125     0.67916667\n",
      " 0.67083333 0.66041667 0.67291667 0.69583333]\n",
      "  Test statistic: 26.0000\n",
      "  p-value: 0.9023\n",
      "  ❌ No statistically significant difference.\n",
      "\n",
      "Metric: prec\n",
      "  Values BEFORE: [0.40052189 0.45408946 0.42616583 0.41840351 0.411961   0.37676859\n",
      " 0.40678991 0.38076014 0.39603301 0.42605216]\n",
      "  Values AFTER : [0.4089952  0.39370561 0.39765225 0.36129274 0.36292735 0.43354421\n",
      " 0.46330785 0.39920445 0.40080938 0.42442058]\n",
      "  Test statistic: 24.0000\n",
      "  p-value: 0.7695\n",
      "  ❌ No statistically significant difference.\n",
      "\n",
      "Metric: rec\n",
      "  Values BEFORE: [0.39270738 0.45374814 0.44783125 0.39683203 0.36899766 0.36740798\n",
      " 0.41518692 0.37702162 0.39364635 0.39251771]\n",
      "  Values AFTER : [0.41491339 0.40139808 0.39476621 0.37413497 0.35970842 0.42204276\n",
      " 0.42468081 0.40527277 0.41482186 0.4142817 ]\n",
      "  Test statistic: 24.0000\n",
      "  p-value: 0.7695\n",
      "  ❌ No statistically significant difference.\n",
      "\n",
      "Metric: f1\n",
      "  Values BEFORE: [0.39448252 0.45290836 0.42816667 0.40240611 0.38559636 0.37132761\n",
      " 0.39888213 0.3750679  0.39255104 0.40004339]\n",
      "  Values AFTER : [0.40807105 0.39157315 0.38867416 0.36589213 0.36085282 0.4260945\n",
      " 0.42894075 0.39706146 0.39822894 0.41817979]\n",
      "  Test statistic: 25.0000\n",
      "  p-value: 0.8457\n",
      "  ❌ No statistically significant difference.\n"
     ]
    }
   ],
   "source": [
    "# dt\n",
    "\n",
    "run_wilcoxon_test(\n",
    "    \"2a_classification_no_resample_DT.csv\",\n",
    "    \"3a_classification_no_resample_DT.csv\",\n",
    "    \"DT\"\n",
    ")"
   ],
   "metadata": {
    "collapsed": false,
    "ExecuteTime": {
     "end_time": "2025-06-05T15:49:44.674621300Z",
     "start_time": "2025-06-05T15:49:44.580323Z"
    }
   },
   "id": "5df4938d227f3ac1",
   "execution_count": 5
  },
  {
   "cell_type": "code",
   "outputs": [
    {
     "name": "stdout",
     "output_type": "stream",
     "text": [
      "=== Wilcoxon Signed-Rank Test for MLP ===\n",
      "\n",
      "Metric: acc\n",
      "  Values BEFORE: [0.7        0.73333333 0.69583333 0.7125     0.6875     0.7125\n",
      " 0.69166667 0.725      0.73125    0.73541667]\n",
      "  Values AFTER : [0.69620253 0.70512821 0.65894737 0.70440252 0.68631579 0.67016807\n",
      " 0.66880342 0.71368421 0.69684211 0.68498943]\n",
      "  Test statistic: 0.0000\n",
      "  p-value: 0.0020\n",
      "  ✅ Statistically significant difference.\n",
      "\n",
      "Metric: prec\n",
      "  Values BEFORE: [0.39945686 0.39700082 0.34088972 0.38240271 0.41042568 0.46123985\n",
      " 0.39817053 0.40338982 0.43706119 0.4554337 ]\n",
      "  Values AFTER : [0.47226573 0.50093395 0.37535741 0.47826632 0.43783154 0.42344137\n",
      " 0.36849025 0.45795474 0.42937679 0.47406619]\n",
      "  Test statistic: 11.0000\n",
      "  p-value: 0.1055\n",
      "  ❌ No statistically significant difference.\n",
      "\n",
      "Metric: rec\n",
      "  Values BEFORE: [0.42706485 0.4454863  0.37931611 0.40716634 0.39103116 0.47477755\n",
      " 0.43034933 0.41978532 0.45051478 0.44579267]\n",
      "  Values AFTER : [0.471947   0.51247748 0.38837222 0.45962441 0.42018235 0.43239029\n",
      " 0.41455978 0.45224385 0.46112269 0.47026084]\n",
      "  Test statistic: 10.0000\n",
      "  p-value: 0.0840\n",
      "  ❌ No statistically significant difference.\n",
      "\n",
      "Metric: f1\n",
      "  Values BEFORE: [0.4073791  0.41562502 0.3534324  0.39129944 0.38311963 0.46076196\n",
      " 0.3932489  0.38958174 0.4377032  0.44196849]\n",
      "  Values AFTER : [0.46861873 0.4980213  0.37607671 0.45515165 0.42398256 0.42427081\n",
      " 0.38148323 0.44985177 0.43813384 0.46485009]\n",
      "  Test statistic: 7.0000\n",
      "  p-value: 0.0371\n",
      "  ✅ Statistically significant difference.\n"
     ]
    }
   ],
   "source": [
    "# mlp\n",
    "run_wilcoxon_test(\n",
    "    \"2a_classification_no_resample_MLP.csv\",\n",
    "    \"3a_classification_no_resample_MLP.csv\",\n",
    "    \"MLP\"\n",
    ")"
   ],
   "metadata": {
    "collapsed": false,
    "ExecuteTime": {
     "end_time": "2025-06-05T15:49:44.688750300Z",
     "start_time": "2025-06-05T15:49:44.678734400Z"
    }
   },
   "id": "f02732243efe9f90",
   "execution_count": 6
  },
  {
   "cell_type": "markdown",
   "source": [
    "# Comparison of regression and classification (with simple resampling)\n"
   ],
   "metadata": {
    "collapsed": false
   },
   "id": "e9f750bc9f7d0a68"
  },
  {
   "cell_type": "code",
   "outputs": [
    {
     "name": "stdout",
     "output_type": "stream",
     "text": [
      "=== Wilcoxon Signed-Rank Test for SVM ===\n",
      "\n",
      "Metric: acc\n",
      "  Values BEFORE: [0.66060904 0.66699411 0.66257367 0.65324165 0.66011788 0.66159136\n",
      " 0.65962672 0.65618861 0.67387033 0.67829077]\n",
      "  Values AFTER : [0.96414538 0.95088409 0.96218075 0.94744597 0.96119843 0.9518664\n",
      " 0.96070727 0.95383104 0.95333988 0.96070727]\n",
      "  Test statistic: 0.0000\n",
      "  p-value: 0.0020\n",
      "  ✅ Statistically significant difference.\n",
      "\n",
      "Metric: prec\n",
      "  Values BEFORE: [0.66605446 0.67585088 0.6711536  0.66296722 0.6752907  0.66528915\n",
      " 0.66580718 0.6605424  0.6738258  0.68483931]\n",
      "  Values AFTER : [0.96439907 0.95109733 0.96261357 0.9490023  0.96208804 0.95166325\n",
      " 0.96207867 0.95475907 0.95358148 0.96175541]\n",
      "  Test statistic: 0.0000\n",
      "  p-value: 0.0020\n",
      "  ✅ Statistically significant difference.\n",
      "\n",
      "Metric: rec\n",
      "  Values BEFORE: [0.6590192  0.66624517 0.66501143 0.65350707 0.66434812 0.66272088\n",
      " 0.66140323 0.6560544  0.67006027 0.67634537]\n",
      "  Values AFTER : [0.96434354 0.95192889 0.96166536 0.94759412 0.96119101 0.95194191\n",
      " 0.9612926  0.9538897  0.95275124 0.96073748]\n",
      "  Test statistic: 0.0000\n",
      "  p-value: 0.0020\n",
      "  ✅ Statistically significant difference.\n",
      "\n",
      "Metric: f1\n",
      "  Values BEFORE: [0.66085243 0.66956135 0.66629495 0.65611793 0.66723237 0.65914001\n",
      " 0.66091921 0.6563851  0.66974873 0.67835209]\n",
      "  Values AFTER : [0.96402731 0.95069358 0.96164148 0.94730166 0.96132504 0.95124487\n",
      " 0.96084094 0.95359798 0.95233832 0.96081107]\n",
      "  Test statistic: 0.0000\n",
      "  p-value: 0.0020\n",
      "  ✅ Statistically significant difference.\n"
     ]
    }
   ],
   "source": [
    "run_wilcoxon_test(\n",
    "    \"2b_classification_simple_resample_SVC.csv\",\n",
    "    \"3b_classification_simple_resample_SVR.csv\",\n",
    "    \"SVM\"\n",
    ")"
   ],
   "metadata": {
    "collapsed": false,
    "ExecuteTime": {
     "end_time": "2025-06-05T15:49:44.700166200Z",
     "start_time": "2025-06-05T15:49:44.689756900Z"
    }
   },
   "id": "5f21afb4dde57961",
   "execution_count": 7
  },
  {
   "cell_type": "code",
   "outputs": [
    {
     "name": "stdout",
     "output_type": "stream",
     "text": [
      "=== Wilcoxon Signed-Rank Test for KNN ===\n",
      "\n",
      "Metric: acc\n",
      "  Values BEFORE: [0.89833006 0.8845776  0.9002947  0.89882122 0.89931238 0.90766208\n",
      " 0.89390963 0.89440079 0.89931238 0.91257367]\n",
      "  Values AFTER : [0.96807466 0.9651277  0.96856582 0.95825147 0.96905697 0.97396857\n",
      " 0.96463654 0.96168959 0.96119843 0.96660118]\n",
      "  Test statistic: 0.0000\n",
      "  p-value: 0.0020\n",
      "  ✅ Statistically significant difference.\n",
      "\n",
      "Metric: prec\n",
      "  Values BEFORE: [0.90068461 0.88082071 0.89818292 0.89730693 0.89758435 0.90018354\n",
      " 0.89318116 0.89189231 0.89542306 0.91418781]\n",
      "  Values AFTER : [0.96958489 0.96418437 0.96911905 0.95937056 0.96980866 0.97268724\n",
      " 0.96561094 0.96180282 0.95946845 0.9673363 ]\n",
      "  Test statistic: 0.0000\n",
      "  p-value: 0.0020\n",
      "  ✅ Statistically significant difference.\n",
      "\n",
      "Metric: rec\n",
      "  Values BEFORE: [0.90008527 0.88381982 0.89919545 0.90058926 0.89957458 0.90232493\n",
      " 0.89791131 0.8936896  0.89665605 0.91487365]\n",
      "  Values AFTER : [0.96847166 0.96535085 0.96888272 0.95859202 0.9694446  0.97255357\n",
      " 0.96572721 0.96183747 0.95958228 0.96714775]\n",
      "  Test statistic: 0.0000\n",
      "  p-value: 0.0020\n",
      "  ✅ Statistically significant difference.\n",
      "\n",
      "Metric: f1\n",
      "  Values BEFORE: [0.89988994 0.8811741  0.89831416 0.89865447 0.89832942 0.90100186\n",
      " 0.89485053 0.89260853 0.89526358 0.91439974]\n",
      "  Values AFTER : [0.9686777  0.96434035 0.96888429 0.95882319 0.96952951 0.97242785\n",
      " 0.96552278 0.96166482 0.95946678 0.96720163]\n",
      "  Test statistic: 0.0000\n",
      "  p-value: 0.0020\n",
      "  ✅ Statistically significant difference.\n"
     ]
    }
   ],
   "source": [
    "run_wilcoxon_test(\n",
    "    \"2b_classification_simple_resample_KNN.csv\",\n",
    "    \"3b_classification_simple_resample_KNN.csv\",\n",
    "    \"KNN\"\n",
    ")"
   ],
   "metadata": {
    "collapsed": false,
    "ExecuteTime": {
     "end_time": "2025-06-05T15:49:44.762840Z",
     "start_time": "2025-06-05T15:49:44.700166200Z"
    }
   },
   "id": "1f71b021d1bcd454",
   "execution_count": 8
  },
  {
   "cell_type": "code",
   "outputs": [
    {
     "name": "stdout",
     "output_type": "stream",
     "text": [
      "=== Wilcoxon Signed-Rank Test for DT ===\n",
      "\n",
      "Metric: acc\n",
      "  Values BEFORE: [0.97642436 0.97937132 0.97544204 0.97642436 0.98182711 0.98526523\n",
      " 0.96856582 0.97789784 0.97937132 0.97789784]\n",
      "  Values AFTER : [1. 1. 1. 1. 1. 1. 1. 1. 1. 1.]\n",
      "  Test statistic: 0.0000\n",
      "  p-value: 0.0020\n",
      "  ✅ Statistically significant difference.\n",
      "\n",
      "Metric: prec\n",
      "  Values BEFORE: [0.97749581 0.9791211  0.97532309 0.97780914 0.98232868 0.9844248\n",
      " 0.96920043 0.97778357 0.98006477 0.97860322]\n",
      "  Values AFTER : [1. 1. 1. 1. 1. 1. 1. 1. 1. 1.]\n",
      "  Test statistic: 0.0000\n",
      "  p-value: 0.0020\n",
      "  ✅ Statistically significant difference.\n",
      "\n",
      "Metric: rec\n",
      "  Values BEFORE: [0.9769004  0.97899291 0.97447417 0.97685598 0.98130971 0.98451084\n",
      " 0.97006335 0.97766317 0.9789943  0.97849229]\n",
      "  Values AFTER : [1. 1. 1. 1. 1. 1. 1. 1. 1. 1.]\n",
      "  Test statistic: 0.0000\n",
      "  p-value: 0.0020\n",
      "  ✅ Statistically significant difference.\n",
      "\n",
      "Metric: f1\n",
      "  Values BEFORE: [0.97688522 0.97899499 0.97452732 0.97695901 0.98142855 0.98439437\n",
      " 0.96943067 0.9775897  0.97911277 0.97848227]\n",
      "  Values AFTER : [1. 1. 1. 1. 1. 1. 1. 1. 1. 1.]\n",
      "  Test statistic: 0.0000\n",
      "  p-value: 0.0020\n",
      "  ✅ Statistically significant difference.\n"
     ]
    }
   ],
   "source": [
    "run_wilcoxon_test(\n",
    "    \"2b_classification_simple_resample_DT.csv\",\n",
    "    \"3b_classification_simple_resample_DT.csv\",\n",
    "    \"DT\"\n",
    ")"
   ],
   "metadata": {
    "collapsed": false,
    "ExecuteTime": {
     "end_time": "2025-06-05T15:49:44.811084Z",
     "start_time": "2025-06-05T15:49:44.714267700Z"
    }
   },
   "id": "e630fe5aeb9e015d",
   "execution_count": 9
  },
  {
   "cell_type": "code",
   "outputs": [
    {
     "name": "stdout",
     "output_type": "stream",
     "text": [
      "=== Wilcoxon Signed-Rank Test for MLP ===\n",
      "\n",
      "Metric: acc\n",
      "  Values BEFORE: [0.86394892 0.87573674 0.86886051 0.86444008 0.87131631 0.89685658\n",
      " 0.87131631 0.87966601 0.89685658 0.89685658]\n",
      "  Values AFTER : [0.95398318 0.95806611 0.95056846 0.93948413 0.95667159 0.94227923\n",
      " 0.95647873 0.94103072 0.95002474 0.95261599]\n",
      "  Test statistic: 0.0000\n",
      "  p-value: 0.0020\n",
      "  ✅ Statistically significant difference.\n",
      "\n",
      "Metric: prec\n",
      "  Values BEFORE: [0.86619385 0.8729429  0.87081574 0.86313239 0.8743764  0.89304277\n",
      " 0.87073872 0.8786982  0.88961477 0.89846309]\n",
      "  Values AFTER : [0.95370995 0.95844253 0.95066067 0.94137044 0.95804912 0.9434971\n",
      " 0.9562755  0.94162555 0.95251716 0.95304113]\n",
      "  Test statistic: 0.0000\n",
      "  p-value: 0.0020\n",
      "  ✅ Statistically significant difference.\n",
      "\n",
      "Metric: rec\n",
      "  Values BEFORE: [0.86617    0.87328998 0.87269896 0.86626297 0.87342414 0.89226039\n",
      " 0.8739047  0.88002496 0.89079868 0.89790476]\n",
      "  Values AFTER : [0.95362369 0.95859499 0.94988771 0.93994216 0.95710611 0.94373787\n",
      " 0.95593281 0.94124029 0.94958298 0.95244074]\n",
      "  Test statistic: 0.0000\n",
      "  p-value: 0.0020\n",
      "  ✅ Statistically significant difference.\n",
      "\n",
      "Metric: f1\n",
      "  Values BEFORE: [0.86551197 0.87230692 0.87074116 0.8620949  0.87330313 0.89182607\n",
      " 0.87190835 0.87758846 0.88961259 0.89763442]\n",
      "  Values AFTER : [0.95333834 0.95831109 0.95017183 0.94037742 0.95659902 0.94340425\n",
      " 0.95578679 0.94117471 0.95046542 0.95252735]\n",
      "  Test statistic: 0.0000\n",
      "  p-value: 0.0020\n",
      "  ✅ Statistically significant difference.\n"
     ]
    }
   ],
   "source": [
    "run_wilcoxon_test(\n",
    "    \"2b_classification_simple_resample_MLP.csv\",\n",
    "    \"3b_classification_simple_resample_MLP.csv\",\n",
    "    \"MLP\"\n",
    ")"
   ],
   "metadata": {
    "collapsed": false,
    "ExecuteTime": {
     "end_time": "2025-06-05T15:49:44.823324400Z",
     "start_time": "2025-06-05T15:49:44.812302200Z"
    }
   },
   "id": "2dcea8c361afb084",
   "execution_count": 10
  }
 ],
 "metadata": {
  "kernelspec": {
   "display_name": "Python 3",
   "language": "python",
   "name": "python3"
  },
  "language_info": {
   "codemirror_mode": {
    "name": "ipython",
    "version": 2
   },
   "file_extension": ".py",
   "mimetype": "text/x-python",
   "name": "python",
   "nbconvert_exporter": "python",
   "pygments_lexer": "ipython2",
   "version": "2.7.6"
  }
 },
 "nbformat": 4,
 "nbformat_minor": 5
}
