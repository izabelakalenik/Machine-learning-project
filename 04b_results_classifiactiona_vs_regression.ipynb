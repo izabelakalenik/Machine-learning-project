{
 "cells": [
  {
   "cell_type": "code",
   "outputs": [],
   "source": [
    "import pandas as pd\n",
    "from scipy.stats import wilcoxon"
   ],
   "metadata": {
    "collapsed": false,
    "ExecuteTime": {
     "end_time": "2025-05-24T08:28:32.720348Z",
     "start_time": "2025-05-24T08:28:32.716310Z"
    }
   },
   "id": "c0763fcd7f098d90",
   "execution_count": 10
  },
  {
   "cell_type": "code",
   "outputs": [],
   "source": [
    "\n",
    "\n",
    "\n",
    "def run_wilcoxon_test(csv_before, csv_after, model_name):\n",
    "    df_before = pd.read_csv(csv_before)\n",
    "    df_after = pd.read_csv(csv_after)\n",
    "\n",
    "    print(f\"=== Wilcoxon Signed-Rank Test for {model_name} ===\\n\")\n",
    "\n",
    "    for metric in df_before.columns:\n",
    "        before = df_before[metric]\n",
    "        after = df_after[metric]\n",
    "\n",
    "        stat, p = wilcoxon(before, after, alternative='two-sided')\n",
    "\n",
    "        print(f\"Metric: {metric}\")\n",
    "        print(f\"  Test statistic: {stat:.4f}\")\n",
    "        print(f\"  p-value: {p:.4f}\")\n",
    "\n",
    "        if p < 0.05:\n",
    "            print(\"Statistically significant difference.\")\n",
    "        else:\n",
    "            print(\"No statistically significant difference.\")\n",
    "        print()\n",
    "\n"
   ],
   "metadata": {
    "collapsed": true,
    "ExecuteTime": {
     "end_time": "2025-05-24T08:28:32.764619Z",
     "start_time": "2025-05-24T08:28:32.758748Z"
    }
   },
   "id": "initial_id",
   "execution_count": 11
  },
  {
   "cell_type": "markdown",
   "source": [
    "# Comparison of regression and classification (without the resampling)"
   ],
   "metadata": {
    "collapsed": false
   },
   "id": "78d69fd7cc1ee5ae"
  },
  {
   "cell_type": "code",
   "outputs": [
    {
     "name": "stdout",
     "output_type": "stream",
     "text": [
      "=== Wilcoxon Signed-Rank Test for SVM ===\n",
      "\n",
      "Metric: acc\n",
      "  Test statistic: 0.0000\n",
      "  p-value: 0.0625\n",
      "No statistically significant difference.\n",
      "\n",
      "Metric: prec\n",
      "  Test statistic: 0.0000\n",
      "  p-value: 0.0625\n",
      "No statistically significant difference.\n",
      "\n",
      "Metric: rec\n",
      "  Test statistic: 0.0000\n",
      "  p-value: 0.0625\n",
      "No statistically significant difference.\n",
      "\n",
      "Metric: f1\n",
      "  Test statistic: 0.0000\n",
      "  p-value: 0.0625\n",
      "No statistically significant difference.\n"
     ]
    }
   ],
   "source": [
    "# svm\n",
    "\n",
    "run_wilcoxon_test(\n",
    "    \"2a_classification_no_resample_SVC.csv\",\n",
    "    \"3a_classification_no_resample_SVR.csv\",\n",
    "    \"SVM\"\n",
    ")"
   ],
   "metadata": {
    "collapsed": false,
    "ExecuteTime": {
     "end_time": "2025-05-24T08:28:32.792306Z",
     "start_time": "2025-05-24T08:28:32.779901Z"
    }
   },
   "id": "b1a18cd00d3b2708",
   "execution_count": 12
  },
  {
   "cell_type": "code",
   "outputs": [
    {
     "name": "stdout",
     "output_type": "stream",
     "text": [
      "=== Wilcoxon Signed-Rank Test for KNN ===\n",
      "\n",
      "Metric: acc\n",
      "  Test statistic: 0.0000\n",
      "  p-value: 0.0625\n",
      "No statistically significant difference.\n",
      "\n",
      "Metric: prec\n",
      "  Test statistic: 0.0000\n",
      "  p-value: 0.0625\n",
      "No statistically significant difference.\n",
      "\n",
      "Metric: rec\n",
      "  Test statistic: 0.0000\n",
      "  p-value: 0.0625\n",
      "No statistically significant difference.\n",
      "\n",
      "Metric: f1\n",
      "  Test statistic: 0.0000\n",
      "  p-value: 0.0625\n",
      "No statistically significant difference.\n"
     ]
    }
   ],
   "source": [
    "# knn\n",
    "\n",
    "run_wilcoxon_test(\n",
    "    \"2a_classification_no_resample_KNN.csv\",\n",
    "    \"3a_classification_no_resample_KNN.csv\",\n",
    "    \"KNN\"\n",
    ")"
   ],
   "metadata": {
    "collapsed": false,
    "ExecuteTime": {
     "end_time": "2025-05-24T08:28:32.810849Z",
     "start_time": "2025-05-24T08:28:32.794299Z"
    }
   },
   "id": "f1aea89b95ee00fa",
   "execution_count": 13
  },
  {
   "cell_type": "code",
   "outputs": [
    {
     "name": "stdout",
     "output_type": "stream",
     "text": [
      "=== Wilcoxon Signed-Rank Test for DT ===\n",
      "\n",
      "Metric: acc\n",
      "  Test statistic: 1.0000\n",
      "  p-value: 0.1250\n",
      "No statistically significant difference.\n",
      "\n",
      "Metric: prec\n",
      "  Test statistic: 0.0000\n",
      "  p-value: 0.0625\n",
      "No statistically significant difference.\n",
      "\n",
      "Metric: rec\n",
      "  Test statistic: 6.0000\n",
      "  p-value: 0.8125\n",
      "No statistically significant difference.\n",
      "\n",
      "Metric: f1\n",
      "  Test statistic: 3.0000\n",
      "  p-value: 0.3125\n",
      "No statistically significant difference.\n"
     ]
    }
   ],
   "source": [
    "# dt\n",
    "\n",
    "run_wilcoxon_test(\n",
    "    \"2a_classification_no_resample_DT.csv\",\n",
    "    \"3a_classification_no_resample_DT.csv\",\n",
    "    \"DT\"\n",
    ")"
   ],
   "metadata": {
    "collapsed": false,
    "ExecuteTime": {
     "end_time": "2025-05-24T08:28:32.828905Z",
     "start_time": "2025-05-24T08:28:32.812995Z"
    }
   },
   "id": "5df4938d227f3ac1",
   "execution_count": 14
  },
  {
   "cell_type": "code",
   "outputs": [
    {
     "name": "stdout",
     "output_type": "stream",
     "text": [
      "=== Wilcoxon Signed-Rank Test for MLP ===\n",
      "\n",
      "Metric: acc\n",
      "  Test statistic: 1.0000\n",
      "  p-value: 0.1250\n",
      "No statistically significant difference.\n",
      "\n",
      "Metric: prec\n",
      "  Test statistic: 5.0000\n",
      "  p-value: 0.6250\n",
      "No statistically significant difference.\n",
      "\n",
      "Metric: rec\n",
      "  Test statistic: 4.0000\n",
      "  p-value: 0.4375\n",
      "No statistically significant difference.\n",
      "\n",
      "Metric: f1\n",
      "  Test statistic: 3.0000\n",
      "  p-value: 0.3125\n",
      "No statistically significant difference.\n"
     ]
    }
   ],
   "source": [
    "# mlp\n",
    "run_wilcoxon_test(\n",
    "    \"2a_classification_no_resample_MLP.csv\",\n",
    "    \"3a_classification_no_resample_MLP.csv\",\n",
    "    \"MLP\"\n",
    ")"
   ],
   "metadata": {
    "collapsed": false,
    "ExecuteTime": {
     "end_time": "2025-05-24T08:28:32.847645Z",
     "start_time": "2025-05-24T08:28:32.830910Z"
    }
   },
   "id": "f02732243efe9f90",
   "execution_count": 15
  },
  {
   "cell_type": "markdown",
   "source": [
    "# Comparison of regression and classification (with simple resampling)\n"
   ],
   "metadata": {
    "collapsed": false
   },
   "id": "e9f750bc9f7d0a68"
  },
  {
   "cell_type": "code",
   "outputs": [
    {
     "name": "stdout",
     "output_type": "stream",
     "text": [
      "=== Wilcoxon Signed-Rank Test for SVM ===\n",
      "\n",
      "Metric: acc\n",
      "  Test statistic: 0.0000\n",
      "  p-value: 0.0625\n",
      "No statistically significant difference.\n",
      "\n",
      "Metric: prec\n",
      "  Test statistic: 0.0000\n",
      "  p-value: 0.0625\n",
      "No statistically significant difference.\n",
      "\n",
      "Metric: rec\n",
      "  Test statistic: 0.0000\n",
      "  p-value: 0.0625\n",
      "No statistically significant difference.\n",
      "\n",
      "Metric: f1\n",
      "  Test statistic: 0.0000\n",
      "  p-value: 0.0625\n",
      "No statistically significant difference.\n"
     ]
    }
   ],
   "source": [
    "run_wilcoxon_test(\n",
    "    \"2b_classification_simple_resample_SVC.csv\",\n",
    "    \"3b_classification_simple_resample_SVR.csv\",\n",
    "    \"SVM\"\n",
    ")"
   ],
   "metadata": {
    "collapsed": false,
    "ExecuteTime": {
     "end_time": "2025-05-24T08:28:32.870755Z",
     "start_time": "2025-05-24T08:28:32.848639Z"
    }
   },
   "id": "5f21afb4dde57961",
   "execution_count": 16
  },
  {
   "cell_type": "code",
   "outputs": [
    {
     "name": "stdout",
     "output_type": "stream",
     "text": [
      "=== Wilcoxon Signed-Rank Test for KNN ===\n",
      "\n",
      "Metric: acc\n",
      "  Test statistic: 0.0000\n",
      "  p-value: 0.0625\n",
      "No statistically significant difference.\n",
      "\n",
      "Metric: prec\n",
      "  Test statistic: 0.0000\n",
      "  p-value: 0.0625\n",
      "No statistically significant difference.\n",
      "\n",
      "Metric: rec\n",
      "  Test statistic: 0.0000\n",
      "  p-value: 0.0625\n",
      "No statistically significant difference.\n",
      "\n",
      "Metric: f1\n",
      "  Test statistic: 0.0000\n",
      "  p-value: 0.0625\n",
      "No statistically significant difference.\n"
     ]
    }
   ],
   "source": [
    "run_wilcoxon_test(\n",
    "    \"2b_classification_simple_resample_KNN.csv\",\n",
    "    \"3b_classification_simple_resample_KNN.csv\",\n",
    "    \"KNN\"\n",
    ")"
   ],
   "metadata": {
    "collapsed": false,
    "ExecuteTime": {
     "end_time": "2025-05-24T08:28:32.892380Z",
     "start_time": "2025-05-24T08:28:32.871789Z"
    }
   },
   "id": "1f71b021d1bcd454",
   "execution_count": 17
  },
  {
   "cell_type": "code",
   "outputs": [
    {
     "name": "stdout",
     "output_type": "stream",
     "text": [
      "=== Wilcoxon Signed-Rank Test for DT ===\n",
      "\n",
      "Metric: acc\n",
      "  Test statistic: 0.0000\n",
      "  p-value: 0.0625\n",
      "No statistically significant difference.\n",
      "\n",
      "Metric: prec\n",
      "  Test statistic: 0.0000\n",
      "  p-value: 0.0625\n",
      "No statistically significant difference.\n",
      "\n",
      "Metric: rec\n",
      "  Test statistic: 0.0000\n",
      "  p-value: 0.0625\n",
      "No statistically significant difference.\n",
      "\n",
      "Metric: f1\n",
      "  Test statistic: 0.0000\n",
      "  p-value: 0.0625\n",
      "No statistically significant difference.\n"
     ]
    }
   ],
   "source": [
    "run_wilcoxon_test(\n",
    "    \"2b_classification_simple_resample_DT.csv\",\n",
    "    \"3b_classification_simple_resample_DT.csv\",\n",
    "    \"DT\"\n",
    ")"
   ],
   "metadata": {
    "collapsed": false,
    "ExecuteTime": {
     "end_time": "2025-05-24T08:28:32.914892Z",
     "start_time": "2025-05-24T08:28:32.893448Z"
    }
   },
   "id": "e630fe5aeb9e015d",
   "execution_count": 18
  },
  {
   "cell_type": "code",
   "outputs": [
    {
     "name": "stdout",
     "output_type": "stream",
     "text": [
      "=== Wilcoxon Signed-Rank Test for MLP ===\n",
      "\n",
      "Metric: acc\n",
      "  Test statistic: 0.0000\n",
      "  p-value: 0.0625\n",
      "No statistically significant difference.\n",
      "\n",
      "Metric: prec\n",
      "  Test statistic: 0.0000\n",
      "  p-value: 0.0625\n",
      "No statistically significant difference.\n",
      "\n",
      "Metric: rec\n",
      "  Test statistic: 0.0000\n",
      "  p-value: 0.0625\n",
      "No statistically significant difference.\n",
      "\n",
      "Metric: f1\n",
      "  Test statistic: 0.0000\n",
      "  p-value: 0.0625\n",
      "No statistically significant difference.\n"
     ]
    }
   ],
   "source": [
    "run_wilcoxon_test(\n",
    "    \"2b_classification_simple_resample_MLP.csv\",\n",
    "    \"3b_classification_simple_resample_MLP.csv\",\n",
    "    \"MLP\"\n",
    ")"
   ],
   "metadata": {
    "collapsed": false,
    "ExecuteTime": {
     "end_time": "2025-05-24T08:28:32.939843Z",
     "start_time": "2025-05-24T08:28:32.917860Z"
    }
   },
   "id": "2dcea8c361afb084",
   "execution_count": 19
  }
 ],
 "metadata": {
  "kernelspec": {
   "display_name": "Python 3",
   "language": "python",
   "name": "python3"
  },
  "language_info": {
   "codemirror_mode": {
    "name": "ipython",
    "version": 2
   },
   "file_extension": ".py",
   "mimetype": "text/x-python",
   "name": "python",
   "nbconvert_exporter": "python",
   "pygments_lexer": "ipython2",
   "version": "2.7.6"
  }
 },
 "nbformat": 4,
 "nbformat_minor": 5
}
