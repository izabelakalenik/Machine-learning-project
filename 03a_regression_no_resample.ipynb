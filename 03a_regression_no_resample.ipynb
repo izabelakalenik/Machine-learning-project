{
 "cells": [
  {
   "cell_type": "code",
   "execution_count": 44,
   "id": "initial_id",
   "metadata": {
    "collapsed": true,
    "ExecuteTime": {
     "end_time": "2025-05-11T14:07:37.028390500Z",
     "start_time": "2025-05-11T14:07:36.970553800Z"
    }
   },
   "outputs": [],
   "source": [
    "import numpy as np\n",
    "import pandas as pd\n",
    "from sklearn.model_selection import cross_val_score\n",
    "from sklearn.pipeline import Pipeline\n",
    "from sklearn.preprocessing import StandardScaler  \n",
    "from custom_metrics import f_beta_regression\n",
    "from sklearn.metrics import mean_absolute_error, mean_squared_error\n",
    "from sklearn.model_selection import KFold"
   ]
  },
  {
   "cell_type": "code",
   "outputs": [],
   "source": [
    "df = pd.read_csv('cleaned_movies.csv')"
   ],
   "metadata": {
    "collapsed": false,
    "ExecuteTime": {
     "end_time": "2025-05-11T14:07:37.113107500Z",
     "start_time": "2025-05-11T14:07:36.977494500Z"
    }
   },
   "id": "413af58230c1c8b8",
   "execution_count": 45
  },
  {
   "cell_type": "code",
   "outputs": [
    {
     "name": "stdout",
     "output_type": "stream",
     "text": [
      "budget              int64\n",
      "runtime           float64\n",
      "vote_average      float64\n",
      "vote_count          int64\n",
      "revenue             int64\n",
      "release_year        int64\n",
      "genres_score      float64\n",
      "language_score    float64\n",
      "dtype: object\n"
     ]
    }
   ],
   "source": [
    "X = df.drop(columns=['genres', 'original_language', 'popularity_class', 'popularity']).copy()\n",
    "y = df['popularity']\n",
    "\n",
    "\n",
    "print(X.dtypes)"
   ],
   "metadata": {
    "collapsed": false,
    "ExecuteTime": {
     "end_time": "2025-05-11T14:07:37.122581400Z",
     "start_time": "2025-05-11T14:07:36.993696400Z"
    }
   },
   "id": "248ba3348e0f4fd8",
   "execution_count": 46
  },
  {
   "cell_type": "markdown",
   "source": [
    "SVR"
   ],
   "metadata": {
    "collapsed": false
   },
   "id": "538b2d207f98fd47"
  },
  {
   "cell_type": "code",
   "outputs": [
    {
     "name": "stdout",
     "output_type": "stream",
     "text": [
      "R² score for each fold: [-0.23557032  0.68975404  0.71698825  0.66255143  0.20916165]\n",
      "Mean R² score: 0.4085770095922269\n"
     ]
    }
   ],
   "source": [
    "from sklearn.svm import SVR\n",
    "\n",
    "# we use rbf kernel, bc we do not have linear data\n",
    "pipeline = Pipeline([\n",
    "    ('scaler', StandardScaler()),\n",
    "    ('svr', SVR())\n",
    "])\n",
    "    \n",
    "# 5-fold cross-validation (for R^2 score)\n",
    "scores = cross_val_score(pipeline, X, y, cv=5, scoring='r2')\n",
    "\n",
    "print(\"R² score for each fold:\", scores)\n",
    "print(\"Mean R² score:\", scores.mean())\n"
   ],
   "metadata": {
    "collapsed": false,
    "ExecuteTime": {
     "end_time": "2025-05-11T14:07:39.588041400Z",
     "start_time": "2025-05-11T14:07:37.004465500Z"
    }
   },
   "id": "8a4de61dad0c4a7f",
   "execution_count": 47
  },
  {
   "cell_type": "code",
   "execution_count": 48,
   "outputs": [
    {
     "name": "stdout",
     "output_type": "stream",
     "text": [
      "\n",
      "Mean Absolute Error (per fold): [8.328556375975795, 7.354506016916082, 7.773044329294107, 7.006787536671898, 7.549327181844288]\n",
      "Mean MAE: 7.602444288140434\n",
      "\n",
      "Root Mean Squared Error (per fold): [np.float64(29.340520756947875), np.float64(18.27946231502747), np.float64(34.40533326287847), np.float64(17.87459517249698), np.float64(24.88627649962935)]\n",
      "Mean RMSE: 24.957237601396027\n"
     ]
    }
   ],
   "source": [
    "# SVR with other metrics - MAE and RMSE\n",
    "pipeline = Pipeline([\n",
    "    ('scaler', StandardScaler()),\n",
    "    ('svr', SVR())\n",
    "])\n",
    "\n",
    "kf = KFold(n_splits=5, shuffle=True, random_state=42)\n",
    "\n",
    "mae_scores = []\n",
    "rmse_scores = []\n",
    "\n",
    "for train_index, test_index in kf.split(X):\n",
    "    X_train, X_test = X.iloc[train_index], X.iloc[test_index]\n",
    "    y_train, y_test = y.iloc[train_index], y.iloc[test_index]\n",
    "\n",
    "    pipeline.fit(X_train, y_train)\n",
    "    y_pred = pipeline.predict(X_test)\n",
    "\n",
    "    # MAE\n",
    "    mae = mean_absolute_error(y_test, y_pred)\n",
    "    mae_scores.append(mae)\n",
    "\n",
    "    # RMSE\n",
    "    rmse = np.sqrt(mean_squared_error(y_test, y_pred))\n",
    "    rmse_scores.append(rmse)\n",
    "\n",
    "print(\"\\nMean Absolute Error (per fold):\", mae_scores)\n",
    "print(\"Mean MAE:\", np.mean(mae_scores))\n",
    "\n",
    "print(\"\\nRoot Mean Squared Error (per fold):\", rmse_scores)\n",
    "print(\"Mean RMSE:\", np.mean(rmse_scores))\n"
   ],
   "metadata": {
    "collapsed": false,
    "ExecuteTime": {
     "end_time": "2025-05-11T14:07:42.020028900Z",
     "start_time": "2025-05-11T14:07:39.582290100Z"
    }
   },
   "id": "3350dd2a11c2aa82"
  },
  {
   "cell_type": "code",
   "outputs": [
    {
     "name": "stdout",
     "output_type": "stream",
     "text": [
      "F1 adapted for regression per fold: [np.float64(0.5917076548142687), np.float64(0.592436313219766), np.float64(0.6121203155753612), np.float64(0.5937048135561629), np.float64(0.6114060013989775)]\n",
      "Mean F1 adapted for regression: 0.6002750197129073\n"
     ]
    }
   ],
   "source": [
    "# SVR with custom metric - F1 score for regression\n",
    "pipeline = Pipeline([\n",
    "    ('scaler', StandardScaler()),\n",
    "    ('svr', SVR())\n",
    "])\n",
    "\n",
    "kf = KFold(n_splits=5, shuffle=True, random_state=42)\n",
    "\n",
    "f1_reg_scores = []\n",
    "for train_index, test_index in kf.split(X):\n",
    "    X_train, X_test = X.iloc[train_index], X.iloc[test_index]\n",
    "    y_train, y_test = y.iloc[train_index], y.iloc[test_index]\n",
    "    \n",
    "    pipeline.fit(X_train, y_train)\n",
    "    y_pred = pipeline.predict(X_test)\n",
    "    \n",
    "    f1_reg = f_beta_regression(y_test.values, y_pred, beta=1.0, threshold=10)\n",
    "    f1_reg_scores.append(f1_reg)\n",
    "\n",
    "print(\"F1 adapted for regression per fold:\", f1_reg_scores)\n",
    "print(\"Mean F1 adapted for regression:\", np.mean(f1_reg_scores))"
   ],
   "metadata": {
    "collapsed": false,
    "ExecuteTime": {
     "end_time": "2025-05-11T14:07:44.458667500Z",
     "start_time": "2025-05-11T14:07:42.015672200Z"
    }
   },
   "id": "3c3c94668c7f768b",
   "execution_count": 49
  },
  {
   "cell_type": "markdown",
   "source": [
    "KNN"
   ],
   "metadata": {
    "collapsed": false
   },
   "id": "24c7a083fe67674f"
  },
  {
   "cell_type": "code",
   "outputs": [
    {
     "name": "stdout",
     "output_type": "stream",
     "text": [
      "R² score per fold: [0.35060872 0.76855449 0.79609064 0.76641059 0.63277432]\n",
      "Mean R² score: 0.6628877518338261\n"
     ]
    }
   ],
   "source": [
    "from sklearn.neighbors import KNeighborsRegressor\n",
    "\n",
    "pipeline = Pipeline([\n",
    "    ('scaler', StandardScaler()),\n",
    "    ('knn', KNeighborsRegressor(n_neighbors=5))\n",
    "])\n",
    "\n",
    "r2_scores = cross_val_score(pipeline, X, y, cv=5, scoring='r2')\n",
    "print(\"R² score per fold:\", r2_scores)\n",
    "print(\"Mean R² score:\", np.mean(r2_scores))\n",
    "\n"
   ],
   "metadata": {
    "collapsed": false,
    "ExecuteTime": {
     "end_time": "2025-05-11T14:07:44.609716600Z",
     "start_time": "2025-05-11T14:07:44.458667500Z"
    }
   },
   "id": "19d21c634e2c0a2c",
   "execution_count": 50
  },
  {
   "cell_type": "code",
   "execution_count": 51,
   "outputs": [
    {
     "name": "stdout",
     "output_type": "stream",
     "text": [
      "\n",
      "Mean Absolute Error (per fold): [7.685210776875, 6.344900424583333, 7.4304743547916665, 6.2416500260416665, 6.577483014166666]\n",
      "Mean MAE: 6.855943719291666\n",
      "\n",
      "Root Mean Squared Error (per fold): [np.float64(20.707623693285107), np.float64(12.574564345362754), np.float64(28.93072761401086), np.float64(12.164305158873695), np.float64(18.31534332710816)]\n",
      "Mean RMSE: 18.53851282772812\n"
     ]
    }
   ],
   "source": [
    "# KNN with other metrics - MAE and RMSE\n",
    "pipeline = Pipeline([\n",
    "    ('scaler', StandardScaler()),\n",
    "    ('knn', KNeighborsRegressor(n_neighbors=5))\n",
    "])\n",
    "\n",
    "kf = KFold(n_splits=5, shuffle=True, random_state=42)\n",
    "\n",
    "mae_scores = []\n",
    "rmse_scores = []\n",
    "\n",
    "for train_index, test_index in kf.split(X):\n",
    "    X_train, X_test = X.iloc[train_index], X.iloc[test_index]\n",
    "    y_train, y_test = y.iloc[train_index], y.iloc[test_index]\n",
    "\n",
    "    pipeline.fit(X_train, y_train)\n",
    "    y_pred = pipeline.predict(X_test)\n",
    "\n",
    "    mae = mean_absolute_error(y_test, y_pred)\n",
    "    mae_scores.append(mae)\n",
    "\n",
    "    rmse = np.sqrt(mean_squared_error(y_test, y_pred))\n",
    "    rmse_scores.append(rmse)\n",
    "\n",
    "\n",
    "print(\"\\nMean Absolute Error (per fold):\", mae_scores)\n",
    "print(\"Mean MAE:\", np.mean(mae_scores))\n",
    "\n",
    "print(\"\\nRoot Mean Squared Error (per fold):\", rmse_scores)\n",
    "print(\"Mean RMSE:\", np.mean(rmse_scores))"
   ],
   "metadata": {
    "collapsed": false,
    "ExecuteTime": {
     "end_time": "2025-05-11T14:07:44.718823100Z",
     "start_time": "2025-05-11T14:07:44.601495700Z"
    }
   },
   "id": "91b9c7f5c6954eb3"
  },
  {
   "cell_type": "code",
   "outputs": [
    {
     "name": "stdout",
     "output_type": "stream",
     "text": [
      "\n",
      "F1 adapted for regression (per fold): [np.float64(0.5980467726473441), np.float64(0.6566291208576934), np.float64(0.5602757440906866), np.float64(0.6430661615959127), np.float64(0.6114262628605103)]\n",
      "Mean F1 adapted for regression: 0.6138888124104295\n"
     ]
    }
   ],
   "source": [
    "# KNN with custom metric - F1 score for regression\n",
    "pipeline = Pipeline([\n",
    "    ('scaler', StandardScaler()),\n",
    "    ('knn', KNeighborsRegressor(n_neighbors=5))\n",
    "])\n",
    "\n",
    "kf = KFold(n_splits=5, shuffle=True, random_state=42)\n",
    "\n",
    "f1_reg_scores = []\n",
    "\n",
    "for train_index, test_index in kf.split(X):\n",
    "    X_train, X_test = X.iloc[train_index], X.iloc[test_index]\n",
    "    y_train, y_test = y.iloc[train_index], y.iloc[test_index]\n",
    "\n",
    "    pipeline.fit(X_train, y_train)\n",
    "    y_pred = pipeline.predict(X_test)\n",
    "\n",
    "    f1_reg = f_beta_regression(y_test.values, y_pred, beta=1.0, threshold=10)\n",
    "    f1_reg_scores.append(f1_reg)\n",
    "\n",
    "print(\"\\nF1 adapted for regression (per fold):\", f1_reg_scores)\n",
    "print(\"Mean F1 adapted for regression:\", np.mean(f1_reg_scores))"
   ],
   "metadata": {
    "collapsed": false,
    "ExecuteTime": {
     "end_time": "2025-05-11T14:07:44.816078200Z",
     "start_time": "2025-05-11T14:07:44.710396300Z"
    }
   },
   "id": "ff9930236815ab36",
   "execution_count": 52
  },
  {
   "cell_type": "markdown",
   "source": [
    "DECISION TREE"
   ],
   "metadata": {
    "collapsed": false
   },
   "id": "7dfa6c2a0a389c"
  },
  {
   "cell_type": "code",
   "execution_count": 53,
   "outputs": [
    {
     "name": "stdout",
     "output_type": "stream",
     "text": [
      "R² score per fold: [0.33895874 0.7113546  0.76787048 0.72709615 0.74166605]\n",
      "Mean R² score: 0.6573892044470153\n"
     ]
    }
   ],
   "source": [
    "from sklearn.tree import DecisionTreeRegressor\n",
    "\n",
    "pipeline = Pipeline([\n",
    "    ('tree', DecisionTreeRegressor(random_state=42))\n",
    "])\n",
    "\n",
    "r2_scores = cross_val_score(pipeline, X, y, cv=5, scoring='r2')\n",
    "print(\"R² score per fold:\", r2_scores)\n",
    "print(\"Mean R² score:\", np.mean(r2_scores))\n"
   ],
   "metadata": {
    "collapsed": false,
    "ExecuteTime": {
     "end_time": "2025-05-11T14:07:44.959414Z",
     "start_time": "2025-05-11T14:07:44.819101300Z"
    }
   },
   "id": "df18b5c373732838"
  },
  {
   "cell_type": "code",
   "execution_count": 54,
   "outputs": [
    {
     "name": "stdout",
     "output_type": "stream",
     "text": [
      "\n",
      "Mean Absolute Error (per fold): [8.422113748958333, 6.711666844270834, 7.289402811458334, 7.2628432385416675, 7.114660371875002]\n",
      "Mean MAE: 7.3601374030208335\n",
      "\n",
      "Root Mean Squared Error (per fold): [np.float64(32.236514167339934), np.float64(15.725577907056614), np.float64(26.588897433526725), np.float64(31.809472287147177), np.float64(25.309808584165552)]\n",
      "Mean RMSE: 26.3340540758472\n"
     ]
    }
   ],
   "source": [
    "# Decision Tree with other metrics - MAE and RMSE\n",
    "pipeline = Pipeline([\n",
    "    ('tree', DecisionTreeRegressor(random_state=42))\n",
    "])\n",
    "\n",
    "kf = KFold(n_splits=5, shuffle=True, random_state=42)\n",
    "\n",
    "mae_scores = []\n",
    "rmse_scores = []\n",
    "\n",
    "for train_index, test_index in kf.split(X):\n",
    "    X_train, X_test = X.iloc[train_index], X.iloc[test_index]\n",
    "    y_train, y_test = y.iloc[train_index], y.iloc[test_index]\n",
    "\n",
    "    pipeline.fit(X_train, y_train)\n",
    "    y_pred = pipeline.predict(X_test)\n",
    "\n",
    "    mae = mean_absolute_error(y_test, y_pred)\n",
    "    mae_scores.append(mae)\n",
    "\n",
    "    rmse = np.sqrt(mean_squared_error(y_test, y_pred))\n",
    "    rmse_scores.append(rmse)\n",
    "\n",
    "print(\"\\nMean Absolute Error (per fold):\", mae_scores)\n",
    "print(\"Mean MAE:\", np.mean(mae_scores))\n",
    "\n",
    "print(\"\\nRoot Mean Squared Error (per fold):\", rmse_scores)\n",
    "print(\"Mean RMSE:\", np.mean(rmse_scores))"
   ],
   "metadata": {
    "collapsed": false,
    "ExecuteTime": {
     "end_time": "2025-05-11T14:07:45.086793800Z",
     "start_time": "2025-05-11T14:07:44.952134600Z"
    }
   },
   "id": "5ebc55ef4563fb51"
  },
  {
   "cell_type": "code",
   "execution_count": 55,
   "outputs": [
    {
     "name": "stdout",
     "output_type": "stream",
     "text": [
      "\n",
      "F1 adapted for regression (per fold): [np.float64(0.5485913729506213), np.float64(0.5834330449305349), np.float64(0.5738133617767052), np.float64(0.6088375841634754), np.float64(0.5861567105323495)]\n",
      "Mean F1 adapted for regression: 0.5801664148707373\n"
     ]
    }
   ],
   "source": [
    "# Decision Tree with custom metric - F1 score for regression\n",
    "pipeline = Pipeline([\n",
    "    ('tree', DecisionTreeRegressor(random_state=42))\n",
    "])\n",
    "\n",
    "f1_reg_scores = []\n",
    "\n",
    "for train_index, test_index in kf.split(X):\n",
    "    X_train, X_test = X.iloc[train_index], X.iloc[test_index]\n",
    "    y_train, y_test = y.iloc[train_index], y.iloc[test_index]\n",
    "\n",
    "    pipeline.fit(X_train, y_train)\n",
    "    y_pred = pipeline.predict(X_test)\n",
    "\n",
    "    f1_reg = f_beta_regression(y_test.values, y_pred, beta=1.0, threshold=10)\n",
    "    f1_reg_scores.append(f1_reg)\n",
    "\n",
    "print(\"\\nF1 adapted for regression (per fold):\", f1_reg_scores)\n",
    "print(\"Mean F1 adapted for regression:\", np.mean(f1_reg_scores))"
   ],
   "metadata": {
    "collapsed": false,
    "ExecuteTime": {
     "end_time": "2025-05-11T14:07:45.217223300Z",
     "start_time": "2025-05-11T14:07:45.086793800Z"
    }
   },
   "id": "14889bcb5ad229f6"
  },
  {
   "cell_type": "markdown",
   "source": [
    "MULTILAYER PERCEPTRON (MLP)"
   ],
   "metadata": {
    "collapsed": false
   },
   "id": "28cd6377837ac8ed"
  },
  {
   "cell_type": "code",
   "execution_count": 56,
   "outputs": [
    {
     "name": "stdout",
     "output_type": "stream",
     "text": [
      "R² score per fold: [0.45244089 0.76851603 0.79830366 0.81485726 0.6965166 ]\n",
      "Mean R² score: 0.7061268855505594\n"
     ]
    }
   ],
   "source": [
    "from sklearn.neural_network import MLPRegressor\n",
    "\n",
    "pipeline = Pipeline([\n",
    "    ('scaler', StandardScaler()),\n",
    "    ('mlp', MLPRegressor(hidden_layer_sizes=(100, 50), max_iter=1000, early_stopping=True, random_state=42))\n",
    "])\n",
    "\n",
    "r2_scores = cross_val_score(pipeline, X, y, cv=5, scoring='r2')\n",
    "print(\"R² score per fold:\", r2_scores)\n",
    "print(\"Mean R² score:\", np.mean(r2_scores))"
   ],
   "metadata": {
    "collapsed": false,
    "ExecuteTime": {
     "end_time": "2025-05-11T14:07:48.240716500Z",
     "start_time": "2025-05-11T14:07:45.216716900Z"
    }
   },
   "id": "f7c72f53a164b4d7"
  },
  {
   "cell_type": "code",
   "execution_count": 57,
   "outputs": [
    {
     "name": "stdout",
     "output_type": "stream",
     "text": [
      "\n",
      "Mean Absolute Error (per fold): [7.222472267504016, 5.738928581482529, 5.411889637804772, 5.88629985362974, 5.319873823066804]\n",
      "Mean MAE: 5.915892832697573\n",
      "\n",
      "Root Mean Squared Error (per fold): [np.float64(20.415992926531896), np.float64(13.05584884588473), np.float64(25.151819341895997), np.float64(12.441966634600144), np.float64(14.964968050052928)]\n",
      "Mean RMSE: 17.20611915979314\n"
     ]
    }
   ],
   "source": [
    "# MLP with other metrics - MAE and RMSE\n",
    "pipeline = Pipeline([\n",
    "    ('scaler', StandardScaler()),\n",
    "    ('mlp', MLPRegressor(hidden_layer_sizes=(100, 50), max_iter=1000, early_stopping=True, random_state=42))\n",
    "])\n",
    "\n",
    "kf = KFold(n_splits=5, shuffle=True, random_state=42)\n",
    "\n",
    "mae_scores = []\n",
    "rmse_scores = []\n",
    "\n",
    "for train_index, test_index in kf.split(X):\n",
    "    X_train, X_test = X.iloc[train_index], X.iloc[test_index]\n",
    "    y_train, y_test = y.iloc[train_index], y.iloc[test_index]\n",
    "\n",
    "    pipeline.fit(X_train, y_train)\n",
    "    y_pred = pipeline.predict(X_test)\n",
    "\n",
    "    mae = mean_absolute_error(y_test, y_pred)\n",
    "    mae_scores.append(mae)\n",
    "\n",
    "    rmse = np.sqrt(mean_squared_error(y_test, y_pred))\n",
    "    rmse_scores.append(rmse)\n",
    "\n",
    "print(\"\\nMean Absolute Error (per fold):\", mae_scores)\n",
    "print(\"Mean MAE:\", np.mean(mae_scores))\n",
    "\n",
    "print(\"\\nRoot Mean Squared Error (per fold):\", rmse_scores)\n",
    "print(\"Mean RMSE:\", np.mean(rmse_scores))\n"
   ],
   "metadata": {
    "collapsed": false,
    "ExecuteTime": {
     "end_time": "2025-05-11T14:07:53.122449300Z",
     "start_time": "2025-05-11T14:07:48.240716500Z"
    }
   },
   "id": "aada64d58de9e9e7"
  },
  {
   "cell_type": "code",
   "execution_count": 58,
   "outputs": [
    {
     "name": "stdout",
     "output_type": "stream",
     "text": [
      "\n",
      "F1 adapted for regression (per fold): [np.float64(0.5908760431529472), np.float64(0.6658107667255179), np.float64(0.6693766921445705), np.float64(0.6484482664962141), np.float64(0.6454128233529002)]\n",
      "Mean F1 adapted for regression: 0.6439849183744298\n"
     ]
    }
   ],
   "source": [
    "# MLP with custom metric - F1 score for regression\n",
    "pipeline = Pipeline([\n",
    "    ('scaler', StandardScaler()),\n",
    "    ('mlp', MLPRegressor(hidden_layer_sizes=(100, 50), max_iter=1000, early_stopping=True, random_state=42))\n",
    "])\n",
    "\n",
    "f1_reg_scores = []\n",
    "\n",
    "for train_index, test_index in kf.split(X):\n",
    "    X_train, X_test = X.iloc[train_index], X.iloc[test_index]\n",
    "    y_train, y_test = y.iloc[train_index], y.iloc[test_index]\n",
    "\n",
    "    pipeline.fit(X_train, y_train)\n",
    "    y_pred = pipeline.predict(X_test)\n",
    "\n",
    "    f1_reg = f_beta_regression(y_test.values, y_pred, beta=1.0, threshold=10)\n",
    "    f1_reg_scores.append(f1_reg)\n",
    "\n",
    "print(\"\\nF1 adapted for regression (per fold):\", f1_reg_scores)\n",
    "print(\"Mean F1 adapted for regression:\", np.mean(f1_reg_scores))"
   ],
   "metadata": {
    "collapsed": false,
    "ExecuteTime": {
     "end_time": "2025-05-11T14:07:57.990667700Z",
     "start_time": "2025-05-11T14:07:53.122449300Z"
    }
   },
   "id": "7d21063e89f7a7de"
  }
 ],
 "metadata": {
  "kernelspec": {
   "display_name": "Python 3",
   "language": "python",
   "name": "python3"
  },
  "language_info": {
   "codemirror_mode": {
    "name": "ipython",
    "version": 2
   },
   "file_extension": ".py",
   "mimetype": "text/x-python",
   "name": "python",
   "nbconvert_exporter": "python",
   "pygments_lexer": "ipython2",
   "version": "2.7.6"
  }
 },
 "nbformat": 4,
 "nbformat_minor": 5
}
