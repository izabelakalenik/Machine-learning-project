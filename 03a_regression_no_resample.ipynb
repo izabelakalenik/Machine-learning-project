{
 "cells": [
  {
   "cell_type": "code",
   "execution_count": 76,
   "id": "initial_id",
   "metadata": {
    "collapsed": true,
    "ExecuteTime": {
     "end_time": "2025-05-13T12:30:49.191087600Z",
     "start_time": "2025-05-13T12:30:49.069757300Z"
    }
   },
   "outputs": [],
   "source": [
    "import numpy as np\n",
    "import pandas as pd\n",
    "from sklearn.model_selection import cross_val_score\n",
    "from sklearn.pipeline import Pipeline\n",
    "from sklearn.preprocessing import StandardScaler  \n",
    "from sklearn.metrics import mean_absolute_error, mean_squared_error\n",
    "from sklearn.model_selection import KFold"
   ]
  },
  {
   "cell_type": "code",
   "outputs": [],
   "source": [
    "df = pd.read_csv('cleaned_movies.csv')"
   ],
   "metadata": {
    "collapsed": false,
    "ExecuteTime": {
     "end_time": "2025-05-13T12:30:49.269537600Z",
     "start_time": "2025-05-13T12:30:49.081306900Z"
    }
   },
   "id": "413af58230c1c8b8",
   "execution_count": 77
  },
  {
   "cell_type": "code",
   "outputs": [
    {
     "name": "stdout",
     "output_type": "stream",
     "text": [
      "budget              int64\n",
      "runtime           float64\n",
      "vote_average      float64\n",
      "vote_count          int64\n",
      "revenue             int64\n",
      "release_year        int64\n",
      "genres_score      float64\n",
      "language_score    float64\n",
      "dtype: object\n"
     ]
    }
   ],
   "source": [
    "X = df.drop(columns=['genres', 'original_language', 'popularity_class', 'popularity']).copy()\n",
    "y = df['popularity']\n",
    "\n",
    "\n",
    "print(X.dtypes)"
   ],
   "metadata": {
    "collapsed": false,
    "ExecuteTime": {
     "end_time": "2025-05-13T12:30:49.301018500Z",
     "start_time": "2025-05-13T12:30:49.112048400Z"
    }
   },
   "id": "248ba3348e0f4fd8",
   "execution_count": 78
  },
  {
   "cell_type": "markdown",
   "source": [
    "# SVR"
   ],
   "metadata": {
    "collapsed": false
   },
   "id": "538b2d207f98fd47"
  },
  {
   "cell_type": "code",
   "outputs": [
    {
     "name": "stdout",
     "output_type": "stream",
     "text": [
      "R² score for each fold: [0.28530773 0.52306834 0.22140903 0.52224921 0.35925633]\n",
      "Mean R² score: 0.3822581308372934\n"
     ]
    }
   ],
   "source": [
    "from sklearn.svm import SVR\n",
    "\n",
    "# we use rbf kernel, bc we do not have linear data\n",
    "pipeline = Pipeline([\n",
    "    ('scaler', StandardScaler()),\n",
    "    ('svr', SVR())\n",
    "])\n",
    "\n",
    "kf = KFold(n_splits=5, shuffle=True, random_state=42) # added cross validation parameters (seed)  \n",
    "    \n",
    "# 5-fold cross-validation (for R^2 score)\n",
    "scores = cross_val_score(pipeline, X, y, cv=kf, scoring='r2')\n",
    "\n",
    "print(\"R² score for each fold:\", scores)\n",
    "print(\"Mean R² score:\", scores.mean())\n"
   ],
   "metadata": {
    "collapsed": false,
    "ExecuteTime": {
     "end_time": "2025-05-13T12:30:54.646103100Z",
     "start_time": "2025-05-13T12:30:49.127739500Z"
    }
   },
   "id": "8a4de61dad0c4a7f",
   "execution_count": 79
  },
  {
   "cell_type": "code",
   "execution_count": 80,
   "outputs": [
    {
     "name": "stdout",
     "output_type": "stream",
     "text": [
      "\n",
      "Mean Absolute Error (per fold): [8.328556375975795, 7.354506016916082, 7.773044329294107, 7.006787536671898, 7.549327181844288]\n",
      "Mean MAE: 7.602444288140434\n",
      "\n",
      "Root Mean Squared Error (per fold): [np.float64(29.340520756947875), np.float64(18.27946231502747), np.float64(34.40533326287847), np.float64(17.87459517249698), np.float64(24.88627649962935)]\n",
      "Mean RMSE: 24.957237601396027\n"
     ]
    }
   ],
   "source": [
    "# SVR with other metrics - MAE and RMSE\n",
    "pipeline = Pipeline([\n",
    "    ('scaler', StandardScaler()),\n",
    "    ('svr', SVR())\n",
    "])\n",
    "\n",
    "kf = KFold(n_splits=5, shuffle=True, random_state=42)\n",
    "\n",
    "mae_scores = []\n",
    "rmse_scores = []\n",
    "\n",
    "for train_index, test_index in kf.split(X):\n",
    "    X_train, X_test = X.iloc[train_index], X.iloc[test_index]\n",
    "    y_train, y_test = y.iloc[train_index], y.iloc[test_index]\n",
    "\n",
    "    pipeline.fit(X_train, y_train)\n",
    "    y_pred = pipeline.predict(X_test)\n",
    "\n",
    "    # MAE\n",
    "    mae = mean_absolute_error(y_test, y_pred)\n",
    "    mae_scores.append(mae)\n",
    "\n",
    "    # RMSE\n",
    "    rmse = np.sqrt(mean_squared_error(y_test, y_pred))\n",
    "    rmse_scores.append(rmse)\n",
    "\n",
    "print(\"\\nMean Absolute Error (per fold):\", mae_scores)\n",
    "print(\"Mean MAE:\", np.mean(mae_scores))\n",
    "\n",
    "print(\"\\nRoot Mean Squared Error (per fold):\", rmse_scores)\n",
    "print(\"Mean RMSE:\", np.mean(rmse_scores))\n"
   ],
   "metadata": {
    "collapsed": false,
    "ExecuteTime": {
     "end_time": "2025-05-13T12:30:59.866104100Z",
     "start_time": "2025-05-13T12:30:54.646103100Z"
    }
   },
   "id": "3350dd2a11c2aa82"
  },
  {
   "cell_type": "markdown",
   "source": [
    "# KNN"
   ],
   "metadata": {
    "collapsed": false
   },
   "id": "24c7a083fe67674f"
  },
  {
   "cell_type": "code",
   "outputs": [
    {
     "name": "stdout",
     "output_type": "stream",
     "text": [
      "R² score per fold: [0.64400494 0.7743085  0.44947564 0.77873965 0.65294796]\n",
      "Mean R² score: 0.6598953366442373\n"
     ]
    }
   ],
   "source": [
    "from sklearn.neighbors import KNeighborsRegressor\n",
    "\n",
    "pipeline = Pipeline([\n",
    "    ('scaler', StandardScaler()),\n",
    "    ('knn', KNeighborsRegressor(n_neighbors=5))\n",
    "])\n",
    "\n",
    "kf = KFold(n_splits=5, shuffle=True, random_state=42) # added cross validation parameters (seed)\n",
    "\n",
    "r2_scores = cross_val_score(pipeline, X, y, cv=kf, scoring='r2')\n",
    "print(\"R² score per fold:\", r2_scores)\n",
    "print(\"Mean R² score:\", np.mean(r2_scores))\n",
    "\n"
   ],
   "metadata": {
    "collapsed": false,
    "ExecuteTime": {
     "end_time": "2025-05-13T12:31:00.145501800Z",
     "start_time": "2025-05-13T12:30:59.860061300Z"
    }
   },
   "id": "19d21c634e2c0a2c",
   "execution_count": 81
  },
  {
   "cell_type": "code",
   "execution_count": 82,
   "outputs": [
    {
     "name": "stdout",
     "output_type": "stream",
     "text": [
      "\n",
      "Mean Absolute Error (per fold): [7.685210776875, 6.344900424583333, 7.4304743547916665, 6.2416500260416665, 6.577483014166666]\n",
      "Mean MAE: 6.855943719291666\n",
      "\n",
      "Root Mean Squared Error (per fold): [np.float64(20.707623693285107), np.float64(12.574564345362754), np.float64(28.93072761401086), np.float64(12.164305158873695), np.float64(18.31534332710816)]\n",
      "Mean RMSE: 18.53851282772812\n"
     ]
    }
   ],
   "source": [
    "# KNN with other metrics - MAE and RMSE\n",
    "pipeline = Pipeline([\n",
    "    ('scaler', StandardScaler()),\n",
    "    ('knn', KNeighborsRegressor(n_neighbors=5))\n",
    "])\n",
    "\n",
    "kf = KFold(n_splits=5, shuffle=True, random_state=42)\n",
    "\n",
    "mae_scores = []\n",
    "rmse_scores = []\n",
    "\n",
    "for train_index, test_index in kf.split(X):\n",
    "    X_train, X_test = X.iloc[train_index], X.iloc[test_index]\n",
    "    y_train, y_test = y.iloc[train_index], y.iloc[test_index]\n",
    "\n",
    "    pipeline.fit(X_train, y_train)\n",
    "    y_pred = pipeline.predict(X_test)\n",
    "\n",
    "    mae = mean_absolute_error(y_test, y_pred)\n",
    "    mae_scores.append(mae)\n",
    "\n",
    "    rmse = np.sqrt(mean_squared_error(y_test, y_pred))\n",
    "    rmse_scores.append(rmse)\n",
    "\n",
    "\n",
    "print(\"\\nMean Absolute Error (per fold):\", mae_scores)\n",
    "print(\"Mean MAE:\", np.mean(mae_scores))\n",
    "\n",
    "print(\"\\nRoot Mean Squared Error (per fold):\", rmse_scores)\n",
    "print(\"Mean RMSE:\", np.mean(rmse_scores))"
   ],
   "metadata": {
    "collapsed": false,
    "ExecuteTime": {
     "end_time": "2025-05-13T12:31:00.327660Z",
     "start_time": "2025-05-13T12:31:00.121581200Z"
    }
   },
   "id": "91b9c7f5c6954eb3"
  },
  {
   "cell_type": "markdown",
   "source": [
    "# DECISION TREE"
   ],
   "metadata": {
    "collapsed": false
   },
   "id": "7dfa6c2a0a389c"
  },
  {
   "cell_type": "code",
   "execution_count": 83,
   "outputs": [
    {
     "name": "stdout",
     "output_type": "stream",
     "text": [
      "R² score per fold: [ 0.13726067  0.64702614  0.53499408 -0.51301039  0.3372615 ]\n",
      "Mean R² score: 0.22870640065978023\n"
     ]
    }
   ],
   "source": [
    "from sklearn.tree import DecisionTreeRegressor\n",
    "\n",
    "pipeline = Pipeline([\n",
    "    ('tree', DecisionTreeRegressor(random_state=42))\n",
    "])\n",
    "\n",
    "kf = KFold(n_splits=5, shuffle=True, random_state=42) # added cross validation parameters (seed)\n",
    "\n",
    "r2_scores = cross_val_score(pipeline, X, y, cv=kf, scoring='r2')\n",
    "print(\"R² score per fold:\", r2_scores)\n",
    "print(\"Mean R² score:\", np.mean(r2_scores))\n"
   ],
   "metadata": {
    "collapsed": false,
    "ExecuteTime": {
     "end_time": "2025-05-13T12:31:00.610375700Z",
     "start_time": "2025-05-13T12:31:00.327660Z"
    }
   },
   "id": "df18b5c373732838"
  },
  {
   "cell_type": "code",
   "execution_count": 84,
   "outputs": [
    {
     "name": "stdout",
     "output_type": "stream",
     "text": [
      "\n",
      "Mean Absolute Error (per fold): [8.422113748958333, 6.711666844270834, 7.289402811458334, 7.2628432385416675, 7.114660371875002]\n",
      "Mean MAE: 7.3601374030208335\n",
      "\n",
      "Root Mean Squared Error (per fold): [np.float64(32.236514167339934), np.float64(15.725577907056614), np.float64(26.588897433526725), np.float64(31.809472287147177), np.float64(25.309808584165552)]\n",
      "Mean RMSE: 26.3340540758472\n"
     ]
    }
   ],
   "source": [
    "# Decision Tree with other metrics - MAE and RMSE\n",
    "pipeline = Pipeline([\n",
    "    ('tree', DecisionTreeRegressor(random_state=42))\n",
    "])\n",
    "\n",
    "kf = KFold(n_splits=5, shuffle=True, random_state=42)\n",
    "\n",
    "mae_scores = []\n",
    "rmse_scores = []\n",
    "\n",
    "for train_index, test_index in kf.split(X):\n",
    "    X_train, X_test = X.iloc[train_index], X.iloc[test_index]\n",
    "    y_train, y_test = y.iloc[train_index], y.iloc[test_index]\n",
    "\n",
    "    pipeline.fit(X_train, y_train)\n",
    "    y_pred = pipeline.predict(X_test)\n",
    "\n",
    "    mae = mean_absolute_error(y_test, y_pred)\n",
    "    mae_scores.append(mae)\n",
    "\n",
    "    rmse = np.sqrt(mean_squared_error(y_test, y_pred))\n",
    "    rmse_scores.append(rmse)\n",
    "\n",
    "print(\"\\nMean Absolute Error (per fold):\", mae_scores)\n",
    "print(\"Mean MAE:\", np.mean(mae_scores))\n",
    "\n",
    "print(\"\\nRoot Mean Squared Error (per fold):\", rmse_scores)\n",
    "print(\"Mean RMSE:\", np.mean(rmse_scores))"
   ],
   "metadata": {
    "collapsed": false,
    "ExecuteTime": {
     "end_time": "2025-05-13T12:31:00.886689900Z",
     "start_time": "2025-05-13T12:31:00.606347300Z"
    }
   },
   "id": "5ebc55ef4563fb51"
  },
  {
   "cell_type": "markdown",
   "source": [
    "# MULTILAYER PERCEPTRON (MLP)"
   ],
   "metadata": {
    "collapsed": false
   },
   "id": "28cd6377837ac8ed"
  },
  {
   "cell_type": "code",
   "execution_count": 85,
   "outputs": [
    {
     "name": "stdout",
     "output_type": "stream",
     "text": [
      "R² score per fold: [0.65396147 0.75670144 0.58390104 0.76852343 0.76830532]\n",
      "Mean R² score: 0.7062785371974168\n"
     ]
    }
   ],
   "source": [
    "from sklearn.neural_network import MLPRegressor\n",
    "\n",
    "pipeline = Pipeline([\n",
    "    ('scaler', StandardScaler()),\n",
    "    ('mlp', MLPRegressor(hidden_layer_sizes=(100, 50), max_iter=1000, early_stopping=True, random_state=42))\n",
    "])\n",
    "\n",
    "kf = KFold(n_splits=5, shuffle=True, random_state=42) # added cross validation parameters (seed)\n",
    "\n",
    "r2_scores = cross_val_score(pipeline, X, y, cv=kf, scoring='r2')\n",
    "print(\"R² score per fold:\", r2_scores)\n",
    "print(\"Mean R² score:\", np.mean(r2_scores))"
   ],
   "metadata": {
    "collapsed": false,
    "ExecuteTime": {
     "end_time": "2025-05-13T12:31:08.324438200Z",
     "start_time": "2025-05-13T12:31:00.892314600Z"
    }
   },
   "id": "f7c72f53a164b4d7"
  },
  {
   "cell_type": "code",
   "execution_count": 86,
   "outputs": [
    {
     "name": "stdout",
     "output_type": "stream",
     "text": [
      "\n",
      "Mean Absolute Error (per fold): [7.222472267504016, 5.738928581482529, 5.411889637804772, 5.88629985362974, 5.319873823066804]\n",
      "Mean MAE: 5.915892832697573\n",
      "\n",
      "Root Mean Squared Error (per fold): [np.float64(20.415992926531896), np.float64(13.05584884588473), np.float64(25.151819341895997), np.float64(12.441966634600144), np.float64(14.964968050052928)]\n",
      "Mean RMSE: 17.20611915979314\n"
     ]
    }
   ],
   "source": [
    "# MLP with other metrics - MAE and RMSE\n",
    "pipeline = Pipeline([\n",
    "    ('scaler', StandardScaler()),\n",
    "    ('mlp', MLPRegressor(hidden_layer_sizes=(100, 50), max_iter=1000, early_stopping=True, random_state=42))\n",
    "])\n",
    "\n",
    "kf = KFold(n_splits=5, shuffle=True, random_state=42)\n",
    "\n",
    "mae_scores = []\n",
    "rmse_scores = []\n",
    "\n",
    "for train_index, test_index in kf.split(X):\n",
    "    X_train, X_test = X.iloc[train_index], X.iloc[test_index]\n",
    "    y_train, y_test = y.iloc[train_index], y.iloc[test_index]\n",
    "\n",
    "    pipeline.fit(X_train, y_train)\n",
    "    y_pred = pipeline.predict(X_test)\n",
    "\n",
    "    mae = mean_absolute_error(y_test, y_pred)\n",
    "    mae_scores.append(mae)\n",
    "\n",
    "    rmse = np.sqrt(mean_squared_error(y_test, y_pred))\n",
    "    rmse_scores.append(rmse)\n",
    "\n",
    "print(\"\\nMean Absolute Error (per fold):\", mae_scores)\n",
    "print(\"Mean MAE:\", np.mean(mae_scores))\n",
    "\n",
    "print(\"\\nRoot Mean Squared Error (per fold):\", rmse_scores)\n",
    "print(\"Mean RMSE:\", np.mean(rmse_scores))\n"
   ],
   "metadata": {
    "collapsed": false,
    "ExecuteTime": {
     "end_time": "2025-05-13T12:31:15.722466700Z",
     "start_time": "2025-05-13T12:31:08.313075800Z"
    }
   },
   "id": "aada64d58de9e9e7"
  }
 ],
 "metadata": {
  "kernelspec": {
   "display_name": "Python 3",
   "language": "python",
   "name": "python3"
  },
  "language_info": {
   "codemirror_mode": {
    "name": "ipython",
    "version": 2
   },
   "file_extension": ".py",
   "mimetype": "text/x-python",
   "name": "python",
   "nbconvert_exporter": "python",
   "pygments_lexer": "ipython2",
   "version": "2.7.6"
  }
 },
 "nbformat": 4,
 "nbformat_minor": 5
}
