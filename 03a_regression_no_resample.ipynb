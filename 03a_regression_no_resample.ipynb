{
 "cells": [
  {
   "cell_type": "code",
   "execution_count": 25,
   "id": "initial_id",
   "metadata": {
    "collapsed": true,
    "ExecuteTime": {
     "end_time": "2025-05-03T15:35:14.828076Z",
     "start_time": "2025-05-03T15:35:14.823487Z"
    }
   },
   "outputs": [],
   "source": [
    "import pandas as pd\n",
    "from sklearn.model_selection import cross_val_score\n",
    "from sklearn.pipeline import Pipeline\n",
    "from sklearn.preprocessing import StandardScaler  \n",
    "from custom_metrics import f_beta_regression"
   ]
  },
  {
   "cell_type": "code",
   "outputs": [],
   "source": [
    "df = pd.read_csv('cleaned_movies.csv')"
   ],
   "metadata": {
    "collapsed": false,
    "ExecuteTime": {
     "end_time": "2025-05-03T15:35:14.885026Z",
     "start_time": "2025-05-03T15:35:14.866208Z"
    }
   },
   "id": "413af58230c1c8b8",
   "execution_count": 26
  },
  {
   "cell_type": "markdown",
   "source": [
    "SVM"
   ],
   "metadata": {
    "collapsed": false
   },
   "id": "46ac478c453d8422"
  },
  {
   "cell_type": "code",
   "outputs": [
    {
     "name": "stdout",
     "output_type": "stream",
     "text": [
      "budget              int64\n",
      "runtime           float64\n",
      "vote_average      float64\n",
      "vote_count          int64\n",
      "revenue             int64\n",
      "release_year        int64\n",
      "genres_score      float64\n",
      "language_score    float64\n",
      "dtype: object\n"
     ]
    }
   ],
   "source": [
    "X = df.drop(columns=['genres', 'original_language', 'popularity_class', 'popularity']).copy()\n",
    "y = df['popularity']\n",
    "\n",
    "\n",
    "print(X.dtypes)"
   ],
   "metadata": {
    "collapsed": false,
    "ExecuteTime": {
     "end_time": "2025-05-03T15:35:14.894114Z",
     "start_time": "2025-05-03T15:35:14.887024Z"
    }
   },
   "id": "248ba3348e0f4fd8",
   "execution_count": 27
  },
  {
   "cell_type": "code",
   "outputs": [
    {
     "name": "stdout",
     "output_type": "stream",
     "text": [
      "R² score for each fold: [-0.23557032  0.68975404  0.71698825  0.66255143  0.20916165]\n",
      "Mean R² score: 0.4085770095922269\n"
     ]
    }
   ],
   "source": [
    "from sklearn.svm import SVR # if the import is needed only in one cell should we put it here or on the top? \n",
    "\n",
    "# we use rbf kernel, bc we do not have linear data\n",
    "pipeline = Pipeline([\n",
    "    ('scaler', StandardScaler()),\n",
    "    ('svr', SVR())\n",
    "])\n",
    "    \n",
    "# 5-fold cross-validation (for R^2 score)\n",
    "scores = cross_val_score(pipeline, X, y, cv=5, scoring='r2')\n",
    "\n",
    "print(\"R² score for each fold:\", scores)\n",
    "print(\"Mean R² score:\", scores.mean())\n",
    "\n",
    "# we have to adjust metrics"
   ],
   "metadata": {
    "collapsed": false,
    "ExecuteTime": {
     "end_time": "2025-05-03T15:35:19.726256Z",
     "start_time": "2025-05-03T15:35:14.897132Z"
    }
   },
   "id": "8a4de61dad0c4a7f",
   "execution_count": 28
  },
  {
   "cell_type": "code",
   "outputs": [
    {
     "name": "stdout",
     "output_type": "stream",
     "text": [
      "F1 adapted for regression per fold: [np.float64(0.5917076548142687), np.float64(0.592436313219766), np.float64(0.6121203155753612), np.float64(0.5937048135561629), np.float64(0.6114060013989775)]\n",
      "Mean F1 adapted for regression: 0.6002750197129073\n"
     ]
    }
   ],
   "source": [
    "# svm with custom metric - F1 score for regression\n",
    "from sklearn.model_selection import KFold\n",
    "import numpy as np\n",
    "\n",
    "pipeline = Pipeline([\n",
    "    ('scaler', StandardScaler()),\n",
    "    ('svr', SVR())\n",
    "])\n",
    "\n",
    "kf = KFold(n_splits=5, shuffle=True, random_state=42)\n",
    "\n",
    "f1_scores = []\n",
    "for train_index, test_index in kf.split(X):\n",
    "    X_train, X_test = X.iloc[train_index], X.iloc[test_index]\n",
    "    y_train, y_test = y.iloc[train_index], y.iloc[test_index]\n",
    "    \n",
    "    pipeline.fit(X_train, y_train)\n",
    "    y_pred = pipeline.predict(X_test)\n",
    "    \n",
    "    f1 = f_beta_regression(y_test.values, y_pred, beta=1.0, threshold=10)\n",
    "    f1_scores.append(f1)\n",
    "\n",
    "print(\"F1 adapted for regression per fold:\", f1_scores)\n",
    "print(\"Mean F1 adapted for regression:\", np.mean(f1_scores))"
   ],
   "metadata": {
    "collapsed": false,
    "ExecuteTime": {
     "end_time": "2025-05-03T15:35:24.472481Z",
     "start_time": "2025-05-03T15:35:19.728280Z"
    }
   },
   "id": "3c3c94668c7f768b",
   "execution_count": 29
  },
  {
   "cell_type": "markdown",
   "source": [
    "KNN"
   ],
   "metadata": {
    "collapsed": false
   },
   "id": "24c7a083fe67674f"
  },
  {
   "cell_type": "code",
   "outputs": [
    {
     "name": "stdout",
     "output_type": "stream",
     "text": [
      "R² score for each fold: [0.35060872 0.76855449 0.79609064 0.76641059 0.63277432]\n",
      "Mean R² score: 0.6628877518338261\n"
     ]
    }
   ],
   "source": [
    "from sklearn.neighbors import KNeighborsRegressor\n",
    "\n",
    "pipeline = Pipeline([\n",
    "    ('scaler', StandardScaler()),\n",
    "    ('knn', KNeighborsRegressor(n_neighbors=5))\n",
    "])\n",
    "\n",
    "scores = cross_val_score(pipeline, X, y, cv=5, scoring='r2')\n",
    "print(\"R² score for each fold:\", scores)\n",
    "print(\"Mean R² score:\", scores.mean())\n",
    "# we have to adjust metrics"
   ],
   "metadata": {
    "collapsed": false,
    "ExecuteTime": {
     "end_time": "2025-05-03T15:35:24.658851Z",
     "start_time": "2025-05-03T15:35:24.473477Z"
    }
   },
   "id": "19d21c634e2c0a2c",
   "execution_count": 30
  },
  {
   "cell_type": "code",
   "outputs": [],
   "source": [],
   "metadata": {
    "collapsed": false,
    "ExecuteTime": {
     "end_time": "2025-05-03T15:35:24.662716Z",
     "start_time": "2025-05-03T15:35:24.659851Z"
    }
   },
   "id": "ff9930236815ab36",
   "execution_count": 30
  }
 ],
 "metadata": {
  "kernelspec": {
   "display_name": "Python 3",
   "language": "python",
   "name": "python3"
  },
  "language_info": {
   "codemirror_mode": {
    "name": "ipython",
    "version": 2
   },
   "file_extension": ".py",
   "mimetype": "text/x-python",
   "name": "python",
   "nbconvert_exporter": "python",
   "pygments_lexer": "ipython2",
   "version": "2.7.6"
  }
 },
 "nbformat": 4,
 "nbformat_minor": 5
}
