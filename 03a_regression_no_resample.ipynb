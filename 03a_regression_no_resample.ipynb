{
 "cells": [
  {
   "cell_type": "code",
   "execution_count": 38,
   "id": "initial_id",
   "metadata": {
    "collapsed": true,
    "ExecuteTime": {
     "end_time": "2025-05-24T07:53:06.562137Z",
     "start_time": "2025-05-24T07:53:06.556120Z"
    }
   },
   "outputs": [],
   "source": [
    "import numpy as np\n",
    "import pandas as pd\n",
    "from sklearn.model_selection import cross_val_score\n",
    "from sklearn.pipeline import Pipeline\n",
    "from sklearn.preprocessing import StandardScaler  \n",
    "from sklearn.metrics import mean_absolute_error, mean_squared_error, r2_score,accuracy_score, precision_score, recall_score, f1_score\n",
    "from sklearn.model_selection import KFold"
   ]
  },
  {
   "cell_type": "code",
   "outputs": [],
   "source": [
    "df = pd.read_csv('cleaned_movies.csv')"
   ],
   "metadata": {
    "collapsed": false,
    "ExecuteTime": {
     "end_time": "2025-05-24T07:53:06.652852Z",
     "start_time": "2025-05-24T07:53:06.630312Z"
    }
   },
   "id": "413af58230c1c8b8",
   "execution_count": 39
  },
  {
   "cell_type": "code",
   "outputs": [
    {
     "name": "stdout",
     "output_type": "stream",
     "text": [
      "budget            int64\n",
      "runtime         float64\n",
      "vote_average    float64\n",
      "vote_count        int64\n",
      "revenue           int64\n",
      "release_year      int64\n",
      "genres_score    float64\n",
      "dtype: object\n"
     ]
    }
   ],
   "source": [
    "X = df.drop(columns=['genres', 'original_language', 'popularity_class', 'popularity']).copy()\n",
    "y = df['popularity']\n",
    "\n",
    "\n",
    "print(X.dtypes)"
   ],
   "metadata": {
    "collapsed": false,
    "ExecuteTime": {
     "end_time": "2025-05-24T07:53:06.684073Z",
     "start_time": "2025-05-24T07:53:06.677553Z"
    }
   },
   "id": "248ba3348e0f4fd8",
   "execution_count": 40
  },
  {
   "cell_type": "code",
   "outputs": [],
   "source": [
    "df_all_results = pd.DataFrame()"
   ],
   "metadata": {
    "collapsed": false,
    "ExecuteTime": {
     "end_time": "2025-05-24T07:53:06.705617Z",
     "start_time": "2025-05-24T07:53:06.701154Z"
    }
   },
   "id": "b711f8c3919e1761",
   "execution_count": 41
  },
  {
   "cell_type": "code",
   "outputs": [],
   "source": [
    "# data for discretization of results\n",
    "\n",
    "bins = [0, 10, 20, 30, 40, 50, 60, 70, 80, 90, y.max()]\n",
    "labels = list(range(10))"
   ],
   "metadata": {
    "collapsed": false,
    "ExecuteTime": {
     "end_time": "2025-05-24T07:53:06.727956Z",
     "start_time": "2025-05-24T07:53:06.720194Z"
    }
   },
   "id": "99707e2dfc6df7ca",
   "execution_count": 42
  },
  {
   "cell_type": "markdown",
   "source": [
    "# SVR"
   ],
   "metadata": {
    "collapsed": false
   },
   "id": "538b2d207f98fd47"
  },
  {
   "cell_type": "code",
   "execution_count": 43,
   "outputs": [
    {
     "name": "stdout",
     "output_type": "stream",
     "text": [
      "\n",
      "Mean Absolute Error (per fold): [8.154750199044871, 7.243405171130566, 7.667763959612371, 6.816424033017546, 7.514772968074236]\n",
      "Mean MAE: 7.479423266175918\n",
      "\n",
      "Root Mean Squared Error (per fold): [np.float64(29.013212425233103), np.float64(18.011617336263093), np.float64(34.193871518736024), np.float64(17.627722679103854), np.float64(24.637311973589224)]\n",
      "Mean RMSE: 24.696747186585057\n",
      "\n",
      "R2 - Coefficient of Determination (per fold): [0.3011643009537627, 0.5369426969027662, 0.23095035536891606, 0.53535485752024, 0.3720123190651886]\n",
      "Mean R2: 0.3952849059621747\n",
      "\n",
      "--- Summary after discretization---\n",
      "Mean Accuracy: 0.6261\n",
      "Mean Precision: 0.2991\n",
      "Mean Recall: 0.3212\n",
      "Mean F1-score: 0.3030\n"
     ]
    }
   ],
   "source": [
    "from sklearn.svm import SVR\n",
    "\n",
    "pipeline = Pipeline([\n",
    "    ('scaler', StandardScaler()),\n",
    "    ('svr', SVR())\n",
    "])\n",
    "\n",
    "kf = KFold(n_splits=5, shuffle=True, random_state=42)\n",
    "\n",
    "mae_scores = []\n",
    "rmse_scores = []\n",
    "r2_scores = []\n",
    "\n",
    "acc_scores = []\n",
    "prec_scores = []\n",
    "rec_scores = []\n",
    "f1_scores = []\n",
    "\n",
    "for train_index, test_index in kf.split(X):\n",
    "    X_train, X_test = X.iloc[train_index], X.iloc[test_index]\n",
    "    y_train, y_test = y.iloc[train_index], y.iloc[test_index]\n",
    "\n",
    "    pipeline.fit(X_train, y_train)\n",
    "    y_pred = pipeline.predict(X_test)\n",
    "\n",
    "    # MAE\n",
    "    mae = mean_absolute_error(y_test, y_pred)\n",
    "    mae_scores.append(mae)\n",
    "\n",
    "    # RMSE\n",
    "    rmse = np.sqrt(mean_squared_error(y_test, y_pred))\n",
    "    rmse_scores.append(rmse)\n",
    "    \n",
    "    # R2\n",
    "    r2 = r2_score(y_test, y_pred)\n",
    "    r2_scores.append(r2)\n",
    "    \n",
    "    \n",
    "    y_pred_disc = pd.cut(y_pred, bins=bins, labels=labels, include_lowest=True)\n",
    "    y_test_disc = pd.cut(y_test, bins=bins, labels=labels, include_lowest=True)\n",
    "    \n",
    "    mask = (~pd.isna(y_pred_disc)) & (~pd.isna(y_test_disc))\n",
    "    y_pred_disc = y_pred_disc[mask]\n",
    "    y_test_disc = y_test_disc[mask]\n",
    "\n",
    "    acc = accuracy_score(y_test_disc, y_pred_disc)\n",
    "    prec = precision_score(y_test_disc, y_pred_disc, average='macro', zero_division=0)\n",
    "    rec = recall_score(y_test_disc, y_pred_disc, average='macro', zero_division=0)\n",
    "    f1 = f1_score(y_test_disc, y_pred_disc, average='macro', zero_division=0)\n",
    "    \n",
    "    acc_scores.append(acc)\n",
    "    prec_scores.append(prec)\n",
    "    rec_scores.append(rec)\n",
    "    f1_scores.append(f1)\n",
    "\n",
    "\n",
    "print(\"\\nMean Absolute Error (per fold):\", mae_scores)\n",
    "print(\"Mean MAE:\", np.mean(mae_scores))\n",
    "\n",
    "print(\"\\nRoot Mean Squared Error (per fold):\", rmse_scores)\n",
    "print(\"Mean RMSE:\", np.mean(rmse_scores))\n",
    "\n",
    "print(\"\\nR2 - Coefficient of Determination (per fold):\", r2_scores)\n",
    "print(\"Mean R2:\", np.mean(r2_scores))\n",
    "\n",
    "print(\"\\n--- Summary after discretization---\")\n",
    "print(f\"Mean Accuracy: {np.mean(acc_scores):.4f}\")\n",
    "print(f\"Mean Precision: {np.mean(prec_scores):.4f}\")\n",
    "print(f\"Mean Recall: {np.mean(rec_scores):.4f}\")\n",
    "print(f\"Mean F1-score: {np.mean(f1_scores):.4f}\")\n"
   ],
   "metadata": {
    "collapsed": false,
    "ExecuteTime": {
     "end_time": "2025-05-24T07:53:12.261063Z",
     "start_time": "2025-05-24T07:53:06.768451Z"
    }
   },
   "id": "3350dd2a11c2aa82"
  },
  {
   "cell_type": "code",
   "outputs": [],
   "source": [
    "# saving results to df\n",
    "df_results = pd.DataFrame({\n",
    "    'MAE': mae_scores,\n",
    "    'RMSE': rmse_scores,\n",
    "    'R2': r2_scores\n",
    "})\n",
    "df_results.to_csv(\"3a_regression_no_resample_SVR.csv\", index=False)"
   ],
   "metadata": {
    "collapsed": false,
    "ExecuteTime": {
     "end_time": "2025-05-24T07:53:12.271562Z",
     "start_time": "2025-05-24T07:53:12.262589Z"
    }
   },
   "id": "e97d65c5cf11682a",
   "execution_count": 44
  },
  {
   "cell_type": "code",
   "outputs": [],
   "source": [
    "# saving results to df (for comparison with classification)\n",
    "df_results = pd.DataFrame({\n",
    "    'acc': acc_scores,\n",
    "    'prec': prec_scores,\n",
    "    'rec': rec_scores,\n",
    "    'f1': f1_scores\n",
    "})\n",
    "df_results.to_csv(\"3a_classification_no_resample_SVR.csv\", index=False)"
   ],
   "metadata": {
    "collapsed": false,
    "ExecuteTime": {
     "end_time": "2025-05-24T07:53:12.278549Z",
     "start_time": "2025-05-24T07:53:12.272628Z"
    }
   },
   "id": "bf0647cd44f42422",
   "execution_count": 45
  },
  {
   "cell_type": "markdown",
   "source": [
    "# KNN"
   ],
   "metadata": {
    "collapsed": false
   },
   "id": "24c7a083fe67674f"
  },
  {
   "cell_type": "code",
   "execution_count": 46,
   "outputs": [
    {
     "name": "stdout",
     "output_type": "stream",
     "text": [
      "\n",
      "Mean Absolute Error (per fold): [7.662202478541667, 6.2844298768749995, 7.332017008125001, 6.1111715135416675, 6.528933535833334]\n",
      "Mean MAE: 6.783750882583334\n",
      "\n",
      "Root Mean Squared Error (per fold): [np.float64(20.692759813765775), np.float64(12.493182395201714), np.float64(28.896761304110278), np.float64(12.082789819537052), np.float64(18.29223241102172)]\n",
      "Mean RMSE: 18.491545148727305\n",
      "\n",
      "R2 - Coefficient of Determination (per fold): [0.6445158183327899, 0.777220371260513, 0.45076757862236383, 0.781695129988779, 0.6538232471131935]\n",
      "Mean R2: 0.6616044290635278\n",
      "\n",
      "--- Summary after discretization---\n",
      "Mean Accuracy: 0.6092\n",
      "Mean Precision: 0.4261\n",
      "Mean Recall: 0.3932\n",
      "Mean F1-score: 0.4032\n"
     ]
    }
   ],
   "source": [
    "from sklearn.neighbors import KNeighborsRegressor\n",
    "\n",
    "pipeline = Pipeline([\n",
    "    ('scaler', StandardScaler()),\n",
    "    ('knn', KNeighborsRegressor(n_neighbors=5))\n",
    "])\n",
    "\n",
    "kf = KFold(n_splits=5, shuffle=True, random_state=42)\n",
    "\n",
    "mae_scores = []\n",
    "rmse_scores = []\n",
    "r2_scores = []\n",
    "\n",
    "acc_scores = []\n",
    "prec_scores = []\n",
    "rec_scores = []\n",
    "f1_scores = []\n",
    "\n",
    "for train_index, test_index in kf.split(X):\n",
    "    X_train, X_test = X.iloc[train_index], X.iloc[test_index]\n",
    "    y_train, y_test = y.iloc[train_index], y.iloc[test_index]\n",
    "\n",
    "    pipeline.fit(X_train, y_train)\n",
    "    y_pred = pipeline.predict(X_test)\n",
    "\n",
    "    mae = mean_absolute_error(y_test, y_pred)\n",
    "    mae_scores.append(mae)\n",
    "\n",
    "    rmse = np.sqrt(mean_squared_error(y_test, y_pred))\n",
    "    rmse_scores.append(rmse)\n",
    "    \n",
    "    r2 = r2_score(y_test, y_pred)\n",
    "    r2_scores.append(r2)\n",
    "    \n",
    "    y_pred_disc = pd.cut(y_pred, bins=bins, labels=labels, include_lowest=True)\n",
    "    y_test_disc = pd.cut(y_test, bins=bins, labels=labels, include_lowest=True)\n",
    "    \n",
    "    mask = (~pd.isna(y_pred_disc)) & (~pd.isna(y_test_disc))\n",
    "    y_pred_disc = y_pred_disc[mask]\n",
    "    y_test_disc = y_test_disc[mask]\n",
    "\n",
    "    acc = accuracy_score(y_test_disc, y_pred_disc)\n",
    "    prec = precision_score(y_test_disc, y_pred_disc, average='macro', zero_division=0)\n",
    "    rec = recall_score(y_test_disc, y_pred_disc, average='macro', zero_division=0)\n",
    "    f1 = f1_score(y_test_disc, y_pred_disc, average='macro', zero_division=0)\n",
    "    \n",
    "    acc_scores.append(acc)\n",
    "    prec_scores.append(prec)\n",
    "    rec_scores.append(rec)\n",
    "    f1_scores.append(f1)\n",
    "\n",
    "\n",
    "\n",
    "print(\"\\nMean Absolute Error (per fold):\", mae_scores)\n",
    "print(\"Mean MAE:\", np.mean(mae_scores))\n",
    "\n",
    "print(\"\\nRoot Mean Squared Error (per fold):\", rmse_scores)\n",
    "print(\"Mean RMSE:\", np.mean(rmse_scores))\n",
    "\n",
    "print(\"\\nR2 - Coefficient of Determination (per fold):\", r2_scores)\n",
    "print(\"Mean R2:\", np.mean(r2_scores))\n",
    "\n",
    "print(\"\\n--- Summary after discretization---\")\n",
    "print(f\"Mean Accuracy: {np.mean(acc_scores):.4f}\")\n",
    "print(f\"Mean Precision: {np.mean(prec_scores):.4f}\")\n",
    "print(f\"Mean Recall: {np.mean(rec_scores):.4f}\")\n",
    "print(f\"Mean F1-score: {np.mean(f1_scores):.4f}\")"
   ],
   "metadata": {
    "collapsed": false,
    "ExecuteTime": {
     "end_time": "2025-05-24T07:53:12.494215Z",
     "start_time": "2025-05-24T07:53:12.280539Z"
    }
   },
   "id": "91b9c7f5c6954eb3"
  },
  {
   "cell_type": "code",
   "outputs": [],
   "source": [
    "# saving resoults to df\n",
    "df_results = pd.DataFrame({\n",
    "    'MAE': mae_scores,\n",
    "    'RMSE': rmse_scores,\n",
    "    'R2': r2_scores\n",
    "})\n",
    "df_results.to_csv(\"3a_regression_no_resample_KNN.csv\", index=False)"
   ],
   "metadata": {
    "collapsed": false,
    "ExecuteTime": {
     "end_time": "2025-05-24T07:53:12.501535Z",
     "start_time": "2025-05-24T07:53:12.495208Z"
    }
   },
   "id": "f4ee5f36af4b8415",
   "execution_count": 47
  },
  {
   "cell_type": "code",
   "outputs": [],
   "source": [
    "# saving results to df (for comparison with classification)\n",
    "df_results = pd.DataFrame({\n",
    "    'acc': acc_scores,\n",
    "    'prec': prec_scores,\n",
    "    'rec': rec_scores,\n",
    "    'f1': f1_scores\n",
    "})\n",
    "df_results.to_csv(\"3a_classification_no_resample_KNN.csv\", index=False)"
   ],
   "metadata": {
    "collapsed": false,
    "ExecuteTime": {
     "end_time": "2025-05-24T07:53:12.512559Z",
     "start_time": "2025-05-24T07:53:12.504540Z"
    }
   },
   "id": "8546192589ff9284",
   "execution_count": 48
  },
  {
   "cell_type": "markdown",
   "source": [
    "# DECISION TREE"
   ],
   "metadata": {
    "collapsed": false
   },
   "id": "7dfa6c2a0a389c"
  },
  {
   "cell_type": "code",
   "execution_count": 49,
   "outputs": [
    {
     "name": "stdout",
     "output_type": "stream",
     "text": [
      "\n",
      "Mean Absolute Error (per fold): [7.671989844791666, 6.700015874479167, 7.0359288979166665, 6.501938765625, 7.579194231250001]\n",
      "Mean MAE: 7.097813522812499\n",
      "\n",
      "Root Mean Squared Error (per fold): [np.float64(23.73738417453535), np.float64(15.770834756542909), np.float64(25.627264368222114), np.float64(16.440500481059434), np.float64(31.222975928481976)]\n",
      "Mean RMSE: 22.559791941768356\n",
      "\n",
      "R2 - Coefficient of Determination (per fold): [0.5322119061966866, 0.6449915605819778, 0.5680213102297483, 0.5958346752736858, -0.008586305674304295]\n",
      "Mean R2: 0.46649462932155883\n",
      "\n",
      "--- Summary after discretization---\n",
      "Mean Accuracy: 0.6512\n",
      "Mean Precision: 0.3927\n",
      "Mean Recall: 0.3904\n",
      "Mean F1-score: 0.3895\n"
     ]
    }
   ],
   "source": [
    "from sklearn.tree import DecisionTreeRegressor\n",
    "\n",
    "pipeline = Pipeline([\n",
    "    ('tree', DecisionTreeRegressor(random_state=42))\n",
    "])\n",
    "\n",
    "kf = KFold(n_splits=5, shuffle=True, random_state=42)\n",
    "\n",
    "mae_scores = []\n",
    "rmse_scores = []\n",
    "r2_scores = []\n",
    "\n",
    "acc_scores = []\n",
    "prec_scores = []\n",
    "rec_scores = []\n",
    "f1_scores = []\n",
    "\n",
    "for train_index, test_index in kf.split(X):\n",
    "    X_train, X_test = X.iloc[train_index], X.iloc[test_index]\n",
    "    y_train, y_test = y.iloc[train_index], y.iloc[test_index]\n",
    "\n",
    "    pipeline.fit(X_train, y_train)\n",
    "    y_pred = pipeline.predict(X_test)\n",
    "\n",
    "    mae = mean_absolute_error(y_test, y_pred)\n",
    "    mae_scores.append(mae)\n",
    "\n",
    "    rmse = np.sqrt(mean_squared_error(y_test, y_pred))\n",
    "    rmse_scores.append(rmse)\n",
    "\n",
    "    r2 = r2_score(y_test, y_pred)\n",
    "    r2_scores.append(r2)\n",
    "    \n",
    "    y_pred_disc = pd.cut(y_pred, bins=bins, labels=labels, include_lowest=True)\n",
    "    y_test_disc = pd.cut(y_test, bins=bins, labels=labels, include_lowest=True)\n",
    "    \n",
    "    mask = (~pd.isna(y_pred_disc)) & (~pd.isna(y_test_disc))\n",
    "    y_pred_disc = y_pred_disc[mask]\n",
    "    y_test_disc = y_test_disc[mask]\n",
    "\n",
    "    acc = accuracy_score(y_test_disc, y_pred_disc)\n",
    "    prec = precision_score(y_test_disc, y_pred_disc, average='macro', zero_division=0)\n",
    "    rec = recall_score(y_test_disc, y_pred_disc, average='macro', zero_division=0)\n",
    "    f1 = f1_score(y_test_disc, y_pred_disc, average='macro', zero_division=0)\n",
    "    \n",
    "    acc_scores.append(acc)\n",
    "    prec_scores.append(prec)\n",
    "    rec_scores.append(rec)\n",
    "    f1_scores.append(f1)\n",
    "\n",
    "\n",
    "print(\"\\nMean Absolute Error (per fold):\", mae_scores)\n",
    "print(\"Mean MAE:\", np.mean(mae_scores))\n",
    "\n",
    "print(\"\\nRoot Mean Squared Error (per fold):\", rmse_scores)\n",
    "print(\"Mean RMSE:\", np.mean(rmse_scores))\n",
    "\n",
    "print(\"\\nR2 - Coefficient of Determination (per fold):\", r2_scores)\n",
    "print(\"Mean R2:\", np.mean(r2_scores))\n",
    "\n",
    "print(\"\\n--- Summary after discretization---\")\n",
    "print(f\"Mean Accuracy: {np.mean(acc_scores):.4f}\")\n",
    "print(f\"Mean Precision: {np.mean(prec_scores):.4f}\")\n",
    "print(f\"Mean Recall: {np.mean(rec_scores):.4f}\")\n",
    "print(f\"Mean F1-score: {np.mean(f1_scores):.4f}\")"
   ],
   "metadata": {
    "collapsed": false,
    "ExecuteTime": {
     "end_time": "2025-05-24T07:53:12.759236Z",
     "start_time": "2025-05-24T07:53:12.514499Z"
    }
   },
   "id": "5ebc55ef4563fb51"
  },
  {
   "cell_type": "code",
   "outputs": [],
   "source": [
    "# saving resoults to df\n",
    "df_results = pd.DataFrame({\n",
    "    'MAE': mae_scores,\n",
    "    'RMSE': rmse_scores,\n",
    "    'R2': r2_scores\n",
    "})\n",
    "df_results.to_csv(\"3a_regression_no_resample_DT.csv\", index=False)"
   ],
   "metadata": {
    "collapsed": false,
    "ExecuteTime": {
     "end_time": "2025-05-24T07:53:12.765350Z",
     "start_time": "2025-05-24T07:53:12.760232Z"
    }
   },
   "id": "81dbb23827fab7ea",
   "execution_count": 50
  },
  {
   "cell_type": "code",
   "outputs": [],
   "source": [
    "# saving results to df (for comparison with classification)\n",
    "df_results = pd.DataFrame({\n",
    "    'acc': acc_scores,\n",
    "    'prec': prec_scores,\n",
    "    'rec': rec_scores,\n",
    "    'f1': f1_scores\n",
    "})\n",
    "df_results.to_csv(\"3a_classification_no_resample_DT.csv\", index=False)"
   ],
   "metadata": {
    "collapsed": false,
    "ExecuteTime": {
     "end_time": "2025-05-24T07:53:12.774202Z",
     "start_time": "2025-05-24T07:53:12.766347Z"
    }
   },
   "id": "d91e7ad68dce523a",
   "execution_count": 51
  },
  {
   "cell_type": "markdown",
   "source": [
    "# MULTILAYER PERCEPTRON (MLP)"
   ],
   "metadata": {
    "collapsed": false
   },
   "id": "28cd6377837ac8ed"
  },
  {
   "cell_type": "code",
   "execution_count": 52,
   "outputs": [
    {
     "name": "stdout",
     "output_type": "stream",
     "text": [
      "\n",
      "Mean Absolute Error (per fold): [6.8593376411122255, 5.46854984869584, 5.6613948223681145, 5.907352611817044, 5.561251766625787]\n",
      "Mean MAE: 5.891577338123802\n",
      "\n",
      "Root Mean Squared Error (per fold): [np.float64(22.809452561336304), np.float64(12.28277856869783), np.float64(25.723111090214392), np.float64(12.562142182717448), np.float64(15.202357049654006)]\n",
      "Mean RMSE: 17.715968290523996\n",
      "\n",
      "R2 - Coefficient of Determination (per fold): [0.5680701973829114, 0.7846610654705007, 0.5647840417961101, 0.7640302179510564, 0.7608962786732084]\n",
      "Mean R2: 0.6884883602547573\n",
      "\n",
      "--- Summary after discretization---\n",
      "Mean Accuracy: 0.6798\n",
      "Mean Precision: 0.4451\n",
      "Mean Recall: 0.4390\n",
      "Mean F1-score: 0.4355\n"
     ]
    }
   ],
   "source": [
    "from sklearn.neural_network import MLPRegressor\n",
    "\n",
    "pipeline = Pipeline([\n",
    "    ('scaler', StandardScaler()),\n",
    "    ('mlp', MLPRegressor(hidden_layer_sizes=(100, 50), max_iter=1000, early_stopping=True, random_state=42))\n",
    "])\n",
    "\n",
    "kf = KFold(n_splits=5, shuffle=True, random_state=42)\n",
    "\n",
    "mae_scores = []\n",
    "rmse_scores = []\n",
    "r2_scores = []\n",
    "\n",
    "acc_scores = []\n",
    "prec_scores = []\n",
    "rec_scores = []\n",
    "f1_scores = []\n",
    "\n",
    "for train_index, test_index in kf.split(X):\n",
    "    X_train, X_test = X.iloc[train_index], X.iloc[test_index]\n",
    "    y_train, y_test = y.iloc[train_index], y.iloc[test_index]\n",
    "\n",
    "    pipeline.fit(X_train, y_train)\n",
    "    y_pred = pipeline.predict(X_test)\n",
    "\n",
    "    mae = mean_absolute_error(y_test, y_pred)\n",
    "    mae_scores.append(mae)\n",
    "\n",
    "    rmse = np.sqrt(mean_squared_error(y_test, y_pred))\n",
    "    rmse_scores.append(rmse)\n",
    "    \n",
    "    r2 = r2_score(y_test, y_pred)\n",
    "    r2_scores.append(r2)\n",
    "    \n",
    "    y_pred_disc = pd.cut(y_pred, bins=bins, labels=labels, include_lowest=True)\n",
    "    y_test_disc = pd.cut(y_test, bins=bins, labels=labels, include_lowest=True)\n",
    "    \n",
    "    mask = (~pd.isna(y_pred_disc)) & (~pd.isna(y_test_disc))\n",
    "    y_pred_disc = y_pred_disc[mask]\n",
    "    y_test_disc = y_test_disc[mask]\n",
    "\n",
    "    acc = accuracy_score(y_test_disc, y_pred_disc)\n",
    "    prec = precision_score(y_test_disc, y_pred_disc, average='macro', zero_division=0)\n",
    "    rec = recall_score(y_test_disc, y_pred_disc, average='macro', zero_division=0)\n",
    "    f1 = f1_score(y_test_disc, y_pred_disc, average='macro', zero_division=0)\n",
    "    \n",
    "    acc_scores.append(acc)\n",
    "    prec_scores.append(prec)\n",
    "    rec_scores.append(rec)\n",
    "    f1_scores.append(f1)\n",
    "\n",
    "\n",
    "print(\"\\nMean Absolute Error (per fold):\", mae_scores)\n",
    "print(\"Mean MAE:\", np.mean(mae_scores))\n",
    "\n",
    "print(\"\\nRoot Mean Squared Error (per fold):\", rmse_scores)\n",
    "print(\"Mean RMSE:\", np.mean(rmse_scores))\n",
    "\n",
    "print(\"\\nR2 - Coefficient of Determination (per fold):\", r2_scores)\n",
    "print(\"Mean R2:\", np.mean(r2_scores))\n",
    "\n",
    "print(\"\\n--- Summary after discretization---\")\n",
    "print(f\"Mean Accuracy: {np.mean(acc_scores):.4f}\")\n",
    "print(f\"Mean Precision: {np.mean(prec_scores):.4f}\")\n",
    "print(f\"Mean Recall: {np.mean(rec_scores):.4f}\")\n",
    "print(f\"Mean F1-score: {np.mean(f1_scores):.4f}\")"
   ],
   "metadata": {
    "collapsed": false,
    "ExecuteTime": {
     "end_time": "2025-05-24T07:53:24.142606Z",
     "start_time": "2025-05-24T07:53:12.776969Z"
    }
   },
   "id": "aada64d58de9e9e7"
  },
  {
   "cell_type": "code",
   "outputs": [],
   "source": [
    "# saving resoults to df\n",
    "df_results = pd.DataFrame({\n",
    "    'MAE': mae_scores,\n",
    "    'RMSE': rmse_scores,\n",
    "    'R2': r2_scores\n",
    "})\n",
    "df_results.to_csv(\"3a_regression_no_resample_MLP.csv\", index=False)"
   ],
   "metadata": {
    "collapsed": false,
    "ExecuteTime": {
     "end_time": "2025-05-24T07:53:24.150251Z",
     "start_time": "2025-05-24T07:53:24.143600Z"
    }
   },
   "id": "6035e2147e6002fb",
   "execution_count": 53
  },
  {
   "cell_type": "code",
   "outputs": [],
   "source": [
    "# saving results to df (for comparison with classification)\n",
    "df_results = pd.DataFrame({\n",
    "    'acc': acc_scores,\n",
    "    'prec': prec_scores,\n",
    "    'rec': rec_scores,\n",
    "    'f1': f1_scores\n",
    "})\n",
    "df_results.to_csv(\"3a_classification_no_resample_MLP.csv\", index=False)"
   ],
   "metadata": {
    "collapsed": false,
    "ExecuteTime": {
     "end_time": "2025-05-24T07:53:24.157211Z",
     "start_time": "2025-05-24T07:53:24.151253Z"
    }
   },
   "id": "b2fb313de8861467",
   "execution_count": 54
  }
 ],
 "metadata": {
  "kernelspec": {
   "display_name": "Python 3",
   "language": "python",
   "name": "python3"
  },
  "language_info": {
   "codemirror_mode": {
    "name": "ipython",
    "version": 2
   },
   "file_extension": ".py",
   "mimetype": "text/x-python",
   "name": "python",
   "nbconvert_exporter": "python",
   "pygments_lexer": "ipython2",
   "version": "2.7.6"
  }
 },
 "nbformat": 4,
 "nbformat_minor": 5
}
