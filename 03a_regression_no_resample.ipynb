{
 "cells": [
  {
   "cell_type": "code",
   "execution_count": 1,
   "id": "initial_id",
   "metadata": {
    "collapsed": true,
    "ExecuteTime": {
     "end_time": "2025-06-01T20:05:01.049766Z",
     "start_time": "2025-06-01T20:04:59.888758Z"
    }
   },
   "outputs": [],
   "source": [
    "import numpy as np\n",
    "import pandas as pd\n",
    "from sklearn.model_selection import cross_val_score\n",
    "from sklearn.pipeline import Pipeline\n",
    "from sklearn.preprocessing import StandardScaler  \n",
    "from sklearn.metrics import mean_absolute_error, mean_squared_error, r2_score,accuracy_score, precision_score, recall_score, f1_score\n",
    "from sklearn.model_selection import KFold"
   ]
  },
  {
   "cell_type": "code",
   "outputs": [],
   "source": [
    "df = pd.read_csv('cleaned_movies.csv')"
   ],
   "metadata": {
    "collapsed": false,
    "ExecuteTime": {
     "end_time": "2025-06-01T20:05:01.071356Z",
     "start_time": "2025-06-01T20:05:01.050763Z"
    }
   },
   "id": "413af58230c1c8b8",
   "execution_count": 2
  },
  {
   "cell_type": "code",
   "outputs": [
    {
     "name": "stdout",
     "output_type": "stream",
     "text": [
      "budget            int64\n",
      "runtime         float64\n",
      "vote_average    float64\n",
      "vote_count        int64\n",
      "revenue           int64\n",
      "release_year      int64\n",
      "genres_score    float64\n",
      "dtype: object\n"
     ]
    }
   ],
   "source": [
    "X = df.drop(columns=['genres', 'original_language', 'popularity_class', 'popularity']).copy()\n",
    "y = df['popularity']\n",
    "\n",
    "\n",
    "print(X.dtypes)"
   ],
   "metadata": {
    "collapsed": false,
    "ExecuteTime": {
     "end_time": "2025-06-01T20:05:01.079115Z",
     "start_time": "2025-06-01T20:05:01.071876Z"
    }
   },
   "id": "248ba3348e0f4fd8",
   "execution_count": 3
  },
  {
   "cell_type": "code",
   "outputs": [],
   "source": [
    "df_all_results = pd.DataFrame()"
   ],
   "metadata": {
    "collapsed": false,
    "ExecuteTime": {
     "end_time": "2025-06-01T20:05:01.084926Z",
     "start_time": "2025-06-01T20:05:01.080107Z"
    }
   },
   "id": "b711f8c3919e1761",
   "execution_count": 4
  },
  {
   "cell_type": "code",
   "outputs": [],
   "source": [
    "# data for discretization of results\n",
    "\n",
    "bins = [0, 10, 20, 30, 40, 50, 60, 70, 80, 90, y.max()]\n",
    "labels = list(range(10))"
   ],
   "metadata": {
    "collapsed": false,
    "ExecuteTime": {
     "end_time": "2025-06-01T20:05:01.092749Z",
     "start_time": "2025-06-01T20:05:01.086973Z"
    }
   },
   "id": "99707e2dfc6df7ca",
   "execution_count": 5
  },
  {
   "cell_type": "markdown",
   "source": [
    "# SVR"
   ],
   "metadata": {
    "collapsed": false
   },
   "id": "538b2d207f98fd47"
  },
  {
   "cell_type": "code",
   "execution_count": 6,
   "outputs": [
    {
     "name": "stdout",
     "output_type": "stream",
     "text": [
      "\n",
      "Mean Absolute Error (per fold): [7.41312994650845, 8.708325767301574, 5.710517754433817, 8.581828416052577, 8.658994436064292, 6.402859886850007, 6.012738580246524, 7.261751357302816, 6.881389692582141, 7.857072922783762]\n",
      "Mean MAE: 7.348860876012596\n",
      "\n",
      "Root Mean Squared Error (per fold): [np.float64(19.5837638042677), np.float64(35.795542299228345), np.float64(12.303923171564739), np.float64(21.97960549075109), np.float64(41.43124672246635), np.float64(24.706199902948754), np.float64(11.284902520840058), np.float64(21.86735100483833), np.float64(24.24518249022419), np.float64(24.775871099062933)]\n",
      "Mean RMSE: 23.797358850619247\n",
      "\n",
      "R2 - Coefficient of Determination (per fold): [0.4931460859659469, 0.22453250515649448, 0.7016031833104159, 0.4563236907935959, 0.17190443768798547, 0.36771562248878786, 0.7409097723366802, 0.4347352443068989, 0.3712693892023966, 0.3843004407511994]\n",
      "Mean R2: 0.43464403720004013\n",
      "\n",
      "--- Summary after discretization---\n",
      "Mean Accuracy: 0.6331\n",
      "Mean Precision: 0.3066\n",
      "Mean Recall: 0.3268\n",
      "Mean F1-score: 0.3093\n"
     ]
    }
   ],
   "source": [
    "from sklearn.svm import SVR\n",
    "\n",
    "pipeline = Pipeline([\n",
    "    ('scaler', StandardScaler()),\n",
    "    ('svr', SVR())\n",
    "])\n",
    "\n",
    "kf = KFold(n_splits=10, shuffle=True, random_state=42)\n",
    "\n",
    "mae_scores = []\n",
    "rmse_scores = []\n",
    "r2_scores = []\n",
    "\n",
    "acc_scores = []\n",
    "prec_scores = []\n",
    "rec_scores = []\n",
    "f1_scores = []\n",
    "\n",
    "for train_index, test_index in kf.split(X):\n",
    "    X_train, X_test = X.iloc[train_index], X.iloc[test_index]\n",
    "    y_train, y_test = y.iloc[train_index], y.iloc[test_index]\n",
    "\n",
    "    pipeline.fit(X_train, y_train)\n",
    "    y_pred = pipeline.predict(X_test)\n",
    "\n",
    "    # MAE\n",
    "    mae = mean_absolute_error(y_test, y_pred)\n",
    "    mae_scores.append(mae)\n",
    "\n",
    "    # RMSE\n",
    "    rmse = np.sqrt(mean_squared_error(y_test, y_pred))\n",
    "    rmse_scores.append(rmse)\n",
    "    \n",
    "    # R2\n",
    "    r2 = r2_score(y_test, y_pred)\n",
    "    r2_scores.append(r2)\n",
    "    \n",
    "    \n",
    "    y_pred_disc = pd.cut(y_pred, bins=bins, labels=labels, include_lowest=True)\n",
    "    y_test_disc = pd.cut(y_test, bins=bins, labels=labels, include_lowest=True)\n",
    "    \n",
    "    mask = (~pd.isna(y_pred_disc)) & (~pd.isna(y_test_disc))\n",
    "    y_pred_disc = y_pred_disc[mask]\n",
    "    y_test_disc = y_test_disc[mask]\n",
    "\n",
    "    acc = accuracy_score(y_test_disc, y_pred_disc)\n",
    "    prec = precision_score(y_test_disc, y_pred_disc, average='macro', zero_division=0)\n",
    "    rec = recall_score(y_test_disc, y_pred_disc, average='macro', zero_division=0)\n",
    "    f1 = f1_score(y_test_disc, y_pred_disc, average='macro', zero_division=0)\n",
    "    \n",
    "    acc_scores.append(acc)\n",
    "    prec_scores.append(prec)\n",
    "    rec_scores.append(rec)\n",
    "    f1_scores.append(f1)\n",
    "\n",
    "\n",
    "print(\"\\nMean Absolute Error (per fold):\", mae_scores)\n",
    "print(\"Mean MAE:\", np.mean(mae_scores))\n",
    "\n",
    "print(\"\\nRoot Mean Squared Error (per fold):\", rmse_scores)\n",
    "print(\"Mean RMSE:\", np.mean(rmse_scores))\n",
    "\n",
    "print(\"\\nR2 - Coefficient of Determination (per fold):\", r2_scores)\n",
    "print(\"Mean R2:\", np.mean(r2_scores))\n",
    "\n",
    "print(\"\\n--- Summary after discretization---\")\n",
    "print(f\"Mean Accuracy: {np.mean(acc_scores):.4f}\")\n",
    "print(f\"Mean Precision: {np.mean(prec_scores):.4f}\")\n",
    "print(f\"Mean Recall: {np.mean(rec_scores):.4f}\")\n",
    "print(f\"Mean F1-score: {np.mean(f1_scores):.4f}\")\n"
   ],
   "metadata": {
    "collapsed": false,
    "ExecuteTime": {
     "end_time": "2025-06-01T20:05:12.610094Z",
     "start_time": "2025-06-01T20:05:01.094739Z"
    }
   },
   "id": "3350dd2a11c2aa82"
  },
  {
   "cell_type": "code",
   "outputs": [],
   "source": [
    "# saving results to df\n",
    "df_results = pd.DataFrame({\n",
    "    'MAE': mae_scores,\n",
    "    'RMSE': rmse_scores,\n",
    "    'R2': r2_scores\n",
    "})\n",
    "df_results.to_csv(\"3a_regression_no_resample_SVR.csv\", index=False)"
   ],
   "metadata": {
    "collapsed": false,
    "ExecuteTime": {
     "end_time": "2025-06-01T20:05:12.617054Z",
     "start_time": "2025-06-01T20:05:12.611091Z"
    }
   },
   "id": "e97d65c5cf11682a",
   "execution_count": 7
  },
  {
   "cell_type": "code",
   "outputs": [],
   "source": [
    "# saving results to df (for comparison with classification)\n",
    "df_results = pd.DataFrame({\n",
    "    'acc': acc_scores,\n",
    "    'prec': prec_scores,\n",
    "    'rec': rec_scores,\n",
    "    'f1': f1_scores\n",
    "})\n",
    "df_results.to_csv(\"3a_classification_no_resample_SVR.csv\", index=False)"
   ],
   "metadata": {
    "collapsed": false,
    "ExecuteTime": {
     "end_time": "2025-06-01T20:05:12.623765Z",
     "start_time": "2025-06-01T20:05:12.618050Z"
    }
   },
   "id": "bf0647cd44f42422",
   "execution_count": 8
  },
  {
   "cell_type": "markdown",
   "source": [
    "# KNN"
   ],
   "metadata": {
    "collapsed": false
   },
   "id": "24c7a083fe67674f"
  },
  {
   "cell_type": "code",
   "execution_count": 9,
   "outputs": [
    {
     "name": "stdout",
     "output_type": "stream",
     "text": [
      "\n",
      "Mean Absolute Error (per fold): [7.480623522083333, 8.0344884925, 5.452123916666666, 6.992389756666667, 8.006981311666667, 6.3714481720833325, 5.8238093666666675, 6.3829650566666665, 6.0944557420833325, 6.86932173625]\n",
      "Mean MAE: 6.750860707333333\n",
      "\n",
      "Root Mean Squared Error (per fold): [np.float64(17.452729080469144), np.float64(25.021066267582626), np.float64(10.10088048205653), np.float64(14.13294886499602), np.float64(34.962820694272736), np.float64(20.765249888354184), np.float64(8.460177649323844), np.float64(14.896544911574527), np.float64(15.57328558185318), np.float64(16.719209866197087)]\n",
      "Mean RMSE: 17.808491328667987\n",
      "\n",
      "R2 - Coefficient of Determination (per fold): [0.5974524629785032, 0.6211063456296779, 0.7988938141852971, 0.7752155844198929, 0.41029151158815325, 0.5533422511127588, 0.8543822307195041, 0.7376804513536654, 0.7405974828523392, 0.7196229412881066]\n",
      "Mean R2: 0.6808585076127898\n",
      "\n",
      "--- Summary after discretization---\n",
      "Mean Accuracy: 0.6173\n",
      "Mean Precision: 0.4291\n",
      "Mean Recall: 0.3988\n",
      "Mean F1-score: 0.4066\n"
     ]
    }
   ],
   "source": [
    "from sklearn.neighbors import KNeighborsRegressor\n",
    "\n",
    "pipeline = Pipeline([\n",
    "    ('scaler', StandardScaler()),\n",
    "    ('knn', KNeighborsRegressor(n_neighbors=5))\n",
    "])\n",
    "\n",
    "kf = KFold(n_splits=10, shuffle=True, random_state=42)\n",
    "\n",
    "mae_scores = []\n",
    "rmse_scores = []\n",
    "r2_scores = []\n",
    "\n",
    "acc_scores = []\n",
    "prec_scores = []\n",
    "rec_scores = []\n",
    "f1_scores = []\n",
    "\n",
    "for train_index, test_index in kf.split(X):\n",
    "    X_train, X_test = X.iloc[train_index], X.iloc[test_index]\n",
    "    y_train, y_test = y.iloc[train_index], y.iloc[test_index]\n",
    "\n",
    "    pipeline.fit(X_train, y_train)\n",
    "    y_pred = pipeline.predict(X_test)\n",
    "\n",
    "    mae = mean_absolute_error(y_test, y_pred)\n",
    "    mae_scores.append(mae)\n",
    "\n",
    "    rmse = np.sqrt(mean_squared_error(y_test, y_pred))\n",
    "    rmse_scores.append(rmse)\n",
    "    \n",
    "    r2 = r2_score(y_test, y_pred)\n",
    "    r2_scores.append(r2)\n",
    "    \n",
    "    y_pred_disc = pd.cut(y_pred, bins=bins, labels=labels, include_lowest=True)\n",
    "    y_test_disc = pd.cut(y_test, bins=bins, labels=labels, include_lowest=True)\n",
    "    \n",
    "    mask = (~pd.isna(y_pred_disc)) & (~pd.isna(y_test_disc))\n",
    "    y_pred_disc = y_pred_disc[mask]\n",
    "    y_test_disc = y_test_disc[mask]\n",
    "\n",
    "    acc = accuracy_score(y_test_disc, y_pred_disc)\n",
    "    prec = precision_score(y_test_disc, y_pred_disc, average='macro', zero_division=0)\n",
    "    rec = recall_score(y_test_disc, y_pred_disc, average='macro', zero_division=0)\n",
    "    f1 = f1_score(y_test_disc, y_pred_disc, average='macro', zero_division=0)\n",
    "    \n",
    "    acc_scores.append(acc)\n",
    "    prec_scores.append(prec)\n",
    "    rec_scores.append(rec)\n",
    "    f1_scores.append(f1)\n",
    "\n",
    "\n",
    "\n",
    "print(\"\\nMean Absolute Error (per fold):\", mae_scores)\n",
    "print(\"Mean MAE:\", np.mean(mae_scores))\n",
    "\n",
    "print(\"\\nRoot Mean Squared Error (per fold):\", rmse_scores)\n",
    "print(\"Mean RMSE:\", np.mean(rmse_scores))\n",
    "\n",
    "print(\"\\nR2 - Coefficient of Determination (per fold):\", r2_scores)\n",
    "print(\"Mean R2:\", np.mean(r2_scores))\n",
    "\n",
    "print(\"\\n--- Summary after discretization---\")\n",
    "print(f\"Mean Accuracy: {np.mean(acc_scores):.4f}\")\n",
    "print(f\"Mean Precision: {np.mean(prec_scores):.4f}\")\n",
    "print(f\"Mean Recall: {np.mean(rec_scores):.4f}\")\n",
    "print(f\"Mean F1-score: {np.mean(f1_scores):.4f}\")"
   ],
   "metadata": {
    "collapsed": false,
    "ExecuteTime": {
     "end_time": "2025-06-01T20:05:12.992615Z",
     "start_time": "2025-06-01T20:05:12.624761Z"
    }
   },
   "id": "91b9c7f5c6954eb3"
  },
  {
   "cell_type": "code",
   "outputs": [],
   "source": [
    "# saving resoults to df\n",
    "df_results = pd.DataFrame({\n",
    "    'MAE': mae_scores,\n",
    "    'RMSE': rmse_scores,\n",
    "    'R2': r2_scores\n",
    "})\n",
    "df_results.to_csv(\"3a_regression_no_resample_KNN.csv\", index=False)"
   ],
   "metadata": {
    "collapsed": false,
    "ExecuteTime": {
     "end_time": "2025-06-01T20:05:13.000456Z",
     "start_time": "2025-06-01T20:05:12.993568Z"
    }
   },
   "id": "f4ee5f36af4b8415",
   "execution_count": 10
  },
  {
   "cell_type": "code",
   "outputs": [],
   "source": [
    "# saving results to df (for comparison with classification)\n",
    "df_results = pd.DataFrame({\n",
    "    'acc': acc_scores,\n",
    "    'prec': prec_scores,\n",
    "    'rec': rec_scores,\n",
    "    'f1': f1_scores\n",
    "})\n",
    "df_results.to_csv(\"3a_classification_no_resample_KNN.csv\", index=False)"
   ],
   "metadata": {
    "collapsed": false,
    "ExecuteTime": {
     "end_time": "2025-06-01T20:05:13.007853Z",
     "start_time": "2025-06-01T20:05:13.001451Z"
    }
   },
   "id": "8546192589ff9284",
   "execution_count": 11
  },
  {
   "cell_type": "markdown",
   "source": [
    "# DECISION TREE"
   ],
   "metadata": {
    "collapsed": false
   },
   "id": "7dfa6c2a0a389c"
  },
  {
   "cell_type": "code",
   "execution_count": 12,
   "outputs": [
    {
     "name": "stdout",
     "output_type": "stream",
     "text": [
      "\n",
      "Mean Absolute Error (per fold): [8.771810583333336, 7.416432070833334, 6.051692344791666, 7.3774735229166675, 8.054223479166666, 5.993016248958332, 5.565093070833333, 6.6179541166666676, 6.261151345833334, 7.2668514520833325]\n",
      "Mean MAE: 6.937569823541668\n",
      "\n",
      "Root Mean Squared Error (per fold): [np.float64(37.88254440628121), np.float64(19.420977376041748), np.float64(13.001014038134183), np.float64(19.00353787316977), np.float64(35.141453233496065), np.float64(17.338832813551523), np.float64(12.500377740186332), np.float64(18.327227619347642), np.float64(21.275558363587827), np.float64(34.25752203988901)]\n",
      "Mean RMSE: 22.81490455036853\n",
      "\n",
      "R2 - Coefficient of Determination (per fold): [-0.8965694970010998, 0.7717305090685407, 0.6668334290669644, 0.5935851724264991, 0.40425022385602305, 0.6885844695198923, 0.6820918349443226, 0.6029427748131253, 0.5158548072828625, -0.1771257729237321]\n",
      "Mean R2: 0.3852177951053398\n",
      "\n",
      "--- Summary after discretization---\n",
      "Mean Accuracy: 0.6567\n",
      "Mean Precision: 0.4046\n",
      "Mean Recall: 0.4026\n",
      "Mean F1-score: 0.3984\n"
     ]
    }
   ],
   "source": [
    "from sklearn.tree import DecisionTreeRegressor\n",
    "\n",
    "pipeline = Pipeline([\n",
    "    ('tree', DecisionTreeRegressor(random_state=42))\n",
    "])\n",
    "\n",
    "kf = KFold(n_splits=10, shuffle=True, random_state=42)\n",
    "\n",
    "mae_scores = []\n",
    "rmse_scores = []\n",
    "r2_scores = []\n",
    "\n",
    "acc_scores = []\n",
    "prec_scores = []\n",
    "rec_scores = []\n",
    "f1_scores = []\n",
    "\n",
    "for train_index, test_index in kf.split(X):\n",
    "    X_train, X_test = X.iloc[train_index], X.iloc[test_index]\n",
    "    y_train, y_test = y.iloc[train_index], y.iloc[test_index]\n",
    "\n",
    "    pipeline.fit(X_train, y_train)\n",
    "    y_pred = pipeline.predict(X_test)\n",
    "\n",
    "    mae = mean_absolute_error(y_test, y_pred)\n",
    "    mae_scores.append(mae)\n",
    "\n",
    "    rmse = np.sqrt(mean_squared_error(y_test, y_pred))\n",
    "    rmse_scores.append(rmse)\n",
    "\n",
    "    r2 = r2_score(y_test, y_pred)\n",
    "    r2_scores.append(r2)\n",
    "    \n",
    "    y_pred_disc = pd.cut(y_pred, bins=bins, labels=labels, include_lowest=True)\n",
    "    y_test_disc = pd.cut(y_test, bins=bins, labels=labels, include_lowest=True)\n",
    "    \n",
    "    mask = (~pd.isna(y_pred_disc)) & (~pd.isna(y_test_disc))\n",
    "    y_pred_disc = y_pred_disc[mask]\n",
    "    y_test_disc = y_test_disc[mask]\n",
    "\n",
    "    acc = accuracy_score(y_test_disc, y_pred_disc)\n",
    "    prec = precision_score(y_test_disc, y_pred_disc, average='macro', zero_division=0)\n",
    "    rec = recall_score(y_test_disc, y_pred_disc, average='macro', zero_division=0)\n",
    "    f1 = f1_score(y_test_disc, y_pred_disc, average='macro', zero_division=0)\n",
    "    \n",
    "    acc_scores.append(acc)\n",
    "    prec_scores.append(prec)\n",
    "    rec_scores.append(rec)\n",
    "    f1_scores.append(f1)\n",
    "\n",
    "\n",
    "print(\"\\nMean Absolute Error (per fold):\", mae_scores)\n",
    "print(\"Mean MAE:\", np.mean(mae_scores))\n",
    "\n",
    "print(\"\\nRoot Mean Squared Error (per fold):\", rmse_scores)\n",
    "print(\"Mean RMSE:\", np.mean(rmse_scores))\n",
    "\n",
    "print(\"\\nR2 - Coefficient of Determination (per fold):\", r2_scores)\n",
    "print(\"Mean R2:\", np.mean(r2_scores))\n",
    "\n",
    "print(\"\\n--- Summary after discretization---\")\n",
    "print(f\"Mean Accuracy: {np.mean(acc_scores):.4f}\")\n",
    "print(f\"Mean Precision: {np.mean(prec_scores):.4f}\")\n",
    "print(f\"Mean Recall: {np.mean(rec_scores):.4f}\")\n",
    "print(f\"Mean F1-score: {np.mean(f1_scores):.4f}\")"
   ],
   "metadata": {
    "collapsed": false,
    "ExecuteTime": {
     "end_time": "2025-06-01T20:05:13.557525Z",
     "start_time": "2025-06-01T20:05:13.008846Z"
    }
   },
   "id": "5ebc55ef4563fb51"
  },
  {
   "cell_type": "code",
   "outputs": [],
   "source": [
    "# saving resoults to df\n",
    "df_results = pd.DataFrame({\n",
    "    'MAE': mae_scores,\n",
    "    'RMSE': rmse_scores,\n",
    "    'R2': r2_scores\n",
    "})\n",
    "df_results.to_csv(\"3a_regression_no_resample_DT.csv\", index=False)"
   ],
   "metadata": {
    "collapsed": false,
    "ExecuteTime": {
     "end_time": "2025-06-01T20:05:13.563830Z",
     "start_time": "2025-06-01T20:05:13.558519Z"
    }
   },
   "id": "81dbb23827fab7ea",
   "execution_count": 13
  },
  {
   "cell_type": "code",
   "outputs": [],
   "source": [
    "# saving results to df (for comparison with classification)\n",
    "df_results = pd.DataFrame({\n",
    "    'acc': acc_scores,\n",
    "    'prec': prec_scores,\n",
    "    'rec': rec_scores,\n",
    "    'f1': f1_scores\n",
    "})\n",
    "df_results.to_csv(\"3a_classification_no_resample_DT.csv\", index=False)"
   ],
   "metadata": {
    "collapsed": false,
    "ExecuteTime": {
     "end_time": "2025-06-01T20:05:13.573081Z",
     "start_time": "2025-06-01T20:05:13.566821Z"
    }
   },
   "id": "d91e7ad68dce523a",
   "execution_count": 14
  },
  {
   "cell_type": "markdown",
   "source": [
    "# MULTILAYER PERCEPTRON (MLP)"
   ],
   "metadata": {
    "collapsed": false
   },
   "id": "28cd6377837ac8ed"
  },
  {
   "cell_type": "code",
   "execution_count": 15,
   "outputs": [
    {
     "name": "stdout",
     "output_type": "stream",
     "text": [
      "\n",
      "Mean Absolute Error (per fold): [5.966967173844387, 6.788381353645287, 4.9385935763260385, 6.1964510001127815, 6.2031959062906195, 5.385788728477991, 4.605209214957548, 5.87495689303194, 5.394777371763027, 5.905588979441993]\n",
      "Mean MAE: 5.725991019789161\n",
      "\n",
      "Root Mean Squared Error (per fold): [np.float64(15.062406939451163), np.float64(25.20373693944538), np.float64(9.907257980234355), np.float64(12.697130223359062), np.float64(31.871283948891563), np.float64(17.6909137172008), np.float64(7.723167721454785), np.float64(14.712262652059277), np.float64(15.917267985089358), np.float64(14.424291785825469)]\n",
      "Mean RMSE: 16.52097198930112\n",
      "\n",
      "R2 - Coefficient of Determination (per fold): [0.7001671362031765, 0.6155537918262997, 0.8065298767150998, 0.8185688846463138, 0.5099689802466658, 0.675808907508582, 0.8786481667988071, 0.744130515024903, 0.7290115712131308, 0.7913107995818068]\n",
      "Mean R2: 0.7269698629764786\n",
      "\n",
      "--- Summary after discretization---\n",
      "Mean Accuracy: 0.6885\n",
      "Mean Precision: 0.4418\n",
      "Mean Recall: 0.4483\n",
      "Mean F1-score: 0.4380\n"
     ]
    }
   ],
   "source": [
    "from sklearn.neural_network import MLPRegressor\n",
    "\n",
    "pipeline = Pipeline([\n",
    "    ('scaler', StandardScaler()),\n",
    "    ('mlp', MLPRegressor(hidden_layer_sizes=(100, 50), max_iter=1000, early_stopping=True, random_state=42))\n",
    "])\n",
    "\n",
    "kf = KFold(n_splits=10, shuffle=True, random_state=42)\n",
    "\n",
    "mae_scores = []\n",
    "rmse_scores = []\n",
    "r2_scores = []\n",
    "\n",
    "acc_scores = []\n",
    "prec_scores = []\n",
    "rec_scores = []\n",
    "f1_scores = []\n",
    "\n",
    "for train_index, test_index in kf.split(X):\n",
    "    X_train, X_test = X.iloc[train_index], X.iloc[test_index]\n",
    "    y_train, y_test = y.iloc[train_index], y.iloc[test_index]\n",
    "\n",
    "    pipeline.fit(X_train, y_train)\n",
    "    y_pred = pipeline.predict(X_test)\n",
    "\n",
    "    mae = mean_absolute_error(y_test, y_pred)\n",
    "    mae_scores.append(mae)\n",
    "\n",
    "    rmse = np.sqrt(mean_squared_error(y_test, y_pred))\n",
    "    rmse_scores.append(rmse)\n",
    "    \n",
    "    r2 = r2_score(y_test, y_pred)\n",
    "    r2_scores.append(r2)\n",
    "    \n",
    "    y_pred_disc = pd.cut(y_pred, bins=bins, labels=labels, include_lowest=True)\n",
    "    y_test_disc = pd.cut(y_test, bins=bins, labels=labels, include_lowest=True)\n",
    "    \n",
    "    mask = (~pd.isna(y_pred_disc)) & (~pd.isna(y_test_disc))\n",
    "    y_pred_disc = y_pred_disc[mask]\n",
    "    y_test_disc = y_test_disc[mask]\n",
    "\n",
    "    acc = accuracy_score(y_test_disc, y_pred_disc)\n",
    "    prec = precision_score(y_test_disc, y_pred_disc, average='macro', zero_division=0)\n",
    "    rec = recall_score(y_test_disc, y_pred_disc, average='macro', zero_division=0)\n",
    "    f1 = f1_score(y_test_disc, y_pred_disc, average='macro', zero_division=0)\n",
    "    \n",
    "    acc_scores.append(acc)\n",
    "    prec_scores.append(prec)\n",
    "    rec_scores.append(rec)\n",
    "    f1_scores.append(f1)\n",
    "\n",
    "\n",
    "print(\"\\nMean Absolute Error (per fold):\", mae_scores)\n",
    "print(\"Mean MAE:\", np.mean(mae_scores))\n",
    "\n",
    "print(\"\\nRoot Mean Squared Error (per fold):\", rmse_scores)\n",
    "print(\"Mean RMSE:\", np.mean(rmse_scores))\n",
    "\n",
    "print(\"\\nR2 - Coefficient of Determination (per fold):\", r2_scores)\n",
    "print(\"Mean R2:\", np.mean(r2_scores))\n",
    "\n",
    "print(\"\\n--- Summary after discretization---\")\n",
    "print(f\"Mean Accuracy: {np.mean(acc_scores):.4f}\")\n",
    "print(f\"Mean Precision: {np.mean(prec_scores):.4f}\")\n",
    "print(f\"Mean Recall: {np.mean(rec_scores):.4f}\")\n",
    "print(f\"Mean F1-score: {np.mean(f1_scores):.4f}\")"
   ],
   "metadata": {
    "collapsed": false,
    "ExecuteTime": {
     "end_time": "2025-06-01T20:05:33.742330Z",
     "start_time": "2025-06-01T20:05:13.574046Z"
    }
   },
   "id": "aada64d58de9e9e7"
  },
  {
   "cell_type": "code",
   "outputs": [],
   "source": [
    "# saving resoults to df\n",
    "df_results = pd.DataFrame({\n",
    "    'MAE': mae_scores,\n",
    "    'RMSE': rmse_scores,\n",
    "    'R2': r2_scores\n",
    "})\n",
    "df_results.to_csv(\"3a_regression_no_resample_MLP.csv\", index=False)"
   ],
   "metadata": {
    "collapsed": false,
    "ExecuteTime": {
     "end_time": "2025-06-01T20:05:33.748879Z",
     "start_time": "2025-06-01T20:05:33.743326Z"
    }
   },
   "id": "6035e2147e6002fb",
   "execution_count": 16
  },
  {
   "cell_type": "code",
   "outputs": [],
   "source": [
    "# saving results to df (for comparison with classification)\n",
    "df_results = pd.DataFrame({\n",
    "    'acc': acc_scores,\n",
    "    'prec': prec_scores,\n",
    "    'rec': rec_scores,\n",
    "    'f1': f1_scores\n",
    "})\n",
    "df_results.to_csv(\"3a_classification_no_resample_MLP.csv\", index=False)"
   ],
   "metadata": {
    "collapsed": false,
    "ExecuteTime": {
     "end_time": "2025-06-01T20:05:33.755461Z",
     "start_time": "2025-06-01T20:05:33.749873Z"
    }
   },
   "id": "b2fb313de8861467",
   "execution_count": 17
  }
 ],
 "metadata": {
  "kernelspec": {
   "display_name": "Python 3",
   "language": "python",
   "name": "python3"
  },
  "language_info": {
   "codemirror_mode": {
    "name": "ipython",
    "version": 2
   },
   "file_extension": ".py",
   "mimetype": "text/x-python",
   "name": "python",
   "nbconvert_exporter": "python",
   "pygments_lexer": "ipython2",
   "version": "2.7.6"
  }
 },
 "nbformat": 4,
 "nbformat_minor": 5
}
