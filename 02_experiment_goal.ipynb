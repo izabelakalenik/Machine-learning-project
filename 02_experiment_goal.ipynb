{
 "cells": [
  {
   "cell_type": "code",
   "execution_count": 1,
   "id": "9e50c9cf",
   "metadata": {},
   "outputs": [],
   "source": [
    "import pandas as pd\n",
    "from sklearn.preprocessing import OneHotEncoder\n",
    "from sklearn.compose import ColumnTransformer\n",
    "from sklearn.pipeline import Pipeline\n",
    "from sklearn.impute import SimpleImputer\n",
    "from sklearn.model_selection import train_test_split\n",
    "\n",
    "df = pd.read_pickle(\"df.pkl\")"
   ]
  },
  {
   "cell_type": "code",
   "execution_count": 2,
   "id": "6611beb9",
   "metadata": {},
   "outputs": [],
   "source": [
    "# Classification\n",
    "# Create popularity categories (e.g. low/medium/high) based on popularity\n",
    "df['popularity_class'] = pd.qcut(df['popularity'], q=3, labels=['low', 'medium', 'high'])\n",
    "X = df.drop(columns=['popularity', 'popularity_class'])\n",
    "y_class = df['popularity_class']"
   ]
  },
  {
   "cell_type": "code",
   "execution_count": 3,
   "id": "1a420b9a",
   "metadata": {},
   "outputs": [],
   "source": [
    "# Regression\n",
    "# The goal is to predict the continuous value of popularity\n",
    "y_reg = df['popularity']"
   ]
  },
  {
   "cell_type": "code",
   "execution_count": 4,
   "id": "9be154e5",
   "metadata": {},
   "outputs": [],
   "source": [
    "# Create test and train set\n",
    "X_train_class, X_test_class, y_train_class, y_test_class = train_test_split(X, y_class, test_size=0.2, random_state=42, stratify=y_class)\n",
    "X_train_reg, X_test_reg, y_train_reg, y_test_reg = train_test_split(X, y_reg, test_size=0.2, random_state=42)"
   ]
  },
  {
   "cell_type": "code",
   "execution_count": 5,
   "id": "baded923",
   "metadata": {},
   "outputs": [],
   "source": [
    "numeric_features = ['budget', 'runtime', 'vote_average', 'vote_count', 'revenue']\n",
    "categorical_features = ['genres', 'original_language']\n",
    "\n",
    "# Preprocessing definition\n",
    "preprocessor = ColumnTransformer(\n",
    "    transformers=[\n",
    "        ('num', SimpleImputer(strategy='median'), numeric_features),\n",
    "        ('cat', OneHotEncoder(handle_unknown='ignore'), categorical_features)\n",
    "    ])"
   ]
  },
  {
   "cell_type": "code",
   "execution_count": 6,
   "id": "d5b6e410",
   "metadata": {},
   "outputs": [],
   "source": [
    "# Models\n",
    "from sklearn.ensemble import RandomForestClassifier, RandomForestRegressor\n",
    "from sklearn.tree import DecisionTreeClassifier, DecisionTreeRegressor\n",
    "from sklearn.neighbors import KNeighborsClassifier, KNeighborsRegressor\n",
    "from sklearn.svm import SVC, SVR\n",
    "from sklearn.neural_network import MLPClassifier, MLPRegressor\n",
    "\n",
    "classifiers = {\n",
    "    'RandomForest': RandomForestClassifier(),\n",
    "    'DecisionTree': DecisionTreeClassifier(),\n",
    "    'KNN': KNeighborsClassifier(),\n",
    "    'SVM': SVC(),\n",
    "    'MLP': MLPClassifier(max_iter=300)\n",
    "}\n",
    "\n",
    "regressors = {\n",
    "    'RandomForest': RandomForestRegressor(),\n",
    "    'DecisionTree': DecisionTreeRegressor(),\n",
    "    'KNN': KNeighborsRegressor(),\n",
    "    'SVR': SVR(),\n",
    "    'MLP': MLPRegressor(max_iter=300)\n",
    "}\n"
   ]
  },
  {
   "cell_type": "code",
   "execution_count": 7,
   "id": "c5638519",
   "metadata": {},
   "outputs": [],
   "source": [
    "# Resampling (for classification)\n",
    "from imblearn.over_sampling import SMOTE\n",
    "from imblearn.pipeline import Pipeline as ImbPipeline\n",
    "\n",
    "smote = SMOTE(random_state=42)\n"
   ]
  },
  {
   "cell_type": "code",
   "execution_count": 8,
   "id": "5afb4d7d",
   "metadata": {},
   "outputs": [
    {
     "name": "stdout",
     "output_type": "stream",
     "text": [
      "RandomForest Classification Report:\n",
      "               precision    recall  f1-score   support\n",
      "\n",
      "        high       0.90      0.94      0.92       318\n",
      "         low       0.90      0.90      0.90       318\n",
      "      medium       0.84      0.81      0.82       319\n",
      "\n",
      "    accuracy                           0.88       955\n",
      "   macro avg       0.88      0.88      0.88       955\n",
      "weighted avg       0.88      0.88      0.88       955\n",
      "\n",
      "DecisionTree Classification Report:\n",
      "               precision    recall  f1-score   support\n",
      "\n",
      "        high       0.91      0.89      0.90       318\n",
      "         low       0.86      0.87      0.86       318\n",
      "      medium       0.78      0.79      0.78       319\n",
      "\n",
      "    accuracy                           0.85       955\n",
      "   macro avg       0.85      0.85      0.85       955\n",
      "weighted avg       0.85      0.85      0.85       955\n",
      "\n",
      "KNN Classification Report:\n",
      "               precision    recall  f1-score   support\n",
      "\n",
      "        high       0.69      0.74      0.71       318\n",
      "         low       0.72      0.77      0.74       318\n",
      "      medium       0.54      0.46      0.50       319\n",
      "\n",
      "    accuracy                           0.66       955\n",
      "   macro avg       0.65      0.66      0.65       955\n",
      "weighted avg       0.65      0.66      0.65       955\n",
      "\n",
      "SVM Classification Report:\n",
      "               precision    recall  f1-score   support\n",
      "\n",
      "        high       0.78      0.68      0.73       318\n",
      "         low       0.62      0.84      0.71       318\n",
      "      medium       0.51      0.41      0.45       319\n",
      "\n",
      "    accuracy                           0.64       955\n",
      "   macro avg       0.64      0.64      0.63       955\n",
      "weighted avg       0.64      0.64      0.63       955\n",
      "\n",
      "MLP Classification Report:\n",
      "               precision    recall  f1-score   support\n",
      "\n",
      "        high       0.50      0.78      0.61       318\n",
      "         low       0.96      0.42      0.58       318\n",
      "      medium       0.38      0.39      0.38       319\n",
      "\n",
      "    accuracy                           0.53       955\n",
      "   macro avg       0.62      0.53      0.52       955\n",
      "weighted avg       0.61      0.53      0.52       955\n",
      "\n"
     ]
    }
   ],
   "source": [
    "# Train classificator with resampling\n",
    "from sklearn.metrics import classification_report, mean_squared_error\n",
    "\n",
    "for name, model in classifiers.items():\n",
    "    clf_pipeline = ImbPipeline(steps=[('preprocess', preprocessor),\n",
    "                                      ('resample', smote),\n",
    "                                      ('model', model)])\n",
    "    clf_pipeline.fit(X_train_class, y_train_class)\n",
    "    y_pred = clf_pipeline.predict(X_test_class)\n",
    "    print(f\"{name} Classification Report:\\n\", classification_report(y_test_class, y_pred))\n"
   ]
  },
  {
   "cell_type": "code",
   "execution_count": 9,
   "id": "d107707e",
   "metadata": {},
   "outputs": [
    {
     "name": "stdout",
     "output_type": "stream",
     "text": [
      "Index(['budget', 'genres', 'original_title', 'runtime', 'original_language',\n",
      "       'vote_average', 'vote_count', 'revenue', 'release_year', 'popularity'],\n",
      "      dtype='object')\n",
      "(3818, 10)\n",
      "budget               0\n",
      "genres               0\n",
      "original_title       0\n",
      "runtime              0\n",
      "original_language    0\n",
      "vote_average         0\n",
      "vote_count           0\n",
      "revenue              0\n",
      "release_year         0\n",
      "popularity           0\n",
      "dtype: int64\n"
     ]
    },
    {
     "name": "stderr",
     "output_type": "stream",
     "text": [
      "dist_matrix: 100%|##########| 608/608 [00:47<00:00, 12.78it/s]\n",
      "synth_matrix: 100%|##########| 608/608 [00:01<00:00, 368.94it/s]\n",
      "r_index: 100%|##########| 84/84 [00:00<00:00, 715.39it/s]\n",
      "c:\\Users\\izabela\\AppData\\Local\\Programs\\Python\\Python311\\Lib\\site-packages\\smogn\\over_sampling.py:439: FutureWarning: Setting an item of incompatible dtype is deprecated and will raise in a future error of pandas. Value '0       Thriller Drama History\n",
      "1       Thriller Drama History\n",
      "2       Thriller Drama History\n",
      "3       Thriller Drama History\n",
      "4       Thriller Drama History\n",
      "                 ...          \n",
      "1295    Thriller Drama History\n",
      "1296    Thriller Drama History\n",
      "1297    Thriller Drama History\n",
      "1298    Thriller Drama History\n",
      "1299    Thriller Drama History\n",
      "Name: 1, Length: 1300, dtype: object' has dtype incompatible with float64, please explicitly cast to a compatible dtype first.\n",
      "  data_new.iloc[:, j] = data_new.iloc[:, j].replace(x, cat_list[x])\n",
      "c:\\Users\\izabela\\AppData\\Local\\Programs\\Python\\Python311\\Lib\\site-packages\\smogn\\over_sampling.py:439: FutureWarning: Setting an item of incompatible dtype is deprecated and will raise in a future error of pandas. Value '0       Zero Dark Thirty\n",
      "1       Zero Dark Thirty\n",
      "2       Zero Dark Thirty\n",
      "3       Zero Dark Thirty\n",
      "4       Zero Dark Thirty\n",
      "              ...       \n",
      "1295    Zero Dark Thirty\n",
      "1296    Zero Dark Thirty\n",
      "1297    Zero Dark Thirty\n",
      "1298    Zero Dark Thirty\n",
      "1299    Zero Dark Thirty\n",
      "Name: 2, Length: 1300, dtype: object' has dtype incompatible with float64, please explicitly cast to a compatible dtype first.\n",
      "  data_new.iloc[:, j] = data_new.iloc[:, j].replace(x, cat_list[x])\n",
      "c:\\Users\\izabela\\AppData\\Local\\Programs\\Python\\Python311\\Lib\\site-packages\\smogn\\over_sampling.py:439: FutureWarning: Setting an item of incompatible dtype is deprecated and will raise in a future error of pandas. Value '0       en\n",
      "1       en\n",
      "2       en\n",
      "3       en\n",
      "4       en\n",
      "        ..\n",
      "1295    en\n",
      "1296    en\n",
      "1297    en\n",
      "1298    en\n",
      "1299    en\n",
      "Name: 4, Length: 1300, dtype: object' has dtype incompatible with float64, please explicitly cast to a compatible dtype first.\n",
      "  data_new.iloc[:, j] = data_new.iloc[:, j].replace(x, cat_list[x])\n"
     ]
    }
   ],
   "source": [
    "# Regression with SMOTER\n",
    "import smogn\n",
    "\n",
    "# Data preparation for SMOTER\n",
    "train_reg = pd.concat([X_train_reg, y_train_reg], axis=1)\n",
    "print(train_reg.columns)\n",
    "print(train_reg.shape)\n",
    "print(train_reg.isnull().sum())\n",
    "train_reg = train_reg.reset_index(drop=True)\n",
    "train_reg['popularity'] = train_reg['popularity'].astype(float)\n",
    "train_smogn = smogn.smoter(data=train_reg, y='popularity')\n",
    "\n",
    "# Separate features from target\n",
    "X_train_smogn = train_smogn.drop(columns=['popularity'])\n",
    "y_train_smogn = train_smogn['popularity']\n"
   ]
  },
  {
   "cell_type": "code",
   "execution_count": 10,
   "id": "a75f574b",
   "metadata": {},
   "outputs": [],
   "source": [
    "# Separate features from target\n",
    "X_train_smogn = train_smogn.drop(columns=['popularity'])\n",
    "y_train_smogn = train_smogn['popularity']\n"
   ]
  },
  {
   "cell_type": "code",
   "execution_count": 11,
   "id": "db164d5d",
   "metadata": {},
   "outputs": [
    {
     "name": "stdout",
     "output_type": "stream",
     "text": [
      "RandomForest MSE: 574.4190166936638\n",
      "DecisionTree MSE: 748.1148075138908\n",
      "KNN MSE: 1076.0844581299527\n",
      "SVR MSE: 766.3269304639949\n",
      "MLP MSE: 29846899.298398346\n"
     ]
    }
   ],
   "source": [
    "# Train regressor\n",
    "for name, model in regressors.items():\n",
    "    reg_pipeline = Pipeline(steps=[('preprocess', preprocessor),\n",
    "                                   ('model', model)])\n",
    "    reg_pipeline.fit(X_train_smogn, y_train_smogn)\n",
    "    y_pred_reg = reg_pipeline.predict(X_test_reg)\n",
    "    mse = mean_squared_error(y_test_reg, y_pred_reg)\n",
    "    print(f\"{name} MSE:\", mse)\n"
   ]
  }
 ],
 "metadata": {
  "kernelspec": {
   "display_name": "Python 3",
   "language": "python",
   "name": "python3"
  },
  "language_info": {
   "codemirror_mode": {
    "name": "ipython",
    "version": 3
   },
   "file_extension": ".py",
   "mimetype": "text/x-python",
   "name": "python",
   "nbconvert_exporter": "python",
   "pygments_lexer": "ipython3",
   "version": "3.11.2"
  }
 },
 "nbformat": 4,
 "nbformat_minor": 5
}
