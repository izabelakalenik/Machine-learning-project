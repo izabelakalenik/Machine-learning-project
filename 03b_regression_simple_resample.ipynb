{
 "cells": [
  {
   "cell_type": "code",
   "execution_count": 10,
   "id": "initial_id",
   "metadata": {
    "collapsed": true,
    "ExecuteTime": {
     "end_time": "2025-05-03T14:12:56.143424Z",
     "start_time": "2025-05-03T14:12:56.139362Z"
    }
   },
   "outputs": [],
   "source": [
    "import pandas as pd\n",
    "from sklearn.model_selection import cross_val_score\n",
    "from sklearn.pipeline import Pipeline\n",
    "from sklearn.preprocessing import StandardScaler\n"
   ]
  },
  {
   "cell_type": "code",
   "outputs": [],
   "source": [
    "df = pd.read_csv('cleaned_movies.csv')"
   ],
   "metadata": {
    "collapsed": false,
    "ExecuteTime": {
     "end_time": "2025-05-03T14:12:56.173596Z",
     "start_time": "2025-05-03T14:12:56.158391Z"
    }
   },
   "id": "77aeb9edfdc9dee",
   "execution_count": 11
  },
  {
   "cell_type": "markdown",
   "source": [
    "Simple Resampling - Random Oversampling"
   ],
   "metadata": {
    "collapsed": false
   },
   "id": "dbfa062fa8197135"
  },
  {
   "cell_type": "code",
   "outputs": [],
   "source": [
    "from imblearn.over_sampling import RandomOverSampler\n",
    "\n",
    "X = df.drop(columns=['genres', 'original_language', 'popularity_class']).copy()\n",
    "y = df['popularity_class']\n",
    "\n",
    "# should we add differt binding for oversampling?\n",
    "# in this type of resampling we need numeric feature I added the mean value, but maybe for different algorithm juz adding nr index instead of fore example genres will be better?\n",
    "\n",
    "ros = RandomOverSampler(random_state=42)\n",
    "X_resampled, y_resampled = ros.fit_resample(X, y)\n"
   ],
   "metadata": {
    "collapsed": false,
    "ExecuteTime": {
     "end_time": "2025-05-03T14:12:56.199836Z",
     "start_time": "2025-05-03T14:12:56.186976Z"
    }
   },
   "id": "224a5490eac08cb4",
   "execution_count": 13
  },
  {
   "cell_type": "code",
   "outputs": [],
   "source": [
    "df_resampled = pd.concat([X_resampled.reset_index(drop=True), \n",
    "                          pd.Series(y_resampled, name='popularity_class')], axis=1)\n"
   ],
   "metadata": {
    "collapsed": false,
    "ExecuteTime": {
     "end_time": "2025-05-03T14:12:56.209402Z",
     "start_time": "2025-05-03T14:12:56.202292Z"
    }
   },
   "id": "4331269a59c12ef5",
   "execution_count": 14
  },
  {
   "cell_type": "code",
   "outputs": [
    {
     "data": {
      "text/plain": "<Figure size 1000x600 with 1 Axes>",
      "image/png": "[encoded data removed]"
     },
     "metadata": {},
     "output_type": "display_data"
    }
   ],
   "source": [
    "import matplotlib.pyplot as plt\n",
    "\n",
    "plt.figure(figsize=(10, 6))\n",
    "plt.hist(df_resampled['popularity'], bins=50, edgecolor='black')\n",
    "plt.title('Histogram of Movie Popularity')\n",
    "plt.xlabel('Popularity Score')\n",
    "plt.ylabel('Number of Movies')\n",
    "plt.grid(True)\n",
    "plt.savefig('histogram_popularity_simply_resampling_full.png')\n",
    "plt.show()"
   ],
   "metadata": {
    "collapsed": false,
    "ExecuteTime": {
     "end_time": "2025-05-03T14:15:36.275534Z",
     "start_time": "2025-05-03T14:15:36.064564Z"
    }
   },
   "id": "a3c520119accf5aa",
   "execution_count": 16
  },
  {
   "cell_type": "markdown",
   "source": [
    "SVM"
   ],
   "metadata": {
    "collapsed": false
   },
   "id": "ef536179213321ce"
  },
  {
   "cell_type": "code",
   "outputs": [
    {
     "name": "stdout",
     "output_type": "stream",
     "text": [
      "budget                int64\n",
      "runtime             float64\n",
      "vote_average        float64\n",
      "vote_count            int64\n",
      "revenue               int64\n",
      "release_year          int64\n",
      "genres_score        float64\n",
      "language_score      float64\n",
      "popularity_class      int64\n",
      "dtype: object\n"
     ]
    }
   ],
   "source": [
    "X = df_resampled.drop(columns=['popularity']).copy()\n",
    "y = df_resampled['popularity']\n",
    "\n",
    "print(X.dtypes)"
   ],
   "metadata": {
    "collapsed": false,
    "ExecuteTime": {
     "end_time": "2025-05-03T14:18:17.510920Z",
     "start_time": "2025-05-03T14:18:17.503478Z"
    }
   },
   "id": "cf0d0e79b65d45bf",
   "execution_count": 18
  },
  {
   "cell_type": "code",
   "outputs": [
    {
     "name": "stdout",
     "output_type": "stream",
     "text": [
      "R² score for each fold: [ 0.53471635  0.69683798  0.06850185  0.30912212 -0.13697223]\n",
      "Mean R² score: 0.29444121324625594\n"
     ]
    }
   ],
   "source": [
    "from sklearn.svm import SVR # if the import is needed only in one cell should we put it here or on the top? \n",
    "\n",
    "pipeline = Pipeline([\n",
    "    ('scaler', StandardScaler()),\n",
    "    ('svr', SVR())\n",
    "])\n",
    "    \n",
    "# 5-fold cross-validation (for R^2 score)\n",
    "scores = cross_val_score(pipeline, X, y, cv=5, scoring='r2')\n",
    "\n",
    "print(\"R² score for each fold:\", scores)\n",
    "print(\"Mean R² score:\", scores.mean())\n",
    "\n",
    "# we have to adjust metrics"
   ],
   "metadata": {
    "collapsed": false,
    "ExecuteTime": {
     "end_time": "2025-05-03T14:18:38.400067Z",
     "start_time": "2025-05-03T14:18:21.064890Z"
    }
   },
   "id": "a655a9a6bf9eea96",
   "execution_count": 19
  },
  {
   "cell_type": "markdown",
   "source": [
    "KNN"
   ],
   "metadata": {
    "collapsed": false
   },
   "id": "7eb3874d64404f31"
  },
  {
   "cell_type": "code",
   "outputs": [
    {
     "name": "stdout",
     "output_type": "stream",
     "text": [
      "R² score for each fold: [0.95642735 0.85879385 0.88217299 0.9948251  0.98116524]\n",
      "Mean R² score: 0.9346769070833154\n"
     ]
    }
   ],
   "source": [
    "from sklearn.neighbors import KNeighborsRegressor\n",
    "\n",
    "pipeline = Pipeline([\n",
    "    ('scaler', StandardScaler()),\n",
    "    ('knn', KNeighborsRegressor(n_neighbors=5))\n",
    "])\n",
    "\n",
    "scores = cross_val_score(pipeline, X, y, cv=5, scoring='r2')\n",
    "print(\"R² score for each fold:\", scores)\n",
    "print(\"Mean R² score:\", scores.mean())\n",
    "# we have to adjust metrics"
   ],
   "metadata": {
    "collapsed": false,
    "ExecuteTime": {
     "end_time": "2025-05-03T14:59:32.096810Z",
     "start_time": "2025-05-03T14:59:31.286710Z"
    }
   },
   "id": "564b4027196e7bb0",
   "execution_count": 20
  },
  {
   "cell_type": "code",
   "outputs": [],
   "source": [],
   "metadata": {
    "collapsed": false
   },
   "id": "11f267454b54bdc1"
  }
 ],
 "metadata": {
  "kernelspec": {
   "display_name": "Python 3",
   "language": "python",
   "name": "python3"
  },
  "language_info": {
   "codemirror_mode": {
    "name": "ipython",
    "version": 2
   },
   "file_extension": ".py",
   "mimetype": "text/x-python",
   "name": "python",
   "nbconvert_exporter": "python",
   "pygments_lexer": "ipython2",
   "version": "2.7.6"
  }
 },
 "nbformat": 4,
 "nbformat_minor": 5
}
