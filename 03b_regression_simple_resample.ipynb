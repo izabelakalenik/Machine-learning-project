{
 "cells": [
  {
   "cell_type": "code",
   "execution_count": 9,
   "id": "initial_id",
   "metadata": {
    "collapsed": true,
    "ExecuteTime": {
     "end_time": "2025-05-11T14:13:56.700340Z",
     "start_time": "2025-05-11T14:13:56.612727100Z"
    }
   },
   "outputs": [],
   "source": [
    "import pandas as pd\n",
    "import numpy as np\n",
    "from sklearn.model_selection import cross_val_score\n",
    "from sklearn.pipeline import Pipeline\n",
    "from sklearn.preprocessing import StandardScaler\n",
    "from custom_metrics import f_beta_regression\n",
    "from sklearn.metrics import mean_absolute_error, mean_squared_error\n",
    "from sklearn.model_selection import KFold\n"
   ]
  },
  {
   "cell_type": "code",
   "outputs": [],
   "source": [
    "df = pd.read_csv('cleaned_movies.csv')"
   ],
   "metadata": {
    "collapsed": false,
    "ExecuteTime": {
     "end_time": "2025-05-11T14:13:56.716380400Z",
     "start_time": "2025-05-11T14:13:56.626881100Z"
    }
   },
   "id": "77aeb9edfdc9dee",
   "execution_count": 10
  },
  {
   "cell_type": "markdown",
   "source": [
    "Simple Resampling - Random Oversampling"
   ],
   "metadata": {
    "collapsed": false
   },
   "id": "dbfa062fa8197135"
  },
  {
   "cell_type": "code",
   "outputs": [],
   "source": [
    "from imblearn.over_sampling import RandomOverSampler\n",
    "\n",
    "X = df.drop(columns=['genres', 'original_language', 'popularity_class']).copy()\n",
    "y = df['popularity_class']\n",
    "\n",
    "# should we add differt binding for oversampling?\n",
    "# in this type of resampling we need numeric feature I added the mean value, but maybe for different algorithm juz adding nr index instead of fore example genres will be better?\n",
    "\n",
    "ros = RandomOverSampler(random_state=42)\n",
    "X_resampled, y_resampled = ros.fit_resample(X, y)\n"
   ],
   "metadata": {
    "collapsed": false,
    "ExecuteTime": {
     "end_time": "2025-05-11T14:13:56.716380400Z",
     "start_time": "2025-05-11T14:13:56.661326400Z"
    }
   },
   "id": "224a5490eac08cb4",
   "execution_count": 11
  },
  {
   "cell_type": "code",
   "outputs": [],
   "source": [
    "df_resampled = pd.concat([X_resampled.reset_index(drop=True), \n",
    "                          pd.Series(y_resampled, name='popularity_class')], axis=1)\n"
   ],
   "metadata": {
    "collapsed": false,
    "ExecuteTime": {
     "end_time": "2025-05-11T14:13:56.732518600Z",
     "start_time": "2025-05-11T14:13:56.687781500Z"
    }
   },
   "id": "4331269a59c12ef5",
   "execution_count": 12
  },
  {
   "cell_type": "code",
   "outputs": [
    {
     "data": {
      "text/plain": "<Figure size 1000x600 with 1 Axes>",
      "image/png": "[encoded data removed]"
     },
     "metadata": {},
     "output_type": "display_data"
    }
   ],
   "source": [
    "import matplotlib.pyplot as plt\n",
    "\n",
    "plt.figure(figsize=(10, 6))\n",
    "plt.hist(df_resampled['popularity'], bins=50, edgecolor='black')\n",
    "plt.title('Histogram of Movie Popularity')\n",
    "plt.xlabel('Popularity Score')\n",
    "plt.ylabel('Number of Movies')\n",
    "plt.grid(True)\n",
    "plt.savefig('histogram_popularity_simply_resampling_full.png')\n",
    "plt.show()"
   ],
   "metadata": {
    "collapsed": false,
    "ExecuteTime": {
     "end_time": "2025-05-11T14:13:56.935608500Z",
     "start_time": "2025-05-11T14:13:56.700340Z"
    }
   },
   "id": "a3c520119accf5aa",
   "execution_count": 13
  },
  {
   "cell_type": "code",
   "outputs": [
    {
     "name": "stdout",
     "output_type": "stream",
     "text": [
      "budget                int64\n",
      "runtime             float64\n",
      "vote_average        float64\n",
      "vote_count            int64\n",
      "revenue               int64\n",
      "release_year          int64\n",
      "genres_score        float64\n",
      "language_score      float64\n",
      "popularity_class      int64\n",
      "dtype: object\n"
     ]
    }
   ],
   "source": [
    "X = df_resampled.drop(columns=['popularity']).copy()\n",
    "y = df_resampled['popularity']\n",
    "\n",
    "print(X.dtypes)"
   ],
   "metadata": {
    "collapsed": false,
    "ExecuteTime": {
     "end_time": "2025-05-11T14:13:56.946952700Z",
     "start_time": "2025-05-11T14:13:56.935608500Z"
    }
   },
   "id": "cf0d0e79b65d45bf",
   "execution_count": 14
  },
  {
   "cell_type": "markdown",
   "source": [
    "SVR"
   ],
   "metadata": {
    "collapsed": false
   },
   "id": "3fbb557222547f8e"
  },
  {
   "cell_type": "code",
   "outputs": [
    {
     "name": "stdout",
     "output_type": "stream",
     "text": [
      "R² score for each fold: [ 0.53471635  0.69683798  0.06850185  0.30912212 -0.13697223]\n",
      "Mean R² score: 0.29444121324625594\n"
     ]
    }
   ],
   "source": [
    "from sklearn.svm import SVR\n",
    "\n",
    "pipeline = Pipeline([\n",
    "    ('scaler', StandardScaler()),\n",
    "    ('svr', SVR())\n",
    "])\n",
    "    \n",
    "# 5-fold cross-validation (for R^2 score)\n",
    "scores = cross_val_score(pipeline, X, y, cv=5, scoring='r2')\n",
    "\n",
    "print(\"R² score for each fold:\", scores)\n",
    "print(\"Mean R² score:\", scores.mean())\n",
    "\n",
    "# we have to adjust metrics"
   ],
   "metadata": {
    "collapsed": false,
    "ExecuteTime": {
     "end_time": "2025-05-11T14:14:06.314287500Z",
     "start_time": "2025-05-11T14:13:56.946952700Z"
    }
   },
   "id": "a655a9a6bf9eea96",
   "execution_count": 15
  },
  {
   "cell_type": "code",
   "execution_count": 16,
   "outputs": [
    {
     "name": "stdout",
     "output_type": "stream",
     "text": [
      "\n",
      "Mean Absolute Error (per fold): [15.077634044775074, 12.35719859222911, 14.632946722621675, 17.168833841552544, 12.814042877750099]\n",
      "Mean MAE: 14.4101312157857\n",
      "\n",
      "Root Mean Squared Error (per fold): [np.float64(58.397616380070346), np.float64(40.042157375538544), np.float64(59.96183453319935), np.float64(66.10875568834007), np.float64(42.78199359577698)]\n",
      "Mean RMSE: 53.458471514585064\n"
     ]
    }
   ],
   "source": [
    "# SVR with other metrics - MAE and RMSE\n",
    "pipeline = Pipeline([\n",
    "    ('scaler', StandardScaler()),\n",
    "    ('svr', SVR())\n",
    "])\n",
    "\n",
    "kf = KFold(n_splits=5, shuffle=True, random_state=42)\n",
    "\n",
    "mae_scores = []\n",
    "rmse_scores = []\n",
    "\n",
    "for train_index, test_index in kf.split(X):\n",
    "    X_train, X_test = X.iloc[train_index], X.iloc[test_index]\n",
    "    y_train, y_test = y.iloc[train_index], y.iloc[test_index]\n",
    "\n",
    "    pipeline.fit(X_train, y_train)\n",
    "    y_pred = pipeline.predict(X_test)\n",
    "\n",
    "    # MAE\n",
    "    mae = mean_absolute_error(y_test, y_pred)\n",
    "    mae_scores.append(mae)\n",
    "\n",
    "    # RMSE\n",
    "    rmse = np.sqrt(mean_squared_error(y_test, y_pred))\n",
    "    rmse_scores.append(rmse)\n",
    "\n",
    "print(\"\\nMean Absolute Error (per fold):\", mae_scores)\n",
    "print(\"Mean MAE:\", np.mean(mae_scores))\n",
    "\n",
    "print(\"\\nRoot Mean Squared Error (per fold):\", rmse_scores)\n",
    "print(\"Mean RMSE:\", np.mean(rmse_scores))"
   ],
   "metadata": {
    "collapsed": false,
    "ExecuteTime": {
     "end_time": "2025-05-11T14:14:15.295555600Z",
     "start_time": "2025-05-11T14:14:06.314287500Z"
    }
   },
   "id": "f2446780e9ab430c"
  },
  {
   "cell_type": "code",
   "execution_count": 17,
   "outputs": [
    {
     "name": "stdout",
     "output_type": "stream",
     "text": [
      "F1 adapted for regression per fold: [np.float64(0.44788972157563817), np.float64(0.5099627318735896), np.float64(0.49957688396063105), np.float64(0.43939920620701467), np.float64(0.4993574393888082)]\n",
      "Mean F1 adapted for regression: 0.47923719660113634\n"
     ]
    }
   ],
   "source": [
    "# SVR with custom metric - F1 score for regression\n",
    "pipeline = Pipeline([\n",
    "    ('scaler', StandardScaler()),\n",
    "    ('svr', SVR())\n",
    "])\n",
    "\n",
    "kf = KFold(n_splits=5, shuffle=True, random_state=42)\n",
    "\n",
    "f1_reg_scores = []\n",
    "for train_index, test_index in kf.split(X):\n",
    "    X_train, X_test = X.iloc[train_index], X.iloc[test_index]\n",
    "    y_train, y_test = y.iloc[train_index], y.iloc[test_index]\n",
    "    \n",
    "    pipeline.fit(X_train, y_train)\n",
    "    y_pred = pipeline.predict(X_test)\n",
    "    \n",
    "    f1_reg = f_beta_regression(y_test.values, y_pred, beta=1.0, threshold=10)\n",
    "    f1_reg_scores.append(f1_reg)\n",
    "\n",
    "print(\"F1 adapted for regression per fold:\", f1_reg_scores)\n",
    "print(\"Mean F1 adapted for regression:\", np.mean(f1_reg_scores))"
   ],
   "metadata": {
    "collapsed": false,
    "ExecuteTime": {
     "end_time": "2025-05-11T14:14:24.454914500Z",
     "start_time": "2025-05-11T14:14:15.295555600Z"
    }
   },
   "id": "2bbda02a03691fc9"
  },
  {
   "cell_type": "markdown",
   "source": [
    "KNN"
   ],
   "metadata": {
    "collapsed": false
   },
   "id": "7eb3874d64404f31"
  },
  {
   "cell_type": "code",
   "outputs": [
    {
     "name": "stdout",
     "output_type": "stream",
     "text": [
      "R² score for each fold: [0.95642735 0.85879385 0.88217299 0.9948251  0.98116524]\n",
      "Mean R² score: 0.9346769070833154\n"
     ]
    }
   ],
   "source": [
    "from sklearn.neighbors import KNeighborsRegressor\n",
    "\n",
    "pipeline = Pipeline([\n",
    "    ('scaler', StandardScaler()),\n",
    "    ('knn', KNeighborsRegressor(n_neighbors=5))\n",
    "])\n",
    "\n",
    "scores = cross_val_score(pipeline, X, y, cv=5, scoring='r2')\n",
    "print(\"R² score for each fold:\", scores)\n",
    "print(\"Mean R² score:\", scores.mean())\n",
    "# we have to adjust metrics"
   ],
   "metadata": {
    "collapsed": false,
    "ExecuteTime": {
     "end_time": "2025-05-11T14:14:24.667497900Z",
     "start_time": "2025-05-11T14:14:24.457441800Z"
    }
   },
   "id": "564b4027196e7bb0",
   "execution_count": 18
  },
  {
   "cell_type": "code",
   "outputs": [
    {
     "name": "stdout",
     "output_type": "stream",
     "text": [
      "\n",
      "Mean Absolute Error (per fold): [3.293519258887089, 3.4096538452728264, 3.272075393949217, 3.303708327714749, 3.1305558165316048]\n",
      "Mean MAE: 3.2819025284710976\n",
      "\n",
      "Root Mean Squared Error (per fold): [np.float64(6.0603120490743), np.float64(5.665479904147226), np.float64(6.569890824654554), np.float64(5.774435439638923), np.float64(5.3123280977816325)]\n",
      "Mean RMSE: 5.876489263059327\n"
     ]
    }
   ],
   "source": [
    "# KNN with other metrics - MAE and RMSE\n",
    "pipeline = Pipeline([\n",
    "    ('scaler', StandardScaler()),\n",
    "    ('knn', KNeighborsRegressor(n_neighbors=5))\n",
    "])\n",
    "\n",
    "kf = KFold(n_splits=5, shuffle=True, random_state=42)\n",
    "\n",
    "mae_scores = []\n",
    "rmse_scores = []\n",
    "\n",
    "for train_index, test_index in kf.split(X):\n",
    "    X_train, X_test = X.iloc[train_index], X.iloc[test_index]\n",
    "    y_train, y_test = y.iloc[train_index], y.iloc[test_index]\n",
    "\n",
    "    pipeline.fit(X_train, y_train)\n",
    "    y_pred = pipeline.predict(X_test)\n",
    "\n",
    "    mae = mean_absolute_error(y_test, y_pred)\n",
    "    mae_scores.append(mae)\n",
    "\n",
    "    rmse = np.sqrt(mean_squared_error(y_test, y_pred))\n",
    "    rmse_scores.append(rmse)\n",
    "\n",
    "\n",
    "print(\"\\nMean Absolute Error (per fold):\", mae_scores)\n",
    "print(\"Mean MAE:\", np.mean(mae_scores))\n",
    "\n",
    "print(\"\\nRoot Mean Squared Error (per fold):\", rmse_scores)\n",
    "print(\"Mean RMSE:\", np.mean(rmse_scores))"
   ],
   "metadata": {
    "collapsed": false,
    "ExecuteTime": {
     "end_time": "2025-05-11T14:14:24.879754900Z",
     "start_time": "2025-05-11T14:14:24.668668400Z"
    }
   },
   "id": "11f267454b54bdc1",
   "execution_count": 19
  },
  {
   "cell_type": "code",
   "execution_count": 20,
   "outputs": [
    {
     "name": "stdout",
     "output_type": "stream",
     "text": [
      "\n",
      "F1 adapted for regression (per fold): [np.float64(0.9427283829635011), np.float64(0.9308329960561864), np.float64(0.9510342260550916), np.float64(0.9434429117932543), np.float64(0.9503640873621011)]\n",
      "Mean F1 adapted for regression: 0.9436805208460269\n"
     ]
    }
   ],
   "source": [
    "# KNN with custom metric - F1 score for regression\n",
    "pipeline = Pipeline([\n",
    "    ('scaler', StandardScaler()),\n",
    "    ('knn', KNeighborsRegressor(n_neighbors=5))\n",
    "])\n",
    "\n",
    "kf = KFold(n_splits=5, shuffle=True, random_state=42)\n",
    "\n",
    "f1_reg_scores = []\n",
    "\n",
    "for train_index, test_index in kf.split(X):\n",
    "    X_train, X_test = X.iloc[train_index], X.iloc[test_index]\n",
    "    y_train, y_test = y.iloc[train_index], y.iloc[test_index]\n",
    "\n",
    "    pipeline.fit(X_train, y_train)\n",
    "    y_pred = pipeline.predict(X_test)\n",
    "\n",
    "    f1_reg = f_beta_regression(y_test.values, y_pred, beta=1.0, threshold=10)\n",
    "    f1_reg_scores.append(f1_reg)\n",
    "\n",
    "print(\"\\nF1 adapted for regression (per fold):\", f1_reg_scores)\n",
    "print(\"Mean F1 adapted for regression:\", np.mean(f1_reg_scores))"
   ],
   "metadata": {
    "collapsed": false,
    "ExecuteTime": {
     "end_time": "2025-05-11T14:14:25.100202800Z",
     "start_time": "2025-05-11T14:14:24.879754900Z"
    }
   },
   "id": "ba1330d1cae5633c"
  },
  {
   "cell_type": "markdown",
   "source": [
    "DECISION TREE"
   ],
   "metadata": {
    "collapsed": false
   },
   "id": "9993251a9692f214"
  },
  {
   "cell_type": "code",
   "execution_count": 21,
   "outputs": [
    {
     "name": "stdout",
     "output_type": "stream",
     "text": [
      "R² score per fold: [0.98257248 0.93401854 0.98100562 1.         1.        ]\n",
      "Mean R² score: 0.9795193282307982\n"
     ]
    }
   ],
   "source": [
    "from sklearn.tree import DecisionTreeRegressor\n",
    "\n",
    "pipeline = Pipeline([\n",
    "    ('tree', DecisionTreeRegressor(random_state=42))\n",
    "])\n",
    "\n",
    "r2_scores = cross_val_score(pipeline, X, y, cv=5, scoring='r2')\n",
    "print(\"R² score per fold:\", r2_scores)\n",
    "print(\"Mean R² score:\", np.mean(r2_scores))\n"
   ],
   "metadata": {
    "collapsed": false,
    "ExecuteTime": {
     "end_time": "2025-05-11T14:14:25.270233200Z",
     "start_time": "2025-05-11T14:14:25.100202800Z"
    }
   },
   "id": "f151497e30dbe8b"
  },
  {
   "cell_type": "code",
   "execution_count": 22,
   "outputs": [
    {
     "name": "stdout",
     "output_type": "stream",
     "text": [
      "\n",
      "Mean Absolute Error (per fold): [1.6110113522420386, 1.4522117547271807, 1.470895240950845, 1.462672854403034, 1.440568466234475]\n",
      "Mean MAE: 1.4874719337115145\n",
      "\n",
      "Root Mean Squared Error (per fold): [np.float64(4.2056159678370095), np.float64(3.6297358725184337), np.float64(3.9852765097530267), np.float64(3.807232911309099), np.float64(3.459617807902081)]\n",
      "Mean RMSE: 3.8174958138639297\n"
     ]
    }
   ],
   "source": [
    "# Decision Tree with other metrics - MAE and RMSE\n",
    "pipeline = Pipeline([\n",
    "    ('tree', DecisionTreeRegressor(random_state=42))\n",
    "])\n",
    "\n",
    "kf = KFold(n_splits=5, shuffle=True, random_state=42)\n",
    "\n",
    "mae_scores = []\n",
    "rmse_scores = []\n",
    "\n",
    "for train_index, test_index in kf.split(X):\n",
    "    X_train, X_test = X.iloc[train_index], X.iloc[test_index]\n",
    "    y_train, y_test = y.iloc[train_index], y.iloc[test_index]\n",
    "\n",
    "    pipeline.fit(X_train, y_train)\n",
    "    y_pred = pipeline.predict(X_test)\n",
    "\n",
    "    mae = mean_absolute_error(y_test, y_pred)\n",
    "    mae_scores.append(mae)\n",
    "\n",
    "    rmse = np.sqrt(mean_squared_error(y_test, y_pred))\n",
    "    rmse_scores.append(rmse)\n",
    "\n",
    "print(\"\\nMean Absolute Error (per fold):\", mae_scores)\n",
    "print(\"Mean MAE:\", np.mean(mae_scores))\n",
    "\n",
    "print(\"\\nRoot Mean Squared Error (per fold):\", rmse_scores)\n",
    "print(\"Mean RMSE:\", np.mean(rmse_scores))"
   ],
   "metadata": {
    "collapsed": false,
    "ExecuteTime": {
     "end_time": "2025-05-11T14:14:25.441019600Z",
     "start_time": "2025-05-11T14:14:25.270233200Z"
    }
   },
   "id": "344facfef82d3343"
  },
  {
   "cell_type": "code",
   "execution_count": 23,
   "outputs": [
    {
     "name": "stdout",
     "output_type": "stream",
     "text": [
      "\n",
      "F1 adapted for regression (per fold): [np.float64(0.9739804381206484), np.float64(0.9770344683152296), np.float64(0.9788908813354875), np.float64(0.9757832333180552), np.float64(0.9816241569916906)]\n",
      "Mean F1 adapted for regression: 0.9774626356162223\n"
     ]
    }
   ],
   "source": [
    "# Decision Tree with custom metric - F1 score for regression\n",
    "pipeline = Pipeline([\n",
    "    ('tree', DecisionTreeRegressor(random_state=42))\n",
    "])\n",
    "\n",
    "f1_reg_scores = []\n",
    "\n",
    "for train_index, test_index in kf.split(X):\n",
    "    X_train, X_test = X.iloc[train_index], X.iloc[test_index]\n",
    "    y_train, y_test = y.iloc[train_index], y.iloc[test_index]\n",
    "\n",
    "    pipeline.fit(X_train, y_train)\n",
    "    y_pred = pipeline.predict(X_test)\n",
    "\n",
    "    f1_reg = f_beta_regression(y_test.values, y_pred, beta=1.0, threshold=10)\n",
    "    f1_reg_scores.append(f1_reg)\n",
    "\n",
    "print(\"\\nF1 adapted for regression (per fold):\", f1_reg_scores)\n",
    "print(\"Mean F1 adapted for regression:\", np.mean(f1_reg_scores))"
   ],
   "metadata": {
    "collapsed": false,
    "ExecuteTime": {
     "end_time": "2025-05-11T14:14:25.606187200Z",
     "start_time": "2025-05-11T14:14:25.441019600Z"
    }
   },
   "id": "973b05ca38f3a28d"
  },
  {
   "cell_type": "markdown",
   "source": [
    "MULTILAYER PERCEPTRON (MLP)"
   ],
   "metadata": {
    "collapsed": false
   },
   "id": "e50f49db9579b831"
  },
  {
   "cell_type": "code",
   "execution_count": 24,
   "outputs": [
    {
     "name": "stdout",
     "output_type": "stream",
     "text": [
      "R² score per fold: [0.93436654 0.76640022 0.84344832 0.99199195 0.99360536]\n",
      "Mean R² score: 0.9059624805656817\n"
     ]
    }
   ],
   "source": [
    "from sklearn.neural_network import MLPRegressor\n",
    "\n",
    "pipeline = Pipeline([\n",
    "    ('scaler', StandardScaler()),\n",
    "    ('mlp', MLPRegressor(hidden_layer_sizes=(100, 50), max_iter=1000, early_stopping=True, random_state=42))\n",
    "])\n",
    "\n",
    "r2_scores = cross_val_score(pipeline, X, y, cv=5, scoring='r2')\n",
    "print(\"R² score per fold:\", r2_scores)\n",
    "print(\"Mean R² score:\", np.mean(r2_scores))"
   ],
   "metadata": {
    "collapsed": false,
    "ExecuteTime": {
     "end_time": "2025-05-11T14:15:19.113151900Z",
     "start_time": "2025-05-11T14:14:25.611706400Z"
    }
   },
   "id": "434663126efd4fe3"
  },
  {
   "cell_type": "code",
   "execution_count": 25,
   "outputs": [
    {
     "name": "stdout",
     "output_type": "stream",
     "text": [
      "\n",
      "Mean Absolute Error (per fold): [4.211836916386989, 4.541283683527086, 4.2313117596241065, 4.203907553428462, 4.583608227576914]\n",
      "Mean MAE: 4.354389628108711\n",
      "\n",
      "Root Mean Squared Error (per fold): [np.float64(9.262466922815218), np.float64(7.431883326654031), np.float64(7.668076471252019), np.float64(6.442277938681833), np.float64(9.185652361906063)]\n",
      "Mean RMSE: 7.998071404261833\n"
     ]
    }
   ],
   "source": [
    "# MLP with other metrics - MAE and RMSE\n",
    "pipeline = Pipeline([\n",
    "    ('scaler', StandardScaler()),\n",
    "    ('mlp', MLPRegressor(hidden_layer_sizes=(100, 50), max_iter=1000, early_stopping=True, random_state=42))\n",
    "])\n",
    "\n",
    "kf = KFold(n_splits=5, shuffle=True, random_state=42)\n",
    "\n",
    "mae_scores = []\n",
    "rmse_scores = []\n",
    "\n",
    "for train_index, test_index in kf.split(X):\n",
    "    X_train, X_test = X.iloc[train_index], X.iloc[test_index]\n",
    "    y_train, y_test = y.iloc[train_index], y.iloc[test_index]\n",
    "\n",
    "    pipeline.fit(X_train, y_train)\n",
    "    y_pred = pipeline.predict(X_test)\n",
    "\n",
    "    mae = mean_absolute_error(y_test, y_pred)\n",
    "    mae_scores.append(mae)\n",
    "\n",
    "    rmse = np.sqrt(mean_squared_error(y_test, y_pred))\n",
    "    rmse_scores.append(rmse)\n",
    "\n",
    "print(\"\\nMean Absolute Error (per fold):\", mae_scores)\n",
    "print(\"Mean MAE:\", np.mean(mae_scores))\n",
    "\n",
    "print(\"\\nRoot Mean Squared Error (per fold):\", rmse_scores)\n",
    "print(\"Mean RMSE:\", np.mean(rmse_scores))\n"
   ],
   "metadata": {
    "collapsed": false,
    "ExecuteTime": {
     "end_time": "2025-05-11T14:16:13.670337200Z",
     "start_time": "2025-05-11T14:15:19.113151900Z"
    }
   },
   "id": "a04e82bfc08a5d20"
  },
  {
   "cell_type": "code",
   "execution_count": 26,
   "outputs": [
    {
     "name": "stdout",
     "output_type": "stream",
     "text": [
      "\n",
      "F1 adapted for regression (per fold): [np.float64(0.9192153544987184), np.float64(0.8715620724122217), np.float64(0.9070565488630834), np.float64(0.9099053069078484), np.float64(0.8969946133933434)]\n",
      "Mean F1 adapted for regression: 0.9009467792150432\n"
     ]
    }
   ],
   "source": [
    "# MLP with custom metric - F1 score for regression\n",
    "pipeline = Pipeline([\n",
    "    ('scaler', StandardScaler()),\n",
    "    ('mlp', MLPRegressor(hidden_layer_sizes=(100, 50), max_iter=1000, early_stopping=True, random_state=42))\n",
    "])\n",
    "\n",
    "f1_reg_scores = []\n",
    "\n",
    "for train_index, test_index in kf.split(X):\n",
    "    X_train, X_test = X.iloc[train_index], X.iloc[test_index]\n",
    "    y_train, y_test = y.iloc[train_index], y.iloc[test_index]\n",
    "\n",
    "    pipeline.fit(X_train, y_train)\n",
    "    y_pred = pipeline.predict(X_test)\n",
    "\n",
    "    f1_reg = f_beta_regression(y_test.values, y_pred, beta=1.0, threshold=10)\n",
    "    f1_reg_scores.append(f1_reg)\n",
    "\n",
    "print(\"\\nF1 adapted for regression (per fold):\", f1_reg_scores)\n",
    "print(\"Mean F1 adapted for regression:\", np.mean(f1_reg_scores))"
   ],
   "metadata": {
    "collapsed": false,
    "ExecuteTime": {
     "end_time": "2025-05-11T14:17:20.225424500Z",
     "start_time": "2025-05-11T14:16:13.675619400Z"
    }
   },
   "id": "8824549b81d2b2a3"
  }
 ],
 "metadata": {
  "kernelspec": {
   "display_name": "Python 3",
   "language": "python",
   "name": "python3"
  },
  "language_info": {
   "codemirror_mode": {
    "name": "ipython",
    "version": 2
   },
   "file_extension": ".py",
   "mimetype": "text/x-python",
   "name": "python",
   "nbconvert_exporter": "python",
   "pygments_lexer": "ipython2",
   "version": "2.7.6"
  }
 },
 "nbformat": 4,
 "nbformat_minor": 5
}
